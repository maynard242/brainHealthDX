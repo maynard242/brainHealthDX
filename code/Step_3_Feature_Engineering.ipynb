{
 "cells": [
  {
   "cell_type": "markdown",
   "metadata": {},
   "source": [
    "# Step 3. Feature Engineering\n",
    "\n",
    "verion 2.0, August 1a\n",
    "2018\n",
    "\n",
    "1. List of possible features\n",
    "2. Process ADAMS sub-sample\n",
    "3. Process HRS 2000 data\n",
    "\n",
    "**FINAL DATASET and FEATURES: `model_data_hrs.csv`**\n"
   ]
  },
  {
   "cell_type": "code",
   "execution_count": 1,
   "metadata": {},
   "outputs": [],
   "source": [
    "%load_ext autoreload\n",
    "%autoreload 2\n",
    "\n",
    "import pandas as pd\n",
    "import numpy as np\n",
    "import scipy as sp\n",
    "\n",
    "import matplotlib\n",
    "import matplotlib.pyplot as plt\n",
    "import seaborn as sns\n",
    "\n",
    "import recode_functions as rf\n",
    "\n",
    "LOCAL_DIR = '/home/jovyan/notebook/'\n"
   ]
  },
  {
   "cell_type": "markdown",
   "metadata": {},
   "source": [
    "## A. Basic Features"
   ]
  },
  {
   "cell_type": "code",
   "execution_count": 2,
   "metadata": {},
   "outputs": [],
   "source": [
    "header = ['hhidpn', \n",
    "          'brain_health_diag1', \n",
    "          'brain_health_diag2',\n",
    "          'brain_health_1', \n",
    "          'brain_health_2',\n",
    "          'brain_health_3',\n",
    "          'total_cog', 'total_recall', 'serial7','tics','backwards_20','immediate_recall','delayed_recall',\n",
    "          'g1101',  # age\n",
    "          'g1074a', # education yrs\n",
    "          'g1158',  # marital status\n",
    "          'g1092a', # race\n",
    "          'g1087', #### dad's education\n",
    "          'g1088', #### mother's education\n",
    "          'g1085',  #### Added lived with grandparents\n",
    "          'g1142',  #### Importance of religion\n",
    "         ]"
   ]
  },
  {
   "cell_type": "markdown",
   "metadata": {},
   "source": [
    "## B. ADAMS Sub-Sample\n",
    "\n",
    "(Note the full sample n = 1770 and one with respondents n = 856)\n",
    "\n",
    "### Loading Data"
   ]
  },
  {
   "cell_type": "code",
   "execution_count": 3,
   "metadata": {},
   "outputs": [],
   "source": [
    "# Load data \n",
    "#table_full = pd.read_csv('/home/levi/data/brainFitDx/data/sample/final_adams_hrs_combined.csv')\n",
    "table_small = pd.read_csv(LOCAL_DIR + 'brainFitDx/data/sample/final_adams_hrs_combined_small.csv')"
   ]
  },
  {
   "cell_type": "code",
   "execution_count": 4,
   "metadata": {},
   "outputs": [],
   "source": [
    "#table_full.info()"
   ]
  },
  {
   "cell_type": "code",
   "execution_count": 5,
   "metadata": {},
   "outputs": [
    {
     "name": "stdout",
     "output_type": "stream",
     "text": [
      "<class 'pandas.core.frame.DataFrame'>\n",
      "RangeIndex: 856 entries, 0 to 855\n",
      "Columns: 13502 entries, HHID to brain_health_3\n",
      "dtypes: float64(13391), int64(87), object(24)\n",
      "memory usage: 88.2+ MB\n"
     ]
    }
   ],
   "source": [
    "table_small.info()"
   ]
  },
  {
   "cell_type": "code",
   "execution_count": 6,
   "metadata": {},
   "outputs": [],
   "source": [
    "#table_full.loc[:,['hhidpn', 'ADCCDX1', 'ADFDX1','brain_health_1','brain_health_2','brain_health_3',\n",
    "#                  'total_cog', 'total_recall', 'serial7','tics']].head(5)"
   ]
  },
  {
   "cell_type": "code",
   "execution_count": 7,
   "metadata": {},
   "outputs": [
    {
     "data": {
      "text/html": [
       "<div>\n",
       "<style scoped>\n",
       "    .dataframe tbody tr th:only-of-type {\n",
       "        vertical-align: middle;\n",
       "    }\n",
       "\n",
       "    .dataframe tbody tr th {\n",
       "        vertical-align: top;\n",
       "    }\n",
       "\n",
       "    .dataframe thead th {\n",
       "        text-align: right;\n",
       "    }\n",
       "</style>\n",
       "<table border=\"1\" class=\"dataframe\">\n",
       "  <thead>\n",
       "    <tr style=\"text-align: right;\">\n",
       "      <th></th>\n",
       "      <th>hhidpn</th>\n",
       "      <th>ADCCDX1</th>\n",
       "      <th>ADFDX1</th>\n",
       "      <th>brain_health_1</th>\n",
       "      <th>brain_health_2</th>\n",
       "      <th>brain_health_3</th>\n",
       "      <th>total_cog</th>\n",
       "      <th>total_recall</th>\n",
       "      <th>serial7</th>\n",
       "      <th>tics</th>\n",
       "    </tr>\n",
       "  </thead>\n",
       "  <tbody>\n",
       "    <tr>\n",
       "      <th>0</th>\n",
       "      <td>10059030</td>\n",
       "      <td>31.0</td>\n",
       "      <td>31.0</td>\n",
       "      <td>1</td>\n",
       "      <td>2</td>\n",
       "      <td>1</td>\n",
       "      <td>0.0</td>\n",
       "      <td>0</td>\n",
       "      <td>0</td>\n",
       "      <td>0.0</td>\n",
       "    </tr>\n",
       "    <tr>\n",
       "      <th>1</th>\n",
       "      <td>12513010</td>\n",
       "      <td>21.0</td>\n",
       "      <td>21.0</td>\n",
       "      <td>0</td>\n",
       "      <td>1</td>\n",
       "      <td>1</td>\n",
       "      <td>16.0</td>\n",
       "      <td>7</td>\n",
       "      <td>0</td>\n",
       "      <td>9.0</td>\n",
       "    </tr>\n",
       "    <tr>\n",
       "      <th>2</th>\n",
       "      <td>12588020</td>\n",
       "      <td>31.0</td>\n",
       "      <td>31.0</td>\n",
       "      <td>0</td>\n",
       "      <td>0</td>\n",
       "      <td>0</td>\n",
       "      <td>26.0</td>\n",
       "      <td>11</td>\n",
       "      <td>5</td>\n",
       "      <td>10.0</td>\n",
       "    </tr>\n",
       "    <tr>\n",
       "      <th>3</th>\n",
       "      <td>13140010</td>\n",
       "      <td>31.0</td>\n",
       "      <td>31.0</td>\n",
       "      <td>0</td>\n",
       "      <td>0</td>\n",
       "      <td>0</td>\n",
       "      <td>24.0</td>\n",
       "      <td>12</td>\n",
       "      <td>2</td>\n",
       "      <td>10.0</td>\n",
       "    </tr>\n",
       "    <tr>\n",
       "      <th>4</th>\n",
       "      <td>13857010</td>\n",
       "      <td>31.0</td>\n",
       "      <td>31.0</td>\n",
       "      <td>0</td>\n",
       "      <td>0</td>\n",
       "      <td>0</td>\n",
       "      <td>23.0</td>\n",
       "      <td>11</td>\n",
       "      <td>3</td>\n",
       "      <td>9.0</td>\n",
       "    </tr>\n",
       "  </tbody>\n",
       "</table>\n",
       "</div>"
      ],
      "text/plain": [
       "     hhidpn  ADCCDX1  ADFDX1  brain_health_1  brain_health_2  brain_health_3  \\\n",
       "0  10059030     31.0    31.0               1               2               1   \n",
       "1  12513010     21.0    21.0               0               1               1   \n",
       "2  12588020     31.0    31.0               0               0               0   \n",
       "3  13140010     31.0    31.0               0               0               0   \n",
       "4  13857010     31.0    31.0               0               0               0   \n",
       "\n",
       "   total_cog  total_recall  serial7  tics  \n",
       "0        0.0             0        0   0.0  \n",
       "1       16.0             7        0   9.0  \n",
       "2       26.0            11        5  10.0  \n",
       "3       24.0            12        2  10.0  \n",
       "4       23.0            11        3   9.0  "
      ]
     },
     "execution_count": 7,
     "metadata": {},
     "output_type": "execute_result"
    }
   ],
   "source": [
    "table_small.loc[:,['hhidpn', 'ADCCDX1', 'ADFDX1','brain_health_1','brain_health_2','brain_health_3',\n",
    "                  'total_cog', 'total_recall', 'serial7','tics']].head(5)"
   ]
  },
  {
   "cell_type": "markdown",
   "metadata": {},
   "source": [
    "### Recoding features"
   ]
  },
  {
   "cell_type": "markdown",
   "metadata": {},
   "source": [
    "* ADAMS diagnosis, `ADFXD1, brain_health_diag1, brain_health_diag2`"
   ]
  },
  {
   "cell_type": "code",
   "execution_count": 8,
   "metadata": {},
   "outputs": [],
   "source": [
    "df = table_small"
   ]
  },
  {
   "cell_type": "code",
   "execution_count": 9,
   "metadata": {},
   "outputs": [],
   "source": [
    "# recode dementia diagnosis (3 levels)\n",
    "# normal: 31\n",
    "# cognitive impairment: 20-30, 32, 33\n",
    "# dementia: 1-19\n",
    "\n",
    "brain_health_diag1=rf.initialize_series(df)\n",
    "indices=rf.get_indices([df['ADFDX1'].between(1,19), # 2: dementia \n",
    "                        (df['ADFDX1'].between(20,30))|(df['ADFDX1'].between(32,33)) # 1: cognitive impairment\n",
    "                       ])\n",
    "brain_health_diag1=rf.update_series(brain_health_diag1, indices, values=[2, 1]) # 0: normal"
   ]
  },
  {
   "cell_type": "code",
   "execution_count": 10,
   "metadata": {},
   "outputs": [
    {
     "data": {
      "text/plain": [
       "2    308\n",
       "0    307\n",
       "1    241\n",
       "dtype: int64"
      ]
     },
     "execution_count": 10,
     "metadata": {},
     "output_type": "execute_result"
    }
   ],
   "source": [
    "brain_health_diag1.value_counts()"
   ]
  },
  {
   "cell_type": "code",
   "execution_count": 11,
   "metadata": {},
   "outputs": [],
   "source": [
    "# recode dementia diagnosis (2 levels)\n",
    "# normal\n",
    "# non-normal (cognitive impairment, dementia)\n",
    "brain_health_diag2=rf.initialize_series(df)\n",
    "indices=rf.get_indices([brain_health_diag1.between(1,2)])\n",
    "brain_health_diag2=rf.update_series(brain_health_diag2, indices, values=[1]) # 1: non-normal   "
   ]
  },
  {
   "cell_type": "code",
   "execution_count": 12,
   "metadata": {},
   "outputs": [
    {
     "data": {
      "text/plain": [
       "1    549\n",
       "0    307\n",
       "dtype: int64"
      ]
     },
     "execution_count": 12,
     "metadata": {},
     "output_type": "execute_result"
    }
   ],
   "source": [
    "brain_health_diag2.value_counts()"
   ]
  },
  {
   "cell_type": "code",
   "execution_count": 13,
   "metadata": {},
   "outputs": [],
   "source": [
    "df['brain_health_diag1'] = brain_health_diag1\n",
    "df['brain_health_diag2'] = brain_health_diag2"
   ]
  },
  {
   "cell_type": "code",
   "execution_count": 14,
   "metadata": {},
   "outputs": [
    {
     "data": {
      "text/plain": [
       "<matplotlib.axes._subplots.AxesSubplot at 0x7f1548ae1e48>"
      ]
     },
     "execution_count": 14,
     "metadata": {},
     "output_type": "execute_result"
    },
    {
     "data": {
      "image/png": "[encoded data removed]",
      "text/plain": [
       "<Figure size 432x288 with 1 Axes>"
      ]
     },
     "metadata": {},
     "output_type": "display_data"
    }
   ],
   "source": [
    "df['brain_health_diag2'].plot.hist()"
   ]
  },
  {
   "cell_type": "code",
   "execution_count": 15,
   "metadata": {},
   "outputs": [
    {
     "data": {
      "text/plain": [
       "<matplotlib.axes._subplots.AxesSubplot at 0x7f15481a2ef0>"
      ]
     },
     "execution_count": 15,
     "metadata": {},
     "output_type": "execute_result"
    },
    {
     "data": {
      "image/png": "[encoded data removed]",
      "text/plain": [
       "<Figure size 432x288 with 1 Axes>"
      ]
     },
     "metadata": {},
     "output_type": "display_data"
    }
   ],
   "source": [
    "df['brain_health_3'].plot.hist()"
   ]
  },
  {
   "cell_type": "markdown",
   "metadata": {},
   "source": [
    "* Demographic variables"
   ]
  },
  {
   "cell_type": "code",
   "execution_count": 16,
   "metadata": {},
   "outputs": [
    {
     "data": {
      "text/plain": [
       "10"
      ]
     },
     "execution_count": 16,
     "metadata": {},
     "output_type": "execute_result"
    }
   ],
   "source": [
    "df['g1074a'].isnull().sum()"
   ]
  },
  {
   "cell_type": "markdown",
   "metadata": {},
   "source": [
    "**Note the 10 (full sample 35) participants who don't have HRS 2000 data. DROP AT END **"
   ]
  },
  {
   "cell_type": "code",
   "execution_count": 17,
   "metadata": {},
   "outputs": [],
   "source": [
    "#df = df.loc[df['g1101'].notna(),:]"
   ]
  },
  {
   "cell_type": "code",
   "execution_count": 18,
   "metadata": {},
   "outputs": [
    {
     "data": {
      "text/plain": [
       "array([  72.,   69.,   68.,   82.,   nan,   77.,   73.,   70.,   76.,\n",
       "         74.,   67.,   71.,   75.,   80.,   78.,   79.,   85.,   93.,\n",
       "         87.,   81.,   86.,   98.,  104.,   89.,   88.,   92.,   95.,\n",
       "         83.,   84.,   91.,   94.,   90.,   96.,  102.,  100.,   97.,  107.])"
      ]
     },
     "execution_count": 18,
     "metadata": {},
     "output_type": "execute_result"
    }
   ],
   "source": [
    "# Age\n",
    "df['g1101'].unique()"
   ]
  },
  {
   "cell_type": "code",
   "execution_count": 19,
   "metadata": {},
   "outputs": [
    {
     "data": {
      "text/plain": [
       "12.0    189\n",
       "8.0      96\n",
       "10.0     61\n",
       "14.0     54\n",
       "17.0     51\n",
       "13.0     49\n",
       "9.0      43\n",
       "16.0     42\n",
       "11.0     41\n",
       "0.0      39\n",
       "3.0      30\n",
       "7.0      29\n",
       "4.0      28\n",
       "5.0      27\n",
       "6.0      22\n",
       "15.0     21\n",
       "2.0      14\n",
       "1.0       7\n",
       "97.0      3\n",
       "Name: g1074a, dtype: int64"
      ]
     },
     "execution_count": 19,
     "metadata": {},
     "output_type": "execute_result"
    }
   ],
   "source": [
    "# Yr of education\n",
    "df['g1074a'].unique()\n",
    "df['g1074a'].value_counts()"
   ]
  },
  {
   "cell_type": "code",
   "execution_count": 20,
   "metadata": {},
   "outputs": [
    {
     "data": {
      "text/plain": [
       "12.0    189\n",
       "8.0      96\n",
       "10.0     61\n",
       "14.0     54\n",
       "17.0     51\n",
       "13.0     49\n",
       "9.0      43\n",
       "16.0     42\n",
       "0.0      42\n",
       "11.0     41\n",
       "3.0      30\n",
       "7.0      29\n",
       "4.0      28\n",
       "5.0      27\n",
       "6.0      22\n",
       "15.0     21\n",
       "2.0      14\n",
       "1.0       7\n",
       "Name: g1074a, dtype: int64"
      ]
     },
     "execution_count": 20,
     "metadata": {},
     "output_type": "execute_result"
    }
   ],
   "source": [
    "# recode\n",
    "df.loc[:,'g1074a'].replace(to_replace=97., value=0,inplace=True)\n",
    "df['g1074a'].value_counts()"
   ]
  },
  {
   "cell_type": "code",
   "execution_count": 21,
   "metadata": {},
   "outputs": [
    {
     "data": {
      "text/plain": [
       "2    460\n",
       "1    363\n",
       "3     20\n",
       "0     13\n",
       "dtype: int64"
      ]
     },
     "execution_count": 21,
     "metadata": {},
     "output_type": "execute_result"
    }
   ],
   "source": [
    "# recode marital status (G1158)\n",
    "marital_status = rf.initialize_series(df)\n",
    "indices = rf.get_indices([df['g1158']==1, # 1: married \n",
    "                        df['g1158'].between(3,5), # 2: separated/divorced/widowed\n",
    "                        df['g1158']==6  # 3: never married\n",
    "                       ]) \n",
    "marital_status = rf.update_series(marital_status, indices, values=[1,2,3]) # 0: don't know/other\n",
    "marital_status.unique()\n",
    "marital_status.value_counts()"
   ]
  },
  {
   "cell_type": "code",
   "execution_count": 22,
   "metadata": {},
   "outputs": [
    {
     "data": {
      "text/plain": [
       "2    460\n",
       "1    363\n",
       "3     20\n",
       "0     13\n",
       "Name: g1158, dtype: int64"
      ]
     },
     "execution_count": 22,
     "metadata": {},
     "output_type": "execute_result"
    }
   ],
   "source": [
    "df.loc[:,'g1158'] = marital_status\n",
    "df['g1158'].value_counts()"
   ]
  },
  {
   "cell_type": "code",
   "execution_count": 23,
   "metadata": {},
   "outputs": [
    {
     "data": {
      "text/plain": [
       "1.0    649\n",
       "2.0    163\n",
       "7.0     34\n",
       "Name: g1092a, dtype: int64"
      ]
     },
     "execution_count": 23,
     "metadata": {},
     "output_type": "execute_result"
    }
   ],
   "source": [
    "# examine race \n",
    "df['g1092a'].value_counts() # 82 missing values?"
   ]
  },
  {
   "cell_type": "code",
   "execution_count": 24,
   "metadata": {
    "collapsed": true
   },
   "outputs": [
    {
     "data": {
      "text/plain": [
       "1    583\n",
       "2    158\n",
       "3     84\n",
       "4     31\n",
       "dtype: int64"
      ]
     },
     "execution_count": 24,
     "metadata": {},
     "output_type": "execute_result"
    }
   ],
   "source": [
    "# recode race (G1092A)\n",
    "race=rf.initialize_series(df)\n",
    "indices=rf.get_indices([df['g1092a']==1, # 1: white\n",
    "                        df['g1092a']==2, # 2: black\n",
    "                        df['g1089a']==1, # 3: hispanic\n",
    "                        (df['g1089a']==5) & (df['g1092a']==7) # 4: other\n",
    "                       ])\n",
    "race=rf.update_series(race, indices, values=[1,2,3,4]) # 0: 82 values that are missing in raw variable\n",
    "\n",
    "# grouping category 0 into other category\n",
    "indices=rf.get_indices([race==0])\n",
    "race=rf.update_series(race, indices, values=[4])\n",
    "race.value_counts()"
   ]
  },
  {
   "cell_type": "code",
   "execution_count": 25,
   "metadata": {},
   "outputs": [
    {
     "data": {
      "text/plain": [
       "1    583\n",
       "2    158\n",
       "3     84\n",
       "4     31\n",
       "Name: g1092a, dtype: int64"
      ]
     },
     "execution_count": 25,
     "metadata": {},
     "output_type": "execute_result"
    }
   ],
   "source": [
    "df.loc[:,'g1092a'] = race\n",
    "df['g1092a'].value_counts()"
   ]
  },
  {
   "cell_type": "code",
   "execution_count": 26,
   "metadata": {},
   "outputs": [
    {
     "data": {
      "text/plain": [
       "98.0    4\n",
       "8.0     2\n",
       "10.0    2\n",
       "6.0     2\n",
       "12.0    2\n",
       "14.0    1\n",
       "7.0     1\n",
       "Name: g1087, dtype: int64"
      ]
     },
     "execution_count": 26,
     "metadata": {},
     "output_type": "execute_result"
    }
   ],
   "source": [
    "df['g1087'].value_counts() "
   ]
  },
  {
   "cell_type": "code",
   "execution_count": 27,
   "metadata": {},
   "outputs": [
    {
     "data": {
      "text/plain": [
       "0.0     846\n",
       "8.0       2\n",
       "10.0      2\n",
       "6.0       2\n",
       "12.0      2\n",
       "14.0      1\n",
       "7.0       1\n",
       "Name: g1087, dtype: int64"
      ]
     },
     "execution_count": 27,
     "metadata": {},
     "output_type": "execute_result"
    }
   ],
   "source": [
    "# recode\n",
    "df.loc[:,'g1087'].replace(to_replace=98., value=0,inplace=True)\n",
    "df.loc[:,'g1087'].fillna(value=0, inplace=True)\n",
    "df['g1087'].value_counts()"
   ]
  },
  {
   "cell_type": "code",
   "execution_count": 28,
   "metadata": {},
   "outputs": [
    {
     "data": {
      "text/plain": [
       "98.0    4\n",
       "6.0     3\n",
       "8.0     2\n",
       "12.0    2\n",
       "7.0     1\n",
       "14.0    1\n",
       "13.0    1\n",
       "Name: g1088, dtype: int64"
      ]
     },
     "execution_count": 28,
     "metadata": {},
     "output_type": "execute_result"
    }
   ],
   "source": [
    "df['g1088'].value_counts() "
   ]
  },
  {
   "cell_type": "code",
   "execution_count": 29,
   "metadata": {},
   "outputs": [
    {
     "data": {
      "text/plain": [
       "0.0     846\n",
       "6.0       3\n",
       "8.0       2\n",
       "12.0      2\n",
       "7.0       1\n",
       "14.0      1\n",
       "13.0      1\n",
       "Name: g1088, dtype: int64"
      ]
     },
     "execution_count": 29,
     "metadata": {},
     "output_type": "execute_result"
    }
   ],
   "source": [
    "# recode\n",
    "df.loc[:,'g1088'].replace(to_replace=98., value=0,inplace=True)\n",
    "df.loc[:,'g1088'].fillna(value=0, inplace=True)\n",
    "df['g1088'].value_counts()"
   ]
  },
  {
   "cell_type": "code",
   "execution_count": 30,
   "metadata": {},
   "outputs": [
    {
     "data": {
      "text/plain": [
       "0    687\n",
       "1    161\n",
       "2      8\n",
       "dtype: int64"
      ]
     },
     "execution_count": 30,
     "metadata": {},
     "output_type": "execute_result"
    }
   ],
   "source": [
    "# recode lived with grandparents (G1085)\n",
    "lived_grands=rf.initialize_series(df)\n",
    "indices=rf.get_indices([df['g1085']==1, # 1: yes\n",
    "                        df['g1085'].between(8,9) # 2: other\n",
    "                       ]) \n",
    "lived_grands=rf.update_series(lived_grands, indices, values=[1,2]) \n",
    "lived_grands.value_counts()"
   ]
  },
  {
   "cell_type": "code",
   "execution_count": 31,
   "metadata": {},
   "outputs": [
    {
     "data": {
      "text/plain": [
       "0    687\n",
       "1    161\n",
       "2      8\n",
       "Name: g1085, dtype: int64"
      ]
     },
     "execution_count": 31,
     "metadata": {},
     "output_type": "execute_result"
    }
   ],
   "source": [
    "df.loc[:,'g1085'] = lived_grands\n",
    "df['g1085'].value_counts()"
   ]
  },
  {
   "cell_type": "code",
   "execution_count": 32,
   "metadata": {},
   "outputs": [
    {
     "data": {
      "text/plain": [
       "3    581\n",
       "2    175\n",
       "1     86\n",
       "0     14\n",
       "dtype: int64"
      ]
     },
     "execution_count": 32,
     "metadata": {},
     "output_type": "execute_result"
    }
   ],
   "source": [
    "# recode religion (G1142)\n",
    "religion=rf.initialize_series(df)\n",
    "indices=rf.get_indices([df['g1142']==1, # 3: very important\n",
    "                        df['g1142']==3, # 2: somewhat important\n",
    "                        df['g1142']==5 # 1: not very important\n",
    "                       ]) \n",
    "religion=rf.update_series(religion, indices, values=[3,2,1]) # 0: don't know, other\n",
    "religion.value_counts()"
   ]
  },
  {
   "cell_type": "code",
   "execution_count": 33,
   "metadata": {},
   "outputs": [
    {
     "data": {
      "text/plain": [
       "3    581\n",
       "2    175\n",
       "1     86\n",
       "0     14\n",
       "Name: g1142, dtype: int64"
      ]
     },
     "execution_count": 33,
     "metadata": {},
     "output_type": "execute_result"
    }
   ],
   "source": [
    "df.loc[:,'g1142'] = religion\n",
    "df['g1142'].value_counts()"
   ]
  },
  {
   "cell_type": "code",
   "execution_count": 34,
   "metadata": {},
   "outputs": [
    {
     "data": {
      "text/plain": [
       "['hhidpn',\n",
       " 'brain_health_diag1',\n",
       " 'brain_health_diag2',\n",
       " 'brain_health_1',\n",
       " 'brain_health_2',\n",
       " 'brain_health_3',\n",
       " 'total_cog',\n",
       " 'total_recall',\n",
       " 'serial7',\n",
       " 'tics',\n",
       " 'backwards_20',\n",
       " 'immediate_recall',\n",
       " 'delayed_recall',\n",
       " 'g1101',\n",
       " 'g1074a',\n",
       " 'g1158',\n",
       " 'g1092a',\n",
       " 'g1087',\n",
       " 'g1088',\n",
       " 'g1085',\n",
       " 'g1142']"
      ]
     },
     "execution_count": 34,
     "metadata": {},
     "output_type": "execute_result"
    }
   ],
   "source": [
    "header"
   ]
  },
  {
   "cell_type": "markdown",
   "metadata": {},
   "source": [
    "* Add in medical and other features"
   ]
  },
  {
   "cell_type": "code",
   "execution_count": 35,
   "metadata": {},
   "outputs": [],
   "source": [
    "## Dictionary\n",
    "\n",
    "YES = 1\n",
    "NO = 5\n",
    "DK = 0\n",
    "RF = 0\n",
    "NO_RESPONSE = 0\n",
    "\n",
    "MUCH_BETTER = 1\n",
    "BETTER = 2\n",
    "SAME = 3\n",
    "WORSE = 4\n",
    "MUCH_WORSE = 5\n",
    "\n",
    "EXCELLENT = 1\n",
    "VERY_GOOD = 2\n",
    "GOOD = 3\n",
    "FAIR = 4\n",
    "POOR = 5\n",
    "BLIND = 6\n",
    "\n",
    "GAINED = 1\n",
    "LOST = 2\n",
    "VOLATILE = 3\n",
    "\n",
    "ONE_EYE = 1\n",
    "TWO_EYES = 2\n",
    "\n",
    "NEVER = 1\n",
    "FEW = 2\n",
    "MOST = 3\n",
    "ALL = 4\n",
    "\n",
    "ABSTAIN = 3\n",
    "\n",
    "CATHETER = 31\n",
    "\n",
    "PART_YEAR = 1\n",
    "\n",
    "CANT = 1\n",
    "DONT = 1\n",
    "\n",
    "MARRIED = 1\n",
    "OTHER = 2\n",
    "NEVER = 3\n",
    "\n",
    "\n",
    "# Define scales\n",
    "\n",
    "ever_had = {1:YES, 3:YES, 4:NO, 5:NO, 8:DK, 9:RF, 'Blank':NO_RESPONSE}\n",
    "stroke_has = {1:YES, 2:YES, 3:YES, 4:NO, 5:NO, 8:DK, 9:RF, 'Blank':NO_RESPONSE}\n",
    "full_likert = {1:EXCELLENT, 2:VERY_GOOD, 3:GOOD, 4:FAIR, 5:POOR, 8:DK, 9:RF, 'Blank':NO_RESPONSE} \n",
    "likert6 = {1:EXCELLENT, 2:VERY_GOOD, 3:GOOD, 4:FAIR, 5:POOR, 6:BLIND, 8:DK, 9:RF, 'Blank':NO_RESPONSE} \n",
    "yes_no = {1:YES, 5:NO, 8:DK, 9:RF, 'Blank':NO_RESPONSE}\n",
    "better_worse = {1:BETTER, 2:SAME, 3:WORSE, 8:DK, 9:RF, 'Blank':NO_RESPONSE}\n",
    "weight_trend = {1:GAINED, 2:LOST, 3:VOLATILE, 5:NO, 8:DK, 9:RF, 'Blank':NO_RESPONSE}\n",
    "alcohol_has = {1:YES, 3:ABSTAIN, 5:NO, 8:DK, 9:RF, 'Blank':NO_RESPONSE}\n",
    "alcohol_ever ={1:NO_RESPONSE, 3:YES, 5:NO_RESPONSE, 8:DK, 9:RF, 'Blank':NO_RESPONSE}\n",
    "cataract_number = {1:ONE_EYE, 3:TWO_EYES, 8:DK, 9:RF, 'Blank':NO_RESPONSE}\n",
    "survey_assist =  {1:NEVER, 2:FEW, 3:MOST, 4:ALL, 8:DK, 9:RF, 'Blank':NO_RESPONSE}\n",
    "numeric10 = {8:DK, 9:RF, 'Blank':NO_RESPONSE}\n",
    "numeric100 = {98:DK, 99:RF, 'Blank':NO_RESPONSE}\n",
    "numeric1000 = {998:DK, 999:RF, 'Blank':NO_RESPONSE}\n",
    "numeric10000 = {9998:DK, 9999:RF, 'Blank':NO_RESPONSE}\n",
    "incontinence_num = {95:CATHETER, 98:DK, 99:RF, 'Blank':NO_RESPONSE}\n",
    "stop_smoke = {96:PART_YEAR, 98:DK, 99:RF, 'Blank':NO_RESPONSE}\n",
    "depression = {1:YES, 'Blank':NO_RESPONSE}\n",
    "yes_no2 = {1:YES, 5:NO, 6:CANT, 7:DONT, 8:DK, 9:RF, 'Blank':NO_RESPONSE}\n",
    "marital = {1:MARRIED, 2:OTHER, 3:OTHER, 4:OTHER, 5:OTHER, 6:NEVER, 'Blank':NO_RESPONSE}\n",
    "\n",
    "all_scales = {'full_likert':full_likert, 'yes_no':yes_no, 'better_worse':better_worse, 'ever_had':ever_had, \\\n",
    "                'stroke_has': stroke_has, 'likert6':likert6, 'cataract_number':cataract_number, \\\n",
    "                'alcohol_ever':alcohol_ever, 'weight_trend':weight_trend, 'survey_assist':survey_assist, \\\n",
    "                'alcohol_has':alcohol_has, 'stop_smoke':stop_smoke, 'depression':depression, \\\n",
    "                'incontinence_num':incontinence_num, 'numeric10':numeric10, 'numeric100':numeric100, \\\n",
    "                'numeric1000':numeric1000, 'numeric10000':numeric10000, 'yes_no2':yes_no2, 'marital':marital \\\n",
    "             }\n"
   ]
  },
  {
   "cell_type": "code",
   "execution_count": 36,
   "metadata": {},
   "outputs": [
    {
     "data": {
      "text/html": [
       "<div>\n",
       "<style scoped>\n",
       "    .dataframe tbody tr th:only-of-type {\n",
       "        vertical-align: middle;\n",
       "    }\n",
       "\n",
       "    .dataframe tbody tr th {\n",
       "        vertical-align: top;\n",
       "    }\n",
       "\n",
       "    .dataframe thead th {\n",
       "        text-align: right;\n",
       "    }\n",
       "</style>\n",
       "<table border=\"1\" class=\"dataframe\">\n",
       "  <thead>\n",
       "    <tr style=\"text-align: right;\">\n",
       "      <th></th>\n",
       "      <th>old_column</th>\n",
       "      <th>new_column</th>\n",
       "      <th>question_type</th>\n",
       "      <th>question</th>\n",
       "    </tr>\n",
       "  </thead>\n",
       "  <tbody>\n",
       "    <tr>\n",
       "      <th>0</th>\n",
       "      <td>g1415</td>\n",
       "      <td>g1415</td>\n",
       "      <td>alcohol_ever</td>\n",
       "      <td>alcohol_ever</td>\n",
       "    </tr>\n",
       "    <tr>\n",
       "      <th>1</th>\n",
       "      <td>g1415</td>\n",
       "      <td>g1415</td>\n",
       "      <td>alcohol_has</td>\n",
       "      <td>alcohol_has</td>\n",
       "    </tr>\n",
       "    <tr>\n",
       "      <th>2</th>\n",
       "      <td>g1229</td>\n",
       "      <td>g1229</td>\n",
       "      <td>better_worse</td>\n",
       "      <td>past health</td>\n",
       "    </tr>\n",
       "    <tr>\n",
       "      <th>3</th>\n",
       "      <td>g1242</td>\n",
       "      <td>g1242</td>\n",
       "      <td>better_worse</td>\n",
       "      <td>hypertension_trend</td>\n",
       "    </tr>\n",
       "    <tr>\n",
       "      <th>4</th>\n",
       "      <td>g1252</td>\n",
       "      <td>g1252</td>\n",
       "      <td>better_worse</td>\n",
       "      <td>diabetes_trend</td>\n",
       "    </tr>\n",
       "    <tr>\n",
       "      <th>5</th>\n",
       "      <td>g1266</td>\n",
       "      <td>g1266</td>\n",
       "      <td>better_worse</td>\n",
       "      <td>cancer_trend</td>\n",
       "    </tr>\n",
       "    <tr>\n",
       "      <th>6</th>\n",
       "      <td>g1280</td>\n",
       "      <td>g1280</td>\n",
       "      <td>better_worse</td>\n",
       "      <td>lung_trend</td>\n",
       "    </tr>\n",
       "    <tr>\n",
       "      <th>7</th>\n",
       "      <td>g1292</td>\n",
       "      <td>g1292</td>\n",
       "      <td>better_worse</td>\n",
       "      <td>heart_trend</td>\n",
       "    </tr>\n",
       "    <tr>\n",
       "      <th>8</th>\n",
       "      <td>g1323</td>\n",
       "      <td>g1323</td>\n",
       "      <td>better_worse</td>\n",
       "      <td>psych_trend</td>\n",
       "    </tr>\n",
       "    <tr>\n",
       "      <th>9</th>\n",
       "      <td>g1374</td>\n",
       "      <td>g1374</td>\n",
       "      <td>better_worse</td>\n",
       "      <td>pain_rating</td>\n",
       "    </tr>\n",
       "    <tr>\n",
       "      <th>10</th>\n",
       "      <td>g1655</td>\n",
       "      <td>g1655</td>\n",
       "      <td>better_worse</td>\n",
       "      <td>NaN</td>\n",
       "    </tr>\n",
       "    <tr>\n",
       "      <th>11</th>\n",
       "      <td>g1365</td>\n",
       "      <td>g1365</td>\n",
       "      <td>cataract_number</td>\n",
       "      <td>cataract_number</td>\n",
       "    </tr>\n",
       "    <tr>\n",
       "      <th>12</th>\n",
       "      <td>g1468</td>\n",
       "      <td>g1468</td>\n",
       "      <td>depression</td>\n",
       "      <td>depression_has</td>\n",
       "    </tr>\n",
       "    <tr>\n",
       "      <th>13</th>\n",
       "      <td>g1238</td>\n",
       "      <td>g1238</td>\n",
       "      <td>ever_had</td>\n",
       "      <td>hypertension_has</td>\n",
       "    </tr>\n",
       "    <tr>\n",
       "      <th>14</th>\n",
       "      <td>g1245</td>\n",
       "      <td>g1245</td>\n",
       "      <td>ever_had</td>\n",
       "      <td>diabetes_has</td>\n",
       "    </tr>\n",
       "    <tr>\n",
       "      <th>15</th>\n",
       "      <td>g1262</td>\n",
       "      <td>g1262</td>\n",
       "      <td>ever_had</td>\n",
       "      <td>cancer_has</td>\n",
       "    </tr>\n",
       "    <tr>\n",
       "      <th>16</th>\n",
       "      <td>g1279</td>\n",
       "      <td>g1279</td>\n",
       "      <td>ever_had</td>\n",
       "      <td>lung_has</td>\n",
       "    </tr>\n",
       "    <tr>\n",
       "      <th>17</th>\n",
       "      <td>g1289</td>\n",
       "      <td>g1289</td>\n",
       "      <td>ever_had</td>\n",
       "      <td>heart_has</td>\n",
       "    </tr>\n",
       "    <tr>\n",
       "      <th>18</th>\n",
       "      <td>g1322</td>\n",
       "      <td>g1322</td>\n",
       "      <td>ever_had</td>\n",
       "      <td>psych_has</td>\n",
       "    </tr>\n",
       "    <tr>\n",
       "      <th>19</th>\n",
       "      <td>g1327</td>\n",
       "      <td>g1327</td>\n",
       "      <td>ever_had</td>\n",
       "      <td>arthritis_has</td>\n",
       "    </tr>\n",
       "    <tr>\n",
       "      <th>20</th>\n",
       "      <td>g1226</td>\n",
       "      <td>g1226</td>\n",
       "      <td>full_likert</td>\n",
       "      <td>current health</td>\n",
       "    </tr>\n",
       "    <tr>\n",
       "      <th>21</th>\n",
       "      <td>g1362</td>\n",
       "      <td>g1362</td>\n",
       "      <td>full_likert</td>\n",
       "      <td>eyesight_far</td>\n",
       "    </tr>\n",
       "    <tr>\n",
       "      <th>22</th>\n",
       "      <td>g1363</td>\n",
       "      <td>g1363</td>\n",
       "      <td>full_likert</td>\n",
       "      <td>eyesight_near</td>\n",
       "    </tr>\n",
       "    <tr>\n",
       "      <th>23</th>\n",
       "      <td>g1369</td>\n",
       "      <td>g1369</td>\n",
       "      <td>full_likert</td>\n",
       "      <td>hearing_rating</td>\n",
       "    </tr>\n",
       "    <tr>\n",
       "      <th>24</th>\n",
       "      <td>g1527</td>\n",
       "      <td>g1527</td>\n",
       "      <td>full_likert</td>\n",
       "      <td>NaN</td>\n",
       "    </tr>\n",
       "    <tr>\n",
       "      <th>25</th>\n",
       "      <td>g1532</td>\n",
       "      <td>g1532</td>\n",
       "      <td>full_likert</td>\n",
       "      <td>NaN</td>\n",
       "    </tr>\n",
       "    <tr>\n",
       "      <th>26</th>\n",
       "      <td>g1537</td>\n",
       "      <td>g1537</td>\n",
       "      <td>full_likert</td>\n",
       "      <td>NaN</td>\n",
       "    </tr>\n",
       "    <tr>\n",
       "      <th>27</th>\n",
       "      <td>g1654</td>\n",
       "      <td>g1654</td>\n",
       "      <td>full_likert</td>\n",
       "      <td>NaN</td>\n",
       "    </tr>\n",
       "    <tr>\n",
       "      <th>28</th>\n",
       "      <td>g1354</td>\n",
       "      <td>g1354</td>\n",
       "      <td>incontinence_num</td>\n",
       "      <td>incontinence_days</td>\n",
       "    </tr>\n",
       "    <tr>\n",
       "      <th>29</th>\n",
       "      <td>g1361</td>\n",
       "      <td>g1361</td>\n",
       "      <td>likert6</td>\n",
       "      <td>eyesight_rating</td>\n",
       "    </tr>\n",
       "    <tr>\n",
       "      <th>...</th>\n",
       "      <td>...</td>\n",
       "      <td>...</td>\n",
       "      <td>...</td>\n",
       "      <td>...</td>\n",
       "    </tr>\n",
       "    <tr>\n",
       "      <th>149</th>\n",
       "      <td>g2868</td>\n",
       "      <td>g2868</td>\n",
       "      <td>yes_no</td>\n",
       "      <td>NaN</td>\n",
       "    </tr>\n",
       "    <tr>\n",
       "      <th>150</th>\n",
       "      <td>g2873</td>\n",
       "      <td>g2873</td>\n",
       "      <td>yes_no</td>\n",
       "      <td>NaN</td>\n",
       "    </tr>\n",
       "    <tr>\n",
       "      <th>151</th>\n",
       "      <td>g2878</td>\n",
       "      <td>g2878</td>\n",
       "      <td>yes_no</td>\n",
       "      <td>NaN</td>\n",
       "    </tr>\n",
       "    <tr>\n",
       "      <th>152</th>\n",
       "      <td>g2915</td>\n",
       "      <td>g2915</td>\n",
       "      <td>yes_no</td>\n",
       "      <td>NaN</td>\n",
       "    </tr>\n",
       "    <tr>\n",
       "      <th>153</th>\n",
       "      <td>g2918</td>\n",
       "      <td>g2918</td>\n",
       "      <td>yes_no</td>\n",
       "      <td>NaN</td>\n",
       "    </tr>\n",
       "    <tr>\n",
       "      <th>154</th>\n",
       "      <td>g2995</td>\n",
       "      <td>g2995</td>\n",
       "      <td>yes_no</td>\n",
       "      <td>NaN</td>\n",
       "    </tr>\n",
       "    <tr>\n",
       "      <th>155</th>\n",
       "      <td>g3002</td>\n",
       "      <td>g3002</td>\n",
       "      <td>yes_no</td>\n",
       "      <td>NaN</td>\n",
       "    </tr>\n",
       "    <tr>\n",
       "      <th>156</th>\n",
       "      <td>g1710</td>\n",
       "      <td>g1710</td>\n",
       "      <td>yes_no2</td>\n",
       "      <td>NaN</td>\n",
       "    </tr>\n",
       "    <tr>\n",
       "      <th>157</th>\n",
       "      <td>g2689</td>\n",
       "      <td>g2689</td>\n",
       "      <td>yes_no2</td>\n",
       "      <td>block difficulty</td>\n",
       "    </tr>\n",
       "    <tr>\n",
       "      <th>158</th>\n",
       "      <td>g2690</td>\n",
       "      <td>g2690</td>\n",
       "      <td>yes_no2</td>\n",
       "      <td>run difficulty</td>\n",
       "    </tr>\n",
       "    <tr>\n",
       "      <th>159</th>\n",
       "      <td>g2692</td>\n",
       "      <td>g2692</td>\n",
       "      <td>yes_no2</td>\n",
       "      <td>walk difficulty</td>\n",
       "    </tr>\n",
       "    <tr>\n",
       "      <th>160</th>\n",
       "      <td>g2695</td>\n",
       "      <td>g2695</td>\n",
       "      <td>yes_no2</td>\n",
       "      <td>sit_difficulty</td>\n",
       "    </tr>\n",
       "    <tr>\n",
       "      <th>161</th>\n",
       "      <td>g2698</td>\n",
       "      <td>g2698</td>\n",
       "      <td>yes_no2</td>\n",
       "      <td>chair_difficulty</td>\n",
       "    </tr>\n",
       "    <tr>\n",
       "      <th>162</th>\n",
       "      <td>g2701</td>\n",
       "      <td>g2701</td>\n",
       "      <td>yes_no2</td>\n",
       "      <td>NaN</td>\n",
       "    </tr>\n",
       "    <tr>\n",
       "      <th>163</th>\n",
       "      <td>g2704</td>\n",
       "      <td>g2704</td>\n",
       "      <td>yes_no2</td>\n",
       "      <td>NaN</td>\n",
       "    </tr>\n",
       "    <tr>\n",
       "      <th>164</th>\n",
       "      <td>g2707</td>\n",
       "      <td>g2707</td>\n",
       "      <td>yes_no2</td>\n",
       "      <td>NaN</td>\n",
       "    </tr>\n",
       "    <tr>\n",
       "      <th>165</th>\n",
       "      <td>g2710</td>\n",
       "      <td>g2710</td>\n",
       "      <td>yes_no2</td>\n",
       "      <td>NaN</td>\n",
       "    </tr>\n",
       "    <tr>\n",
       "      <th>166</th>\n",
       "      <td>g2713</td>\n",
       "      <td>g2713</td>\n",
       "      <td>yes_no2</td>\n",
       "      <td>NaN</td>\n",
       "    </tr>\n",
       "    <tr>\n",
       "      <th>167</th>\n",
       "      <td>g2716</td>\n",
       "      <td>g2716</td>\n",
       "      <td>yes_no2</td>\n",
       "      <td>NaN</td>\n",
       "    </tr>\n",
       "    <tr>\n",
       "      <th>168</th>\n",
       "      <td>g2723</td>\n",
       "      <td>g2723</td>\n",
       "      <td>yes_no2</td>\n",
       "      <td>NaN</td>\n",
       "    </tr>\n",
       "    <tr>\n",
       "      <th>169</th>\n",
       "      <td>g2725</td>\n",
       "      <td>g2725</td>\n",
       "      <td>yes_no2</td>\n",
       "      <td>NaN</td>\n",
       "    </tr>\n",
       "    <tr>\n",
       "      <th>170</th>\n",
       "      <td>g2742</td>\n",
       "      <td>g2742</td>\n",
       "      <td>yes_no2</td>\n",
       "      <td>NaN</td>\n",
       "    </tr>\n",
       "    <tr>\n",
       "      <th>171</th>\n",
       "      <td>g2752</td>\n",
       "      <td>g2752</td>\n",
       "      <td>yes_no2</td>\n",
       "      <td>NaN</td>\n",
       "    </tr>\n",
       "    <tr>\n",
       "      <th>172</th>\n",
       "      <td>g2762</td>\n",
       "      <td>g2762</td>\n",
       "      <td>yes_no2</td>\n",
       "      <td>NaN</td>\n",
       "    </tr>\n",
       "    <tr>\n",
       "      <th>173</th>\n",
       "      <td>g2775</td>\n",
       "      <td>g2775</td>\n",
       "      <td>yes_no2</td>\n",
       "      <td>NaN</td>\n",
       "    </tr>\n",
       "    <tr>\n",
       "      <th>174</th>\n",
       "      <td>g2860</td>\n",
       "      <td>g2860</td>\n",
       "      <td>yes_no2</td>\n",
       "      <td>NaN</td>\n",
       "    </tr>\n",
       "    <tr>\n",
       "      <th>175</th>\n",
       "      <td>g2865</td>\n",
       "      <td>g2865</td>\n",
       "      <td>yes_no2</td>\n",
       "      <td>NaN</td>\n",
       "    </tr>\n",
       "    <tr>\n",
       "      <th>176</th>\n",
       "      <td>g2870</td>\n",
       "      <td>g2870</td>\n",
       "      <td>yes_no2</td>\n",
       "      <td>NaN</td>\n",
       "    </tr>\n",
       "    <tr>\n",
       "      <th>177</th>\n",
       "      <td>g2875</td>\n",
       "      <td>g2875</td>\n",
       "      <td>yes_no2</td>\n",
       "      <td>NaN</td>\n",
       "    </tr>\n",
       "    <tr>\n",
       "      <th>178</th>\n",
       "      <td>g2916</td>\n",
       "      <td>g2916</td>\n",
       "      <td>yes_no2</td>\n",
       "      <td>NaN</td>\n",
       "    </tr>\n",
       "  </tbody>\n",
       "</table>\n",
       "<p>179 rows × 4 columns</p>\n",
       "</div>"
      ],
      "text/plain": [
       "    old_column new_column     question_type            question\n",
       "0        g1415      g1415      alcohol_ever        alcohol_ever\n",
       "1        g1415      g1415       alcohol_has         alcohol_has\n",
       "2        g1229      g1229      better_worse         past health\n",
       "3        g1242      g1242      better_worse  hypertension_trend\n",
       "4        g1252      g1252      better_worse      diabetes_trend\n",
       "5        g1266      g1266      better_worse        cancer_trend\n",
       "6        g1280      g1280      better_worse          lung_trend\n",
       "7        g1292      g1292      better_worse         heart_trend\n",
       "8        g1323      g1323      better_worse         psych_trend\n",
       "9        g1374      g1374      better_worse         pain_rating\n",
       "10       g1655      g1655      better_worse                 NaN\n",
       "11       g1365      g1365   cataract_number     cataract_number\n",
       "12       g1468      g1468        depression      depression_has\n",
       "13       g1238      g1238          ever_had    hypertension_has\n",
       "14       g1245      g1245          ever_had        diabetes_has\n",
       "15       g1262      g1262          ever_had          cancer_has\n",
       "16       g1279      g1279          ever_had            lung_has\n",
       "17       g1289      g1289          ever_had           heart_has\n",
       "18       g1322      g1322          ever_had           psych_has\n",
       "19       g1327      g1327          ever_had       arthritis_has\n",
       "20       g1226      g1226       full_likert      current health\n",
       "21       g1362      g1362       full_likert        eyesight_far\n",
       "22       g1363      g1363       full_likert       eyesight_near\n",
       "23       g1369      g1369       full_likert      hearing_rating\n",
       "24       g1527      g1527       full_likert                 NaN\n",
       "25       g1532      g1532       full_likert                 NaN\n",
       "26       g1537      g1537       full_likert                 NaN\n",
       "27       g1654      g1654       full_likert                 NaN\n",
       "28       g1354      g1354  incontinence_num   incontinence_days\n",
       "29       g1361      g1361           likert6     eyesight_rating\n",
       "..         ...        ...               ...                 ...\n",
       "149      g2868      g2868            yes_no                 NaN\n",
       "150      g2873      g2873            yes_no                 NaN\n",
       "151      g2878      g2878            yes_no                 NaN\n",
       "152      g2915      g2915            yes_no                 NaN\n",
       "153      g2918      g2918            yes_no                 NaN\n",
       "154      g2995      g2995            yes_no                 NaN\n",
       "155      g3002      g3002            yes_no                 NaN\n",
       "156      g1710      g1710           yes_no2                 NaN\n",
       "157      g2689      g2689           yes_no2    block difficulty\n",
       "158      g2690      g2690           yes_no2      run difficulty\n",
       "159      g2692      g2692           yes_no2     walk difficulty\n",
       "160      g2695      g2695           yes_no2      sit_difficulty\n",
       "161      g2698      g2698           yes_no2    chair_difficulty\n",
       "162      g2701      g2701           yes_no2                 NaN\n",
       "163      g2704      g2704           yes_no2                 NaN\n",
       "164      g2707      g2707           yes_no2                 NaN\n",
       "165      g2710      g2710           yes_no2                 NaN\n",
       "166      g2713      g2713           yes_no2                 NaN\n",
       "167      g2716      g2716           yes_no2                 NaN\n",
       "168      g2723      g2723           yes_no2                 NaN\n",
       "169      g2725      g2725           yes_no2                 NaN\n",
       "170      g2742      g2742           yes_no2                 NaN\n",
       "171      g2752      g2752           yes_no2                 NaN\n",
       "172      g2762      g2762           yes_no2                 NaN\n",
       "173      g2775      g2775           yes_no2                 NaN\n",
       "174      g2860      g2860           yes_no2                 NaN\n",
       "175      g2865      g2865           yes_no2                 NaN\n",
       "176      g2870      g2870           yes_no2                 NaN\n",
       "177      g2875      g2875           yes_no2                 NaN\n",
       "178      g2916      g2916           yes_no2                 NaN\n",
       "\n",
       "[179 rows x 4 columns]"
      ]
     },
     "execution_count": 36,
     "metadata": {},
     "output_type": "execute_result"
    }
   ],
   "source": [
    "features_nonnum = pd.read_csv('features_NonNum.csv')\n",
    "features_nonnum"
   ]
  },
  {
   "cell_type": "code",
   "execution_count": 37,
   "metadata": {},
   "outputs": [
    {
     "data": {
      "text/html": [
       "<div>\n",
       "<style scoped>\n",
       "    .dataframe tbody tr th:only-of-type {\n",
       "        vertical-align: middle;\n",
       "    }\n",
       "\n",
       "    .dataframe tbody tr th {\n",
       "        vertical-align: top;\n",
       "    }\n",
       "\n",
       "    .dataframe thead th {\n",
       "        text-align: right;\n",
       "    }\n",
       "</style>\n",
       "<table border=\"1\" class=\"dataframe\">\n",
       "  <thead>\n",
       "    <tr style=\"text-align: right;\">\n",
       "      <th></th>\n",
       "      <th>old_column</th>\n",
       "      <th>new_column</th>\n",
       "      <th>question_type</th>\n",
       "      <th>question</th>\n",
       "    </tr>\n",
       "  </thead>\n",
       "  <tbody>\n",
       "    <tr>\n",
       "      <th>0</th>\n",
       "      <td>g1409</td>\n",
       "      <td>g1409</td>\n",
       "      <td>numeric10</td>\n",
       "      <td>smoke_high_packs</td>\n",
       "    </tr>\n",
       "    <tr>\n",
       "      <th>1</th>\n",
       "      <td>g1416</td>\n",
       "      <td>g1416</td>\n",
       "      <td>numeric10</td>\n",
       "      <td>alcohol_dayspw</td>\n",
       "    </tr>\n",
       "    <tr>\n",
       "      <th>2</th>\n",
       "      <td>g1428</td>\n",
       "      <td>g1428</td>\n",
       "      <td>numeric10</td>\n",
       "      <td>height feet</td>\n",
       "    </tr>\n",
       "    <tr>\n",
       "      <th>3</th>\n",
       "      <td>g1268</td>\n",
       "      <td>g1268</td>\n",
       "      <td>numeric100</td>\n",
       "      <td>cancer_num</td>\n",
       "    </tr>\n",
       "    <tr>\n",
       "      <th>4</th>\n",
       "      <td>g1340</td>\n",
       "      <td>g1340</td>\n",
       "      <td>numeric100</td>\n",
       "      <td>falls_num</td>\n",
       "    </tr>\n",
       "    <tr>\n",
       "      <th>5</th>\n",
       "      <td>g1402</td>\n",
       "      <td>g1402</td>\n",
       "      <td>numeric100</td>\n",
       "      <td>smoke_num_pack</td>\n",
       "    </tr>\n",
       "    <tr>\n",
       "      <th>6</th>\n",
       "      <td>g1404</td>\n",
       "      <td>g1404</td>\n",
       "      <td>numeric100</td>\n",
       "      <td>smoke_age</td>\n",
       "    </tr>\n",
       "    <tr>\n",
       "      <th>7</th>\n",
       "      <td>g1406</td>\n",
       "      <td>g1406</td>\n",
       "      <td>numeric100</td>\n",
       "      <td>smoke_start_years</td>\n",
       "    </tr>\n",
       "    <tr>\n",
       "      <th>8</th>\n",
       "      <td>g1413</td>\n",
       "      <td>g1413</td>\n",
       "      <td>numeric100</td>\n",
       "      <td>smoke_stop_age</td>\n",
       "    </tr>\n",
       "    <tr>\n",
       "      <th>9</th>\n",
       "      <td>g1417</td>\n",
       "      <td>g1417</td>\n",
       "      <td>numeric100</td>\n",
       "      <td>alcohol_dayspq</td>\n",
       "    </tr>\n",
       "    <tr>\n",
       "      <th>10</th>\n",
       "      <td>g1418</td>\n",
       "      <td>g1418</td>\n",
       "      <td>numeric100</td>\n",
       "      <td>alcohol_binge</td>\n",
       "    </tr>\n",
       "    <tr>\n",
       "      <th>11</th>\n",
       "      <td>g1852</td>\n",
       "      <td>g1852</td>\n",
       "      <td>numeric100</td>\n",
       "      <td>tics</td>\n",
       "    </tr>\n",
       "    <tr>\n",
       "      <th>12</th>\n",
       "      <td>g3060</td>\n",
       "      <td>g3060</td>\n",
       "      <td>numeric100</td>\n",
       "      <td>NaN</td>\n",
       "    </tr>\n",
       "    <tr>\n",
       "      <th>13</th>\n",
       "      <td>g1401</td>\n",
       "      <td>g1401</td>\n",
       "      <td>numeric1000</td>\n",
       "      <td>smoke_num</td>\n",
       "    </tr>\n",
       "    <tr>\n",
       "      <th>14</th>\n",
       "      <td>g1408</td>\n",
       "      <td>g1408</td>\n",
       "      <td>numeric1000</td>\n",
       "      <td>smoke_high</td>\n",
       "    </tr>\n",
       "    <tr>\n",
       "      <th>15</th>\n",
       "      <td>g1425</td>\n",
       "      <td>g1425</td>\n",
       "      <td>numeric1000</td>\n",
       "      <td>weight pounds</td>\n",
       "    </tr>\n",
       "    <tr>\n",
       "      <th>16</th>\n",
       "      <td>g1429</td>\n",
       "      <td>g1429</td>\n",
       "      <td>numeric1000</td>\n",
       "      <td>height inches</td>\n",
       "    </tr>\n",
       "    <tr>\n",
       "      <th>17</th>\n",
       "      <td>g1806</td>\n",
       "      <td>g1806</td>\n",
       "      <td>numeric1000</td>\n",
       "      <td>NaN</td>\n",
       "    </tr>\n",
       "    <tr>\n",
       "      <th>18</th>\n",
       "      <td>g1807</td>\n",
       "      <td>g1807</td>\n",
       "      <td>numeric1000</td>\n",
       "      <td>NaN</td>\n",
       "    </tr>\n",
       "    <tr>\n",
       "      <th>19</th>\n",
       "      <td>g1808</td>\n",
       "      <td>g1808</td>\n",
       "      <td>numeric1000</td>\n",
       "      <td>NaN</td>\n",
       "    </tr>\n",
       "    <tr>\n",
       "      <th>20</th>\n",
       "      <td>g1809</td>\n",
       "      <td>g1809</td>\n",
       "      <td>numeric1000</td>\n",
       "      <td>NaN</td>\n",
       "    </tr>\n",
       "    <tr>\n",
       "      <th>21</th>\n",
       "      <td>g1810</td>\n",
       "      <td>g1810</td>\n",
       "      <td>numeric1000</td>\n",
       "      <td>NaN</td>\n",
       "    </tr>\n",
       "    <tr>\n",
       "      <th>22</th>\n",
       "      <td>g2940</td>\n",
       "      <td>g2940</td>\n",
       "      <td>numeric1000</td>\n",
       "      <td>NaN</td>\n",
       "    </tr>\n",
       "    <tr>\n",
       "      <th>23</th>\n",
       "      <td>g1274</td>\n",
       "      <td>g1274</td>\n",
       "      <td>numeric10000</td>\n",
       "      <td>cancer_year</td>\n",
       "    </tr>\n",
       "    <tr>\n",
       "      <th>24</th>\n",
       "      <td>g1299</td>\n",
       "      <td>g1299</td>\n",
       "      <td>numeric10000</td>\n",
       "      <td>heartattack_year</td>\n",
       "    </tr>\n",
       "    <tr>\n",
       "      <th>25</th>\n",
       "      <td>g1321</td>\n",
       "      <td>g1321</td>\n",
       "      <td>numeric10000</td>\n",
       "      <td>stroke_year</td>\n",
       "    </tr>\n",
       "    <tr>\n",
       "      <th>26</th>\n",
       "      <td>g1405</td>\n",
       "      <td>g1405</td>\n",
       "      <td>numeric10000</td>\n",
       "      <td>smoke_start_year</td>\n",
       "    </tr>\n",
       "    <tr>\n",
       "      <th>27</th>\n",
       "      <td>g1412</td>\n",
       "      <td>g1412</td>\n",
       "      <td>numeric10000</td>\n",
       "      <td>smoke_stop_year</td>\n",
       "    </tr>\n",
       "    <tr>\n",
       "      <th>28</th>\n",
       "      <td>g1805</td>\n",
       "      <td>g1805</td>\n",
       "      <td>numeric10000</td>\n",
       "      <td>NaN</td>\n",
       "    </tr>\n",
       "    <tr>\n",
       "      <th>29</th>\n",
       "      <td>g1814</td>\n",
       "      <td>g1814</td>\n",
       "      <td>numeric10000</td>\n",
       "      <td>NaN</td>\n",
       "    </tr>\n",
       "    <tr>\n",
       "      <th>30</th>\n",
       "      <td>g2652</td>\n",
       "      <td>g2652</td>\n",
       "      <td>numeric10000</td>\n",
       "      <td>medical expenses</td>\n",
       "    </tr>\n",
       "    <tr>\n",
       "      <th>31</th>\n",
       "      <td>g2996</td>\n",
       "      <td>g2996</td>\n",
       "      <td>numeric10000</td>\n",
       "      <td>NaN</td>\n",
       "    </tr>\n",
       "    <tr>\n",
       "      <th>32</th>\n",
       "      <td>g2999</td>\n",
       "      <td>g2999</td>\n",
       "      <td>numeric10000</td>\n",
       "      <td>NaN</td>\n",
       "    </tr>\n",
       "  </tbody>\n",
       "</table>\n",
       "</div>"
      ],
      "text/plain": [
       "   old_column new_column question_type           question\n",
       "0       g1409      g1409     numeric10   smoke_high_packs\n",
       "1       g1416      g1416     numeric10     alcohol_dayspw\n",
       "2       g1428      g1428     numeric10        height feet\n",
       "3       g1268      g1268    numeric100         cancer_num\n",
       "4       g1340      g1340    numeric100          falls_num\n",
       "5       g1402      g1402    numeric100     smoke_num_pack\n",
       "6       g1404      g1404    numeric100          smoke_age\n",
       "7       g1406      g1406    numeric100  smoke_start_years\n",
       "8       g1413      g1413    numeric100     smoke_stop_age\n",
       "9       g1417      g1417    numeric100     alcohol_dayspq\n",
       "10      g1418      g1418    numeric100      alcohol_binge\n",
       "11      g1852      g1852    numeric100               tics\n",
       "12      g3060      g3060    numeric100                NaN\n",
       "13      g1401      g1401   numeric1000          smoke_num\n",
       "14      g1408      g1408   numeric1000         smoke_high\n",
       "15      g1425      g1425   numeric1000      weight pounds\n",
       "16      g1429      g1429   numeric1000      height inches\n",
       "17      g1806      g1806   numeric1000                NaN\n",
       "18      g1807      g1807   numeric1000                NaN\n",
       "19      g1808      g1808   numeric1000                NaN\n",
       "20      g1809      g1809   numeric1000                NaN\n",
       "21      g1810      g1810   numeric1000                NaN\n",
       "22      g2940      g2940   numeric1000                NaN\n",
       "23      g1274      g1274  numeric10000        cancer_year\n",
       "24      g1299      g1299  numeric10000   heartattack_year\n",
       "25      g1321      g1321  numeric10000        stroke_year\n",
       "26      g1405      g1405  numeric10000   smoke_start_year\n",
       "27      g1412      g1412  numeric10000    smoke_stop_year\n",
       "28      g1805      g1805  numeric10000                NaN\n",
       "29      g1814      g1814  numeric10000                NaN\n",
       "30      g2652      g2652  numeric10000   medical expenses\n",
       "31      g2996      g2996  numeric10000                NaN\n",
       "32      g2999      g2999  numeric10000                NaN"
      ]
     },
     "execution_count": 37,
     "metadata": {},
     "output_type": "execute_result"
    }
   ],
   "source": [
    "features_num = pd.read_csv('features_Numeric.csv')\n",
    "features_num"
   ]
  },
  {
   "cell_type": "code",
   "execution_count": 38,
   "metadata": {},
   "outputs": [],
   "source": [
    "# Drop most cols\n",
    "mask = '^hhidpn|^brain|^total|^serial|^tics|^backwards|^immediate|^delayed|^g[1-3]'\n",
    "filter = df.keys().str.contains(mask, regex=True).tolist()\n",
    "df = df.loc[:,filter].copy()"
   ]
  },
  {
   "cell_type": "code",
   "execution_count": 39,
   "metadata": {},
   "outputs": [
    {
     "name": "stdout",
     "output_type": "stream",
     "text": [
      "<class 'pandas.core.frame.DataFrame'>\n",
      "RangeIndex: 856 entries, 0 to 855\n",
      "Columns: 2614 entries, hhidpn to brain_health_diag2\n",
      "dtypes: float64(2599), int64(15)\n",
      "memory usage: 17.1 MB\n"
     ]
    }
   ],
   "source": [
    "df.info()"
   ]
  },
  {
   "cell_type": "code",
   "execution_count": 40,
   "metadata": {},
   "outputs": [],
   "source": [
    "features = features_nonnum['old_column'].tolist() + features_num['old_column'].tolist()\n",
    "features.sort()"
   ]
  },
  {
   "cell_type": "markdown",
   "metadata": {},
   "source": [
    "### Process Features"
   ]
  },
  {
   "cell_type": "code",
   "execution_count": 41,
   "metadata": {},
   "outputs": [],
   "source": [
    "# Process numeric features\n",
    "for index, row in features_num.iterrows():\n",
    "    df = rf.recode_numeric_column(df, row['old_column'], row['new_column'], row['question_type'], all_scales[row['question_type']])\n",
    "    "
   ]
  },
  {
   "cell_type": "code",
   "execution_count": 42,
   "metadata": {},
   "outputs": [],
   "source": [
    "# Process other features\n",
    "for index, row in features_nonnum.iterrows():\n",
    "    df = rf.recode_single_column(df, row['old_column'], row['new_column'], row['question_type'], all_scales[row['question_type']])"
   ]
  },
  {
   "cell_type": "markdown",
   "metadata": {},
   "source": [
    "### Add in derived features\n"
   ]
  },
  {
   "cell_type": "markdown",
   "metadata": {},
   "source": [
    "* Time for serial 7\n",
    "* Recode for serial 7\n",
    "* Proxy dummy variable (g1527?)\n",
    "* Health trend\n",
    "* BMI (lots of Nan)\n",
    "\n"
   ]
  },
  {
   "cell_type": "code",
   "execution_count": 43,
   "metadata": {},
   "outputs": [],
   "source": [
    "# Time to do serial 7\n",
    "df['g1814_05'] = df['g1814'] - df['g1805']"
   ]
  },
  {
   "cell_type": "code",
   "execution_count": 44,
   "metadata": {},
   "outputs": [],
   "source": [
    "# Recode Serial 7\n",
    "df.loc[df['g1806'].between(1,100), ['g1806']] = 5\n",
    "df.loc[df['g1806'] == 93, ['g1806']] = 1\n",
    "\n",
    "df.loc[df['g1807'].between(1,100), ['g1807']] = 5\n",
    "df.loc[df['g1807'] == 86, ['g1807']] = 1\n",
    "\n",
    "df.loc[df['g1808'].between(1,100), ['g1808']] = 5\n",
    "df.loc[df['g1808'] == 79, ['g1808']] = 1\n",
    "\n",
    "df.loc[df['g1809'].between(1,100), ['g1809']] = 5\n",
    "df.loc[df['g1809'] == 72, ['g1809']] = 1\n",
    "\n",
    "df.loc[df['g1810'].between(1,100), ['g1810']] = 5\n",
    "df.loc[df['g1810'] == 65, ['g1810']] = 1\n"
   ]
  },
  {
   "cell_type": "code",
   "execution_count": 45,
   "metadata": {},
   "outputs": [],
   "source": [
    "# Proxy\n",
    "# g1527?"
   ]
  },
  {
   "cell_type": "code",
   "execution_count": 46,
   "metadata": {},
   "outputs": [],
   "source": [
    "# Health trend\n",
    "df = rf.recode_health_trend(df, 'g1229', 'g1233', 'g1234', 'g1_trend_health')"
   ]
  },
  {
   "cell_type": "code",
   "execution_count": 47,
   "metadata": {},
   "outputs": [],
   "source": [
    "# BMI IN ADAMS ONLY 2 VALID VALUES\n",
    "# df = rf.recode_bmi(df, 'g1425', 'g1428', 'g1429', 'bmi')"
   ]
  },
  {
   "cell_type": "code",
   "execution_count": 48,
   "metadata": {},
   "outputs": [],
   "source": [
    "add_features = ['g1814_05', 'g1_trend_health']"
   ]
  },
  {
   "cell_type": "markdown",
   "metadata": {},
   "source": [
    "## Process Full dataset"
   ]
  },
  {
   "cell_type": "code",
   "execution_count": 49,
   "metadata": {},
   "outputs": [
    {
     "name": "stdout",
     "output_type": "stream",
     "text": [
      "235\n",
      "<class 'pandas.core.frame.DataFrame'>\n",
      "RangeIndex: 856 entries, 0 to 855\n",
      "Columns: 235 entries, hhidpn to g3060\n",
      "dtypes: float64(34), int64(201)\n",
      "memory usage: 1.5 MB\n"
     ]
    },
    {
     "data": {
      "text/html": [
       "<div>\n",
       "<style scoped>\n",
       "    .dataframe tbody tr th:only-of-type {\n",
       "        vertical-align: middle;\n",
       "    }\n",
       "\n",
       "    .dataframe tbody tr th {\n",
       "        vertical-align: top;\n",
       "    }\n",
       "\n",
       "    .dataframe thead th {\n",
       "        text-align: right;\n",
       "    }\n",
       "</style>\n",
       "<table border=\"1\" class=\"dataframe\">\n",
       "  <thead>\n",
       "    <tr style=\"text-align: right;\">\n",
       "      <th></th>\n",
       "      <th>hhidpn</th>\n",
       "      <th>brain_health_diag1</th>\n",
       "      <th>brain_health_diag2</th>\n",
       "      <th>brain_health_1</th>\n",
       "      <th>brain_health_2</th>\n",
       "      <th>brain_health_3</th>\n",
       "      <th>total_cog</th>\n",
       "      <th>total_recall</th>\n",
       "      <th>serial7</th>\n",
       "      <th>tics</th>\n",
       "      <th>...</th>\n",
       "      <th>g2878</th>\n",
       "      <th>g2915</th>\n",
       "      <th>g2916</th>\n",
       "      <th>g2918</th>\n",
       "      <th>g2940</th>\n",
       "      <th>g2995</th>\n",
       "      <th>g2996</th>\n",
       "      <th>g2999</th>\n",
       "      <th>g3002</th>\n",
       "      <th>g3060</th>\n",
       "    </tr>\n",
       "  </thead>\n",
       "  <tbody>\n",
       "    <tr>\n",
       "      <th>0</th>\n",
       "      <td>10059030</td>\n",
       "      <td>0</td>\n",
       "      <td>0</td>\n",
       "      <td>1</td>\n",
       "      <td>2</td>\n",
       "      <td>1</td>\n",
       "      <td>0.0</td>\n",
       "      <td>0</td>\n",
       "      <td>0</td>\n",
       "      <td>0.0</td>\n",
       "      <td>...</td>\n",
       "      <td>0</td>\n",
       "      <td>5</td>\n",
       "      <td>5</td>\n",
       "      <td>0</td>\n",
       "      <td>0.0</td>\n",
       "      <td>1</td>\n",
       "      <td>52.0</td>\n",
       "      <td>6.0</td>\n",
       "      <td>1</td>\n",
       "      <td>4.0</td>\n",
       "    </tr>\n",
       "    <tr>\n",
       "      <th>1</th>\n",
       "      <td>12513010</td>\n",
       "      <td>1</td>\n",
       "      <td>1</td>\n",
       "      <td>0</td>\n",
       "      <td>1</td>\n",
       "      <td>1</td>\n",
       "      <td>16.0</td>\n",
       "      <td>7</td>\n",
       "      <td>0</td>\n",
       "      <td>9.0</td>\n",
       "      <td>...</td>\n",
       "      <td>0</td>\n",
       "      <td>5</td>\n",
       "      <td>5</td>\n",
       "      <td>0</td>\n",
       "      <td>0.0</td>\n",
       "      <td>1</td>\n",
       "      <td>15.0</td>\n",
       "      <td>25.0</td>\n",
       "      <td>5</td>\n",
       "      <td>2.0</td>\n",
       "    </tr>\n",
       "    <tr>\n",
       "      <th>2</th>\n",
       "      <td>12588020</td>\n",
       "      <td>0</td>\n",
       "      <td>0</td>\n",
       "      <td>0</td>\n",
       "      <td>0</td>\n",
       "      <td>0</td>\n",
       "      <td>26.0</td>\n",
       "      <td>11</td>\n",
       "      <td>5</td>\n",
       "      <td>10.0</td>\n",
       "      <td>...</td>\n",
       "      <td>0</td>\n",
       "      <td>5</td>\n",
       "      <td>5</td>\n",
       "      <td>0</td>\n",
       "      <td>0.0</td>\n",
       "      <td>1</td>\n",
       "      <td>120.0</td>\n",
       "      <td>40.0</td>\n",
       "      <td>1</td>\n",
       "      <td>2.0</td>\n",
       "    </tr>\n",
       "    <tr>\n",
       "      <th>3</th>\n",
       "      <td>13140010</td>\n",
       "      <td>0</td>\n",
       "      <td>0</td>\n",
       "      <td>0</td>\n",
       "      <td>0</td>\n",
       "      <td>0</td>\n",
       "      <td>24.0</td>\n",
       "      <td>12</td>\n",
       "      <td>2</td>\n",
       "      <td>10.0</td>\n",
       "      <td>...</td>\n",
       "      <td>0</td>\n",
       "      <td>1</td>\n",
       "      <td>5</td>\n",
       "      <td>0</td>\n",
       "      <td>0.0</td>\n",
       "      <td>5</td>\n",
       "      <td>0.0</td>\n",
       "      <td>0.0</td>\n",
       "      <td>1</td>\n",
       "      <td>2.0</td>\n",
       "    </tr>\n",
       "    <tr>\n",
       "      <th>4</th>\n",
       "      <td>13857010</td>\n",
       "      <td>0</td>\n",
       "      <td>0</td>\n",
       "      <td>0</td>\n",
       "      <td>0</td>\n",
       "      <td>0</td>\n",
       "      <td>23.0</td>\n",
       "      <td>11</td>\n",
       "      <td>3</td>\n",
       "      <td>9.0</td>\n",
       "      <td>...</td>\n",
       "      <td>0</td>\n",
       "      <td>5</td>\n",
       "      <td>5</td>\n",
       "      <td>0</td>\n",
       "      <td>0.0</td>\n",
       "      <td>1</td>\n",
       "      <td>10.0</td>\n",
       "      <td>0.0</td>\n",
       "      <td>1</td>\n",
       "      <td>2.0</td>\n",
       "    </tr>\n",
       "  </tbody>\n",
       "</table>\n",
       "<p>5 rows × 235 columns</p>\n",
       "</div>"
      ],
      "text/plain": [
       "     hhidpn  brain_health_diag1  brain_health_diag2  brain_health_1  \\\n",
       "0  10059030                   0                   0               1   \n",
       "1  12513010                   1                   1               0   \n",
       "2  12588020                   0                   0               0   \n",
       "3  13140010                   0                   0               0   \n",
       "4  13857010                   0                   0               0   \n",
       "\n",
       "   brain_health_2  brain_health_3  total_cog  total_recall  serial7  tics  \\\n",
       "0               2               1        0.0             0        0   0.0   \n",
       "1               1               1       16.0             7        0   9.0   \n",
       "2               0               0       26.0            11        5  10.0   \n",
       "3               0               0       24.0            12        2  10.0   \n",
       "4               0               0       23.0            11        3   9.0   \n",
       "\n",
       "   ...    g2878  g2915  g2916  g2918  g2940  g2995  g2996  g2999  g3002  g3060  \n",
       "0  ...        0      5      5      0    0.0      1   52.0    6.0      1    4.0  \n",
       "1  ...        0      5      5      0    0.0      1   15.0   25.0      5    2.0  \n",
       "2  ...        0      5      5      0    0.0      1  120.0   40.0      1    2.0  \n",
       "3  ...        0      1      5      0    0.0      5    0.0    0.0      1    2.0  \n",
       "4  ...        0      5      5      0    0.0      1   10.0    0.0      1    2.0  \n",
       "\n",
       "[5 rows x 235 columns]"
      ]
     },
     "execution_count": 49,
     "metadata": {},
     "output_type": "execute_result"
    }
   ],
   "source": [
    "mask2 = header + add_features + features\n",
    "print (len(mask2))\n",
    "\n",
    "table_data = df[mask2]\n",
    "table_data.info()\n",
    "table_data.head()"
   ]
  },
  {
   "cell_type": "markdown",
   "metadata": {},
   "source": [
    "### Save Data\n"
   ]
  },
  {
   "cell_type": "code",
   "execution_count": 50,
   "metadata": {},
   "outputs": [],
   "source": [
    "#table_data.to_csv(LOCAL_DIR + 'brainFitDx/data/sample/model_data_adams.csv', index=False)"
   ]
  },
  {
   "cell_type": "markdown",
   "metadata": {},
   "source": [
    "## C. HRS 2000 \n",
    "### Loading Data"
   ]
  },
  {
   "cell_type": "code",
   "execution_count": 51,
   "metadata": {},
   "outputs": [],
   "source": [
    "header = ['hhidpn', \n",
    "          'brain_health_1', \n",
    "          'brain_health_2',\n",
    "          'brain_health_3',\n",
    "          'total_cog', 'total_recall', 'serial7','tics','backwards_20','immediate_recall','delayed_recall',\n",
    "          'g1101',  # age\n",
    "          'g1074a', # education yrs\n",
    "          'g1158',  # marital status\n",
    "          'g1092a', # race\n",
    "          'g1085',  #### Added lived with grandparents\n",
    "          'g1142',  #### Importance of religion\n",
    "         ]"
   ]
  },
  {
   "cell_type": "code",
   "execution_count": 52,
   "metadata": {},
   "outputs": [],
   "source": [
    "# Load data \n",
    "table_full = pd.read_pickle(LOCAL_DIR + 'braindata/process_hrs2000.pkl')"
   ]
  },
  {
   "cell_type": "code",
   "execution_count": 53,
   "metadata": {},
   "outputs": [
    {
     "name": "stdout",
     "output_type": "stream",
     "text": [
      "<class 'pandas.core.frame.DataFrame'>\n",
      "Int64Index: 19579 entries, 0 to 19578\n",
      "Columns: 2612 entries, hhidpn to brain_health_3\n",
      "dtypes: float32(4), float64(2173), int16(7), int32(1), int64(8), int8(138), object(281)\n",
      "memory usage: 371.1+ MB\n"
     ]
    }
   ],
   "source": [
    "table_full.info()"
   ]
  },
  {
   "cell_type": "code",
   "execution_count": 54,
   "metadata": {},
   "outputs": [
    {
     "data": {
      "text/html": [
       "<div>\n",
       "<style scoped>\n",
       "    .dataframe tbody tr th:only-of-type {\n",
       "        vertical-align: middle;\n",
       "    }\n",
       "\n",
       "    .dataframe tbody tr th {\n",
       "        vertical-align: top;\n",
       "    }\n",
       "\n",
       "    .dataframe thead th {\n",
       "        text-align: right;\n",
       "    }\n",
       "</style>\n",
       "<table border=\"1\" class=\"dataframe\">\n",
       "  <thead>\n",
       "    <tr style=\"text-align: right;\">\n",
       "      <th></th>\n",
       "      <th>hhidpn</th>\n",
       "      <th>g1051</th>\n",
       "      <th>g1051a</th>\n",
       "      <th>g1053</th>\n",
       "      <th>g1053a</th>\n",
       "      <th>g1054</th>\n",
       "      <th>g1056</th>\n",
       "      <th>g1060</th>\n",
       "      <th>g1061m</th>\n",
       "      <th>g1063m</th>\n",
       "      <th>...</th>\n",
       "      <th>backwards_20</th>\n",
       "      <th>serial7</th>\n",
       "      <th>immediate_recall</th>\n",
       "      <th>delayed_recall</th>\n",
       "      <th>total_recall</th>\n",
       "      <th>tics</th>\n",
       "      <th>total_cog</th>\n",
       "      <th>brain_health_1</th>\n",
       "      <th>brain_health_2</th>\n",
       "      <th>brain_health_3</th>\n",
       "    </tr>\n",
       "  </thead>\n",
       "  <tbody>\n",
       "    <tr>\n",
       "      <th>0</th>\n",
       "      <td>2010</td>\n",
       "      <td>NaN</td>\n",
       "      <td>10</td>\n",
       "      <td>NaN</td>\n",
       "      <td>1934</td>\n",
       "      <td>NaN</td>\n",
       "      <td>NaN</td>\n",
       "      <td>NaN</td>\n",
       "      <td>NaN</td>\n",
       "      <td>NaN</td>\n",
       "      <td>...</td>\n",
       "      <td>2</td>\n",
       "      <td>0</td>\n",
       "      <td>5</td>\n",
       "      <td>3</td>\n",
       "      <td>8</td>\n",
       "      <td>6.0</td>\n",
       "      <td>14.0</td>\n",
       "      <td>0</td>\n",
       "      <td>1</td>\n",
       "      <td>1</td>\n",
       "    </tr>\n",
       "    <tr>\n",
       "      <th>1</th>\n",
       "      <td>3010</td>\n",
       "      <td>NaN</td>\n",
       "      <td>1</td>\n",
       "      <td>NaN</td>\n",
       "      <td>1936</td>\n",
       "      <td>NaN</td>\n",
       "      <td>NaN</td>\n",
       "      <td>NaN</td>\n",
       "      <td>NaN</td>\n",
       "      <td>NaN</td>\n",
       "      <td>...</td>\n",
       "      <td>2</td>\n",
       "      <td>4</td>\n",
       "      <td>10</td>\n",
       "      <td>10</td>\n",
       "      <td>20</td>\n",
       "      <td>0.0</td>\n",
       "      <td>24.0</td>\n",
       "      <td>0</td>\n",
       "      <td>0</td>\n",
       "      <td>0</td>\n",
       "    </tr>\n",
       "    <tr>\n",
       "      <th>2</th>\n",
       "      <td>3020</td>\n",
       "      <td>NaN</td>\n",
       "      <td>9</td>\n",
       "      <td>NaN</td>\n",
       "      <td>1938</td>\n",
       "      <td>NaN</td>\n",
       "      <td>NaN</td>\n",
       "      <td>NaN</td>\n",
       "      <td>NaN</td>\n",
       "      <td>NaN</td>\n",
       "      <td>...</td>\n",
       "      <td>2</td>\n",
       "      <td>5</td>\n",
       "      <td>6</td>\n",
       "      <td>5</td>\n",
       "      <td>11</td>\n",
       "      <td>0.0</td>\n",
       "      <td>16.0</td>\n",
       "      <td>0</td>\n",
       "      <td>0</td>\n",
       "      <td>0</td>\n",
       "    </tr>\n",
       "    <tr>\n",
       "      <th>3</th>\n",
       "      <td>10001010</td>\n",
       "      <td>NaN</td>\n",
       "      <td>6</td>\n",
       "      <td>NaN</td>\n",
       "      <td>1939</td>\n",
       "      <td>NaN</td>\n",
       "      <td>NaN</td>\n",
       "      <td>NaN</td>\n",
       "      <td>NaN</td>\n",
       "      <td>NaN</td>\n",
       "      <td>...</td>\n",
       "      <td>2</td>\n",
       "      <td>5</td>\n",
       "      <td>7</td>\n",
       "      <td>7</td>\n",
       "      <td>14</td>\n",
       "      <td>0.0</td>\n",
       "      <td>19.0</td>\n",
       "      <td>0</td>\n",
       "      <td>0</td>\n",
       "      <td>0</td>\n",
       "    </tr>\n",
       "    <tr>\n",
       "      <th>4</th>\n",
       "      <td>10003030</td>\n",
       "      <td>NaN</td>\n",
       "      <td>3</td>\n",
       "      <td>NaN</td>\n",
       "      <td>1956</td>\n",
       "      <td>NaN</td>\n",
       "      <td>NaN</td>\n",
       "      <td>NaN</td>\n",
       "      <td>NaN</td>\n",
       "      <td>NaN</td>\n",
       "      <td>...</td>\n",
       "      <td>2</td>\n",
       "      <td>5</td>\n",
       "      <td>10</td>\n",
       "      <td>10</td>\n",
       "      <td>20</td>\n",
       "      <td>0.0</td>\n",
       "      <td>25.0</td>\n",
       "      <td>0</td>\n",
       "      <td>0</td>\n",
       "      <td>0</td>\n",
       "    </tr>\n",
       "  </tbody>\n",
       "</table>\n",
       "<p>5 rows × 2612 columns</p>\n",
       "</div>"
      ],
      "text/plain": [
       "     hhidpn  g1051  g1051a  g1053  g1053a  g1054  g1056  g1060  g1061m  \\\n",
       "0      2010    NaN      10    NaN    1934    NaN    NaN    NaN     NaN   \n",
       "1      3010    NaN       1    NaN    1936    NaN    NaN    NaN     NaN   \n",
       "2      3020    NaN       9    NaN    1938    NaN    NaN    NaN     NaN   \n",
       "3  10001010    NaN       6    NaN    1939    NaN    NaN    NaN     NaN   \n",
       "4  10003030    NaN       3    NaN    1956    NaN    NaN    NaN     NaN   \n",
       "\n",
       "   g1063m       ...        backwards_20  serial7  immediate_recall  \\\n",
       "0     NaN       ...                   2        0                 5   \n",
       "1     NaN       ...                   2        4                10   \n",
       "2     NaN       ...                   2        5                 6   \n",
       "3     NaN       ...                   2        5                 7   \n",
       "4     NaN       ...                   2        5                10   \n",
       "\n",
       "   delayed_recall  total_recall  tics  total_cog  brain_health_1  \\\n",
       "0               3             8   6.0       14.0               0   \n",
       "1              10            20   0.0       24.0               0   \n",
       "2               5            11   0.0       16.0               0   \n",
       "3               7            14   0.0       19.0               0   \n",
       "4              10            20   0.0       25.0               0   \n",
       "\n",
       "   brain_health_2  brain_health_3  \n",
       "0               1               1  \n",
       "1               0               0  \n",
       "2               0               0  \n",
       "3               0               0  \n",
       "4               0               0  \n",
       "\n",
       "[5 rows x 2612 columns]"
      ]
     },
     "execution_count": 54,
     "metadata": {},
     "output_type": "execute_result"
    }
   ],
   "source": [
    "table_full.head(5)"
   ]
  },
  {
   "cell_type": "code",
   "execution_count": 55,
   "metadata": {},
   "outputs": [
    {
     "data": {
      "text/plain": [
       "brain_health_3\n",
       "0    20.0\n",
       "1     8.0\n",
       "Name: total_cog, dtype: float64"
      ]
     },
     "execution_count": 55,
     "metadata": {},
     "output_type": "execute_result"
    }
   ],
   "source": [
    "table_full.groupby('brain_health_3')['total_cog'].median()"
   ]
  },
  {
   "cell_type": "code",
   "execution_count": 56,
   "metadata": {},
   "outputs": [],
   "source": [
    "df = table_full"
   ]
  },
  {
   "cell_type": "markdown",
   "metadata": {},
   "source": [
    "### Pre-Process Data"
   ]
  },
  {
   "cell_type": "code",
   "execution_count": 57,
   "metadata": {},
   "outputs": [
    {
     "data": {
      "text/plain": [
       "array([ 65,  64,  61,  60,  44,  54,  62,  52,  63,  57,  59,  72,  58,\n",
       "        71,  66, 100,  67,  48,  69,  68,  55,  50,  74,  53,  82,  70,\n",
       "        51,  34,  73,  40,  56,  33,  77,  75,  46,  47,  43,  36,  76,\n",
       "        45,  42,  49,  81,  41,  38,  78,  37,  29,  86,  35,  31,  32,\n",
       "        39,  79,  80,  88,  83,  85,  30,  84,  89,  26,  23,  27,  87,\n",
       "        92,  96,  90,  93,  98,  97,  91, 104,  95,  94,  99, 102, 101,\n",
       "       107, 103])"
      ]
     },
     "execution_count": 57,
     "metadata": {},
     "output_type": "execute_result"
    }
   ],
   "source": [
    "# Age\n",
    "df['g1101'].unique()"
   ]
  },
  {
   "cell_type": "code",
   "execution_count": 58,
   "metadata": {},
   "outputs": [],
   "source": [
    "df = rf.recode_numeric_column(df, 'g1101', 'g1101', 'numeric100', all_scales['numeric100'])"
   ]
  },
  {
   "cell_type": "code",
   "execution_count": 59,
   "metadata": {},
   "outputs": [
    {
     "data": {
      "text/plain": [
       "array([ 65,  64,  61,  60,  44,  54,  62,  52,  63,  57,  59,  72,  58,\n",
       "        71,  66, 100,  67,  48,  69,  68,  55,  50,  74,  53,  82,  70,\n",
       "        51,  34,  73,  40,  56,  33,  77,  75,  46,  47,  43,  36,  76,\n",
       "        45,  42,  49,  81,  41,  38,  78,  37,  29,  86,  35,  31,  32,\n",
       "        39,  79,  80,  88,  83,  85,  30,  84,  89,  26,  23,  27,  87,\n",
       "        92,  96,  90,  93,   0,  97,  91, 104,  95,  94, 102, 101, 107, 103])"
      ]
     },
     "execution_count": 59,
     "metadata": {},
     "output_type": "execute_result"
    }
   ],
   "source": [
    "df['g1101'].unique()"
   ]
  },
  {
   "cell_type": "code",
   "execution_count": 60,
   "metadata": {},
   "outputs": [
    {
     "data": {
      "text/plain": [
       "12    6566\n",
       "17    1835\n",
       "16    1757\n",
       "14    1710\n",
       "13    1299\n",
       "8     1134\n",
       "10    1105\n",
       "11     994\n",
       "9      747\n",
       "15     656\n",
       "6      379\n",
       "7      367\n",
       "0      247\n",
       "5      229\n",
       "3      222\n",
       "4      188\n",
       "2       86\n",
       "1       58\n",
       "Name: g1074a, dtype: int64"
      ]
     },
     "execution_count": 60,
     "metadata": {},
     "output_type": "execute_result"
    }
   ],
   "source": [
    "# recode\n",
    "df.loc[:,'g1074a'].replace(to_replace=97., value=0,inplace=True)\n",
    "df.loc[:,'g1074a'].replace(to_replace=98., value=0,inplace=True)\n",
    "df['g1074a'].value_counts()"
   ]
  },
  {
   "cell_type": "code",
   "execution_count": 61,
   "metadata": {},
   "outputs": [
    {
     "data": {
      "text/plain": [
       "1    12520\n",
       "2     6348\n",
       "3      614\n",
       "0       97\n",
       "dtype: int64"
      ]
     },
     "execution_count": 61,
     "metadata": {},
     "output_type": "execute_result"
    }
   ],
   "source": [
    "# recode marital status (G1158)\n",
    "marital_status = rf.initialize_series(df)\n",
    "indices = rf.get_indices([df['g1158']==1, # 1: married \n",
    "                        df['g1158'].between(3,5), # 2: separated/divorced/widowed\n",
    "                        df['g1158']==6  # 3: never married\n",
    "                       ]) \n",
    "marital_status = rf.update_series(marital_status, indices, values=[1,2,3]) # 0: don't know/other\n",
    "marital_status.unique()\n",
    "marital_status.value_counts()"
   ]
  },
  {
   "cell_type": "code",
   "execution_count": 62,
   "metadata": {},
   "outputs": [
    {
     "data": {
      "text/plain": [
       "1    12520\n",
       "2     6348\n",
       "3      614\n",
       "0       97\n",
       "Name: g1158, dtype: int64"
      ]
     },
     "execution_count": 62,
     "metadata": {},
     "output_type": "execute_result"
    }
   ],
   "source": [
    "df.loc[:,'g1158'] = marital_status\n",
    "df['g1158'].value_counts()"
   ]
  },
  {
   "cell_type": "code",
   "execution_count": 63,
   "metadata": {},
   "outputs": [
    {
     "data": {
      "text/plain": [
       "1.0    16076\n",
       "2.0     2704\n",
       "7.0      716\n",
       "8.0        1\n",
       "Name: g1092a, dtype: int64"
      ]
     },
     "execution_count": 63,
     "metadata": {},
     "output_type": "execute_result"
    }
   ],
   "source": [
    "# examine race \n",
    "df['g1092a'].value_counts() "
   ]
  },
  {
   "cell_type": "code",
   "execution_count": 64,
   "metadata": {
    "collapsed": true
   },
   "outputs": [
    {
     "data": {
      "text/plain": [
       "1    14932\n",
       "2     2668\n",
       "3     1545\n",
       "4      434\n",
       "dtype: int64"
      ]
     },
     "execution_count": 64,
     "metadata": {},
     "output_type": "execute_result"
    }
   ],
   "source": [
    "# recode race (G1092A)\n",
    "race=rf.initialize_series(df)\n",
    "indices=rf.get_indices([df['g1092a']==1, # 1: white\n",
    "                        df['g1092a']==2, # 2: black\n",
    "                        df['g1089a']==1, # 3: hispanic\n",
    "                        (df['g1089a']==5) & (df['g1092a']==7) # 4: other\n",
    "                       ])\n",
    "race=rf.update_series(race, indices, values=[1,2,3,4]) # 0: 82 values that are missing in raw variable\n",
    "\n",
    "# grouping category 0 into other category\n",
    "indices=rf.get_indices([race==0])\n",
    "race=rf.update_series(race, indices, values=[4])\n",
    "race.value_counts()"
   ]
  },
  {
   "cell_type": "code",
   "execution_count": 65,
   "metadata": {},
   "outputs": [
    {
     "data": {
      "text/plain": [
       "1    14932\n",
       "2     2668\n",
       "3     1545\n",
       "4      434\n",
       "Name: g1092a, dtype: int64"
      ]
     },
     "execution_count": 65,
     "metadata": {},
     "output_type": "execute_result"
    }
   ],
   "source": [
    "df.loc[:,'g1092a'] = race\n",
    "df['g1092a'].value_counts()"
   ]
  },
  {
   "cell_type": "code",
   "execution_count": 66,
   "metadata": {},
   "outputs": [
    {
     "data": {
      "text/plain": [
       "0    14971\n",
       "1     4494\n",
       "2      114\n",
       "dtype: int64"
      ]
     },
     "execution_count": 66,
     "metadata": {},
     "output_type": "execute_result"
    }
   ],
   "source": [
    "# recode lived with grandparents (G1085)\n",
    "lived_grands=rf.initialize_series(df)\n",
    "indices=rf.get_indices([df['g1085']==1, # 1: yes\n",
    "                        df['g1085'].between(8,9) # 2: other\n",
    "                       ]) \n",
    "lived_grands=rf.update_series(lived_grands, indices, values=[1,2]) \n",
    "lived_grands.value_counts()"
   ]
  },
  {
   "cell_type": "code",
   "execution_count": 67,
   "metadata": {},
   "outputs": [
    {
     "data": {
      "text/plain": [
       "0    14971\n",
       "1     4494\n",
       "2      114\n",
       "Name: g1085, dtype: int64"
      ]
     },
     "execution_count": 67,
     "metadata": {},
     "output_type": "execute_result"
    }
   ],
   "source": [
    "df.loc[:,'g1085'] = lived_grands\n",
    "df['g1085'].value_counts()"
   ]
  },
  {
   "cell_type": "code",
   "execution_count": 68,
   "metadata": {},
   "outputs": [
    {
     "data": {
      "text/plain": [
       "3    12686\n",
       "2     4854\n",
       "1     2004\n",
       "0       35\n",
       "dtype: int64"
      ]
     },
     "execution_count": 68,
     "metadata": {},
     "output_type": "execute_result"
    }
   ],
   "source": [
    "# recode religion (G1142)\n",
    "religion=rf.initialize_series(df)\n",
    "indices=rf.get_indices([df['g1142']==1, # 3: very important\n",
    "                        df['g1142']==3, # 2: somewhat important\n",
    "                        df['g1142']==5 # 1: not very important\n",
    "                       ]) \n",
    "religion=rf.update_series(religion, indices, values=[3,2,1]) # 0: don't know, other\n",
    "religion.value_counts()"
   ]
  },
  {
   "cell_type": "code",
   "execution_count": 69,
   "metadata": {},
   "outputs": [],
   "source": [
    "# Drop most cols\n",
    "mask = '^hhidpn|^brain|^total|^serial|^tics|^backwards|^immediate|^delayed|^g[1-3]'\n",
    "filter = df.keys().str.contains(mask, regex=True).tolist()\n",
    "df = df.loc[:,filter].copy()"
   ]
  },
  {
   "cell_type": "code",
   "execution_count": 70,
   "metadata": {},
   "outputs": [
    {
     "name": "stdout",
     "output_type": "stream",
     "text": [
      "<class 'pandas.core.frame.DataFrame'>\n",
      "Int64Index: 19579 entries, 0 to 19578\n",
      "Columns: 2612 entries, hhidpn to brain_health_3\n",
      "dtypes: float32(4), float64(2172), int16(6), int32(1), int64(13), int8(135), object(281)\n",
      "memory usage: 371.6+ MB\n"
     ]
    }
   ],
   "source": [
    "df.info()"
   ]
  },
  {
   "cell_type": "code",
   "execution_count": 71,
   "metadata": {},
   "outputs": [],
   "source": [
    "features = features_nonnum['old_column'].tolist() + features_num['old_column'].tolist()\n",
    "features.sort()"
   ]
  },
  {
   "cell_type": "markdown",
   "metadata": {},
   "source": [
    "### Process Features"
   ]
  },
  {
   "cell_type": "code",
   "execution_count": 72,
   "metadata": {},
   "outputs": [],
   "source": [
    "# Process numeric features\n",
    "for index, row in features_num.iterrows():\n",
    "    df = rf.recode_numeric_column(df, row['old_column'], row['new_column'], row['question_type'], all_scales[row['question_type']])\n",
    "    "
   ]
  },
  {
   "cell_type": "code",
   "execution_count": 73,
   "metadata": {},
   "outputs": [],
   "source": [
    "# Process other features\n",
    "for index, row in features_nonnum.iterrows():\n",
    "    df = rf.recode_single_column(df, row['old_column'], row['new_column'], row['question_type'], all_scales[row['question_type']])"
   ]
  },
  {
   "cell_type": "markdown",
   "metadata": {},
   "source": [
    "### Add in derived features\n"
   ]
  },
  {
   "cell_type": "markdown",
   "metadata": {},
   "source": [
    "* Time for serial 7\n",
    "* Proxy dummy variable (g1527?)\n",
    "* Health trend\n",
    "* BMI (lots of Nan)\n",
    "\n"
   ]
  },
  {
   "cell_type": "code",
   "execution_count": 74,
   "metadata": {},
   "outputs": [],
   "source": [
    "# Time to do serial 7\n",
    "df['g1814_05'] = df['g1814'] - df['g1805']"
   ]
  },
  {
   "cell_type": "code",
   "execution_count": 75,
   "metadata": {},
   "outputs": [],
   "source": [
    "# Proxy\n",
    "# g1527?"
   ]
  },
  {
   "cell_type": "code",
   "execution_count": 76,
   "metadata": {},
   "outputs": [],
   "source": [
    "# Health trend\n",
    "df = rf.recode_health_trend(df, 'g1229', 'g1233', 'g1234', 'g1_trend_health')"
   ]
  },
  {
   "cell_type": "code",
   "execution_count": 77,
   "metadata": {},
   "outputs": [],
   "source": [
    "# BMI IN ADAMS ONLY 2 VALID VALUES\n",
    "# df = rf.recode_bmi(df, 'g1425', 'g1428', 'g1429', 'bmi')"
   ]
  },
  {
   "cell_type": "code",
   "execution_count": 78,
   "metadata": {},
   "outputs": [],
   "source": [
    "add_features = ['g1814_05', 'g1_trend_health']"
   ]
  },
  {
   "cell_type": "markdown",
   "metadata": {},
   "source": [
    "## Final dataset"
   ]
  },
  {
   "cell_type": "code",
   "execution_count": 79,
   "metadata": {},
   "outputs": [
    {
     "name": "stdout",
     "output_type": "stream",
     "text": [
      "231\n",
      "<class 'pandas.core.frame.DataFrame'>\n",
      "Int64Index: 19579 entries, 0 to 19578\n",
      "Columns: 231 entries, hhidpn to g3060\n",
      "dtypes: float64(34), int32(1), int64(195), int8(1)\n",
      "memory usage: 34.4 MB\n"
     ]
    },
    {
     "data": {
      "text/html": [
       "<div>\n",
       "<style scoped>\n",
       "    .dataframe tbody tr th:only-of-type {\n",
       "        vertical-align: middle;\n",
       "    }\n",
       "\n",
       "    .dataframe tbody tr th {\n",
       "        vertical-align: top;\n",
       "    }\n",
       "\n",
       "    .dataframe thead th {\n",
       "        text-align: right;\n",
       "    }\n",
       "</style>\n",
       "<table border=\"1\" class=\"dataframe\">\n",
       "  <thead>\n",
       "    <tr style=\"text-align: right;\">\n",
       "      <th></th>\n",
       "      <th>hhidpn</th>\n",
       "      <th>brain_health_1</th>\n",
       "      <th>brain_health_2</th>\n",
       "      <th>brain_health_3</th>\n",
       "      <th>total_cog</th>\n",
       "      <th>total_recall</th>\n",
       "      <th>serial7</th>\n",
       "      <th>tics</th>\n",
       "      <th>backwards_20</th>\n",
       "      <th>immediate_recall</th>\n",
       "      <th>...</th>\n",
       "      <th>g2878</th>\n",
       "      <th>g2915</th>\n",
       "      <th>g2916</th>\n",
       "      <th>g2918</th>\n",
       "      <th>g2940</th>\n",
       "      <th>g2995</th>\n",
       "      <th>g2996</th>\n",
       "      <th>g2999</th>\n",
       "      <th>g3002</th>\n",
       "      <th>g3060</th>\n",
       "    </tr>\n",
       "  </thead>\n",
       "  <tbody>\n",
       "    <tr>\n",
       "      <th>0</th>\n",
       "      <td>2010</td>\n",
       "      <td>0</td>\n",
       "      <td>1</td>\n",
       "      <td>1</td>\n",
       "      <td>14.0</td>\n",
       "      <td>8</td>\n",
       "      <td>0</td>\n",
       "      <td>6.0</td>\n",
       "      <td>2</td>\n",
       "      <td>5</td>\n",
       "      <td>...</td>\n",
       "      <td>0</td>\n",
       "      <td>1</td>\n",
       "      <td>5</td>\n",
       "      <td>0</td>\n",
       "      <td>0.0</td>\n",
       "      <td>5</td>\n",
       "      <td>0.0</td>\n",
       "      <td>4.0</td>\n",
       "      <td>1</td>\n",
       "      <td>1.0</td>\n",
       "    </tr>\n",
       "    <tr>\n",
       "      <th>1</th>\n",
       "      <td>3010</td>\n",
       "      <td>0</td>\n",
       "      <td>0</td>\n",
       "      <td>0</td>\n",
       "      <td>24.0</td>\n",
       "      <td>20</td>\n",
       "      <td>4</td>\n",
       "      <td>0.0</td>\n",
       "      <td>2</td>\n",
       "      <td>10</td>\n",
       "      <td>...</td>\n",
       "      <td>0</td>\n",
       "      <td>5</td>\n",
       "      <td>5</td>\n",
       "      <td>0</td>\n",
       "      <td>0.0</td>\n",
       "      <td>1</td>\n",
       "      <td>200.0</td>\n",
       "      <td>2.0</td>\n",
       "      <td>1</td>\n",
       "      <td>2.0</td>\n",
       "    </tr>\n",
       "    <tr>\n",
       "      <th>2</th>\n",
       "      <td>3020</td>\n",
       "      <td>0</td>\n",
       "      <td>0</td>\n",
       "      <td>0</td>\n",
       "      <td>16.0</td>\n",
       "      <td>11</td>\n",
       "      <td>5</td>\n",
       "      <td>0.0</td>\n",
       "      <td>2</td>\n",
       "      <td>6</td>\n",
       "      <td>...</td>\n",
       "      <td>0</td>\n",
       "      <td>5</td>\n",
       "      <td>5</td>\n",
       "      <td>0</td>\n",
       "      <td>0.0</td>\n",
       "      <td>1</td>\n",
       "      <td>10.0</td>\n",
       "      <td>0.0</td>\n",
       "      <td>5</td>\n",
       "      <td>2.0</td>\n",
       "    </tr>\n",
       "    <tr>\n",
       "      <th>3</th>\n",
       "      <td>10001010</td>\n",
       "      <td>0</td>\n",
       "      <td>0</td>\n",
       "      <td>0</td>\n",
       "      <td>19.0</td>\n",
       "      <td>14</td>\n",
       "      <td>5</td>\n",
       "      <td>0.0</td>\n",
       "      <td>2</td>\n",
       "      <td>7</td>\n",
       "      <td>...</td>\n",
       "      <td>0</td>\n",
       "      <td>5</td>\n",
       "      <td>5</td>\n",
       "      <td>0</td>\n",
       "      <td>0.0</td>\n",
       "      <td>5</td>\n",
       "      <td>0.0</td>\n",
       "      <td>130.0</td>\n",
       "      <td>1</td>\n",
       "      <td>4.0</td>\n",
       "    </tr>\n",
       "    <tr>\n",
       "      <th>4</th>\n",
       "      <td>10003030</td>\n",
       "      <td>0</td>\n",
       "      <td>0</td>\n",
       "      <td>0</td>\n",
       "      <td>25.0</td>\n",
       "      <td>20</td>\n",
       "      <td>5</td>\n",
       "      <td>0.0</td>\n",
       "      <td>2</td>\n",
       "      <td>10</td>\n",
       "      <td>...</td>\n",
       "      <td>0</td>\n",
       "      <td>5</td>\n",
       "      <td>5</td>\n",
       "      <td>0</td>\n",
       "      <td>0.0</td>\n",
       "      <td>5</td>\n",
       "      <td>0.0</td>\n",
       "      <td>0.0</td>\n",
       "      <td>5</td>\n",
       "      <td>4.0</td>\n",
       "    </tr>\n",
       "  </tbody>\n",
       "</table>\n",
       "<p>5 rows × 231 columns</p>\n",
       "</div>"
      ],
      "text/plain": [
       "     hhidpn  brain_health_1  brain_health_2  brain_health_3  total_cog  \\\n",
       "0      2010               0               1               1       14.0   \n",
       "1      3010               0               0               0       24.0   \n",
       "2      3020               0               0               0       16.0   \n",
       "3  10001010               0               0               0       19.0   \n",
       "4  10003030               0               0               0       25.0   \n",
       "\n",
       "   total_recall  serial7  tics  backwards_20  immediate_recall  ...    g2878  \\\n",
       "0             8        0   6.0             2                 5  ...        0   \n",
       "1            20        4   0.0             2                10  ...        0   \n",
       "2            11        5   0.0             2                 6  ...        0   \n",
       "3            14        5   0.0             2                 7  ...        0   \n",
       "4            20        5   0.0             2                10  ...        0   \n",
       "\n",
       "   g2915  g2916  g2918  g2940  g2995  g2996  g2999  g3002  g3060  \n",
       "0      1      5      0    0.0      5    0.0    4.0      1    1.0  \n",
       "1      5      5      0    0.0      1  200.0    2.0      1    2.0  \n",
       "2      5      5      0    0.0      1   10.0    0.0      5    2.0  \n",
       "3      5      5      0    0.0      5    0.0  130.0      1    4.0  \n",
       "4      5      5      0    0.0      5    0.0    0.0      5    4.0  \n",
       "\n",
       "[5 rows x 231 columns]"
      ]
     },
     "execution_count": 79,
     "metadata": {},
     "output_type": "execute_result"
    }
   ],
   "source": [
    "mask2 = header + add_features + features\n",
    "print (len(mask2))\n",
    "\n",
    "table_data = df[mask2]\n",
    "table_data.info()\n",
    "table_data.head()"
   ]
  },
  {
   "cell_type": "code",
   "execution_count": 80,
   "metadata": {},
   "outputs": [
    {
     "name": "stdout",
     "output_type": "stream",
     "text": [
      "<class 'pandas.core.frame.DataFrame'>\n",
      "Int64Index: 19579 entries, 0 to 19578\n",
      "Columns: 231 entries, hhidpn to g3060\n",
      "dtypes: float64(34), int32(1), int64(195), int8(1)\n",
      "memory usage: 34.4 MB\n"
     ]
    }
   ],
   "source": [
    "table_data.info()"
   ]
  },
  {
   "cell_type": "markdown",
   "metadata": {},
   "source": [
    "### Save Data -> HRS Sample, processed"
   ]
  },
  {
   "cell_type": "code",
   "execution_count": 81,
   "metadata": {},
   "outputs": [],
   "source": [
    "#table_data.to_csv(LOCAL_DIR + 'brainFitDx/data/sample/model_data_hrs.csv', index=False)"
   ]
  },
  {
   "cell_type": "code",
   "execution_count": null,
   "metadata": {},
   "outputs": [],
   "source": []
  }
 ],
 "metadata": {
  "kernelspec": {
   "display_name": "Python 3",
   "language": "python",
   "name": "python3"
  },
  "language_info": {
   "codemirror_mode": {
    "name": "ipython",
    "version": 3
   },
   "file_extension": ".py",
   "mimetype": "text/x-python",
   "name": "python",
   "nbconvert_exporter": "python",
   "pygments_lexer": "ipython3",
   "version": "3.6.5"
  }
 },
 "nbformat": 4,
 "nbformat_minor": 2
}
