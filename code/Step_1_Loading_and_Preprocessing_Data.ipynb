{
 "cells": [
  {
   "cell_type": "markdown",
   "metadata": {},
   "source": [
    "# Step 1. Load and Preprocess data\n",
    "version 4.0 August 1 2018\n",
    "\n",
    "## A. Introduction\n",
    "\n",
    "In this notebook we load and preprocess the HRS data. We have loadded HRS2000 (Rand version) and the ADAMS sub-sample. Steps taken are as follows:\n",
    "\n",
    "1. Process ADAMS data, merge with HRS 2000 and 2002, calculate score and save it into `final_adams_and_hrs.csv` [1770 obs]\n",
    "\n",
    "2. Process ADAMS as above but only 856 obs from the sample which responded `final_adams_and_hrs_small.csv` [856 obs]\n",
    "\n",
    "2. Process HRS 2000 data, calculate score and save it into `processed_hrs2000.csv, processed_hrs2000.pkl` [Too large to save to git]\n",
    "\n",
    "3. Other files - `in_adams (hhidpns in Adams), in_2000 (HRS2000), in_2002 (HRS2000), in_adams2 (HRS2002 in Adams)`\n",
    "\n",
    "4. We calculate the following scores: immediate recall, delayed recall, total recall, tics, serial 7, backwards, total cog. \n",
    "\n",
    "5. We calculate the following labels: brain_health1, brain_health2, brain_health3**\n",
    "\n",
    "**Number of features in the thousands. See Step 2. EDA notebook for exploration.**"
   ]
  },
  {
   "cell_type": "code",
   "execution_count": 1,
   "metadata": {
    "collapsed": true
   },
   "outputs": [],
   "source": [
    "# Import libraries\n",
    "import pandas as pd\n",
    "import numpy as np\n",
    "import sys\n",
    "\n",
    "import matplotlib\n",
    "import matplotlib.pyplot as plt\n",
    "import seaborn as sns\n",
    "\n",
    "import recode_functions as rf\n",
    "\n",
    "\n",
    "%load_ext autoreload\n",
    "%autoreload 2\n",
    "%matplotlib inline"
   ]
  },
  {
   "cell_type": "code",
   "execution_count": 2,
   "metadata": {},
   "outputs": [],
   "source": [
    "# Helper function\n",
    "def drop_y(df):\n",
    "    # list comprehension of the cols that end with '_y'\n",
    "    to_drop = [x for x in df if x.endswith('_y')]\n",
    "    df.drop(to_drop, axis=1, inplace=True)\n",
    "    \n",
    "LOCAL_DIR = '/home/jovyan/notebook/'"
   ]
  },
  {
   "cell_type": "markdown",
   "metadata": {},
   "source": [
    "## B. Process for Data Ingestion and Simple Preprocessing\n",
    "\n",
    "* Load ADAMS File\n",
    "* Process file, add in detailed ADAMS A data\n",
    "* Load RAND FAT FILES for 2000 and 2002\n",
    "* Calculate score\n",
    "* Merge databases\n"
   ]
  },
  {
   "cell_type": "markdown",
   "metadata": {},
   "source": [
    "### Load and process ADAMS data"
   ]
  },
  {
   "cell_type": "code",
   "execution_count": 3,
   "metadata": {},
   "outputs": [],
   "source": [
    "# Load ADAMS tracker file\n",
    "table_adams = pd.read_csv(LOCAL_DIR + 'brainFitDx/data/adams/ADAMS1TRK.csv')"
   ]
  },
  {
   "cell_type": "code",
   "execution_count": 4,
   "metadata": {},
   "outputs": [
    {
     "name": "stdout",
     "output_type": "stream",
     "text": [
      "<class 'pandas.core.frame.DataFrame'>\n",
      "RangeIndex: 1770 entries, 0 to 1769\n",
      "Columns: 120 entries, HHID to VERSION\n",
      "dtypes: float64(50), int64(68), object(2)\n",
      "memory usage: 1.6+ MB\n"
     ]
    }
   ],
   "source": [
    "table_adams.info()"
   ]
  },
  {
   "cell_type": "code",
   "execution_count": 5,
   "metadata": {},
   "outputs": [],
   "source": [
    "table_adams['hhidpn'] = 1000 * table_adams['HHID'] + table_adams['PN']"
   ]
  },
  {
   "cell_type": "code",
   "execution_count": 6,
   "metadata": {},
   "outputs": [],
   "source": [
    "# Write the ADAMS full sample n = 1770 individuals, hhidpn id\n",
    "table_adams['hhidpn'].to_csv(LOCAL_DIR + 'brainFitDx/data/sample/sample-ids.csv')"
   ]
  },
  {
   "cell_type": "code",
   "execution_count": 7,
   "metadata": {},
   "outputs": [],
   "source": [
    "# Add in wave A detailed tables\n",
    "table_b = pd.read_csv(LOCAL_DIR + 'brainFitDx/data/adams/adams_section_b.csv')\n",
    "table_c = pd.read_csv(LOCAL_DIR + 'brainFitDx/data/adams/adams_section_c.csv')\n",
    "table_d = pd.read_csv(LOCAL_DIR + 'brainFitDx/data/adams/adams_section_d.csv')\n",
    "#table_e = pd.read_csv('/home/levi/data/brainFitDx/data/adams/adams_section_e.csv')\n",
    "#table_f = pd.read_csv('/home/levi/data/brainFitDx/data/adams/adams_section_f.csv')\n",
    "#table_g = pd.read_csv('/home/levi/data/brainFitDx/data/adams/adams_section_g.csv')\n",
    "#table_h = pd.read_csv('/home/levi/data/brainFitDx/data/adams/adams_section_h.csv')\n",
    "#table_j = pd.read_csv('/home/levi/data/brainFitDx/data/adams/adams_section_j.csv')\n",
    "#table_m = pd.read_csv('/home/levi/data/brainFitDx/data/adams/adams_section_m.csv')\n",
    "#table_n = pd.read_csv('/home/levi/data/brainFitDx/data/adams/adams_section_n.csv')"
   ]
  },
  {
   "cell_type": "code",
   "execution_count": 8,
   "metadata": {},
   "outputs": [],
   "source": [
    "table_b['hhidpn'] = 1000 * table_b['HHID'] + table_b['PN']\n",
    "table_c['hhidpn'] = 1000 * table_c['HHID'] + table_c['PN']\n",
    "table_d['hhidpn'] = 1000 * table_d['HHID'] + table_d['PN']\n",
    "#table_e['hhidpn'] = 1000 * table_e['HHID'] + table_e['PN']\n",
    "#table_f['hhidpn'] = 1000 * table_f['HHID'] + table_f['PN']\n",
    "#table_g['hhidpn'] = 1000 * table_g['HHID'] + table_g['PN']\n",
    "#table_h['hhidpn'] = 1000 * table_h['HHID'] + table_h['PN']\n",
    "#table_j['hhidpn'] = 1000 * table_j['HHID'] + table_j['PN']\n",
    "#table_m['hhidpn'] = 1000 * table_m['HHID'] + table_m['PN']\n",
    "#table_n['hhidpn'] = 1000 * table_n['HHID'] + table_n['PN']"
   ]
  },
  {
   "cell_type": "code",
   "execution_count": 9,
   "metadata": {},
   "outputs": [
    {
     "name": "stdout",
     "output_type": "stream",
     "text": [
      "<class 'pandas.core.frame.DataFrame'>\n",
      "RangeIndex: 856 entries, 0 to 855\n",
      "Columns: 102 entries, HHID to hhidpn\n",
      "dtypes: float64(22), int64(75), object(5)\n",
      "memory usage: 682.2+ KB\n"
     ]
    }
   ],
   "source": [
    "table_d.info()"
   ]
  },
  {
   "cell_type": "code",
   "execution_count": 10,
   "metadata": {},
   "outputs": [
    {
     "name": "stdout",
     "output_type": "stream",
     "text": [
      "<class 'pandas.core.frame.DataFrame'>\n",
      "Int64Index: 856 entries, 0 to 855\n",
      "Columns: 213 entries, HHID to hhidpn\n",
      "dtypes: float64(205), int64(8)\n",
      "memory usage: 1.4 MB\n"
     ]
    }
   ],
   "source": [
    "table_c.loc[table_c['hhidpn'].isin(table_adams['hhidpn']),:].info()"
   ]
  },
  {
   "cell_type": "code",
   "execution_count": 11,
   "metadata": {},
   "outputs": [],
   "source": [
    "table_temp = pd.merge(table_adams, table_b, how='left', on='hhidpn', suffixes=('', '_y'))\n",
    "table_temp = pd.merge(table_temp, table_c, how='left', on='hhidpn', suffixes=('', '_y'))\n",
    "table_temp = pd.merge(table_temp, table_d, how='left', on='hhidpn', suffixes=('', '_y'))\n",
    "#table_temp = pd.merge(table_temp, table_e, how='left', on='hhidpn', suffixes=('', '_y'))\n",
    "#table_temp = pd.merge(table_temp, table_f, how='left', on='hhidpn', suffixes=('', '_y'))\n",
    "#table_temp = pd.merge(table_temp, table_g, how='left', on='hhidpn', suffixes=('', '_y'))\n",
    "#table_temp = pd.merge(table_temp, table_h, how='left', on='hhidpn', suffixes=('', '_y'))\n",
    "#table_temp = pd.merge(table_temp, table_j, how='left', on='hhidpn', suffixes=('', '_y'))\n",
    "#table_temp = pd.merge(table_temp, table_m, how='left', on='hhidpn', suffixes=('', '_y'))\n",
    "#table_temp = pd.merge(table_temp, table_n, how='left', on='hhidpn', suffixes=('', '_y'))"
   ]
  },
  {
   "cell_type": "code",
   "execution_count": 12,
   "metadata": {},
   "outputs": [],
   "source": [
    "# Remove duplicate cols\n",
    "drop_y(table_temp)"
   ]
  },
  {
   "cell_type": "code",
   "execution_count": 13,
   "metadata": {},
   "outputs": [
    {
     "name": "stdout",
     "output_type": "stream",
     "text": [
      "<class 'pandas.core.frame.DataFrame'>\n",
      "Int64Index: 1770 entries, 0 to 1769\n",
      "Data columns (total 3 columns):\n",
      "HHID_y    0 non-null float64\n",
      "PN_y      0 non-null float64\n",
      "hhidpn    1770 non-null int64\n",
      "dtypes: float64(2), int64(1)\n",
      "memory usage: 55.3 KB\n"
     ]
    },
    {
     "name": "stderr",
     "output_type": "stream",
     "text": [
      "/opt/conda/lib/python3.6/site-packages/pandas/core/indexing.py:1472: FutureWarning: \n",
      "Passing list-likes to .loc or [] with any missing label will raise\n",
      "KeyError in the future, you can use .reindex() as an alternative.\n",
      "\n",
      "See the documentation here:\n",
      "https://pandas.pydata.org/pandas-docs/stable/indexing.html#deprecate-loc-reindex-listlike\n",
      "  return self._getitem_tuple(key)\n"
     ]
    }
   ],
   "source": [
    "# Check that there are no duplicate cols\n",
    "table_temp.loc[:,['HHID_y', 'PN_y','hhidpn']].info()"
   ]
  },
  {
   "cell_type": "code",
   "execution_count": 14,
   "metadata": {},
   "outputs": [],
   "source": [
    "# Write full adams data\n",
    "table_temp.to_csv(LOCAL_DIR + 'brainFitDx/data/sample/raw_adams_combined.csv', index=False)"
   ]
  },
  {
   "cell_type": "code",
   "execution_count": 15,
   "metadata": {},
   "outputs": [
    {
     "name": "stdout",
     "output_type": "stream",
     "text": [
      "<class 'pandas.core.frame.DataFrame'>\n",
      "Int64Index: 1770 entries, 0 to 1769\n",
      "Columns: 653 entries, HHID to ADMH9SP\n",
      "dtypes: float64(566), int64(69), object(18)\n",
      "memory usage: 8.8+ MB\n"
     ]
    }
   ],
   "source": [
    "table_temp.info()"
   ]
  },
  {
   "cell_type": "markdown",
   "metadata": {},
   "source": [
    "### Load and process RAND 2000 and 2002 files"
   ]
  },
  {
   "cell_type": "code",
   "execution_count": 16,
   "metadata": {
    "collapsed": true
   },
   "outputs": [],
   "source": [
    "# Load raw datafiles\n",
    "table_2000 = pd.read_stata(LOCAL_DIR + 'braindata/hrs2000/h00f1c.dta')\n",
    "table_2002 = pd.read_stata(LOCAL_DIR + 'braindata/hrs2002/h02f2c.dta')"
   ]
  },
  {
   "cell_type": "code",
   "execution_count": 17,
   "metadata": {},
   "outputs": [],
   "source": [
    "# Load full adams\n",
    "table_adams = pd.read_csv(LOCAL_DIR + 'brainFitDx/data/sample/raw_adams_combined.csv')"
   ]
  },
  {
   "cell_type": "code",
   "execution_count": 18,
   "metadata": {},
   "outputs": [
    {
     "name": "stdout",
     "output_type": "stream",
     "text": [
      "<class 'pandas.core.frame.DataFrame'>\n",
      "RangeIndex: 1770 entries, 0 to 1769\n",
      "Columns: 653 entries, HHID to ADMH9SP\n",
      "dtypes: float64(566), int64(69), object(18)\n",
      "memory usage: 8.8+ MB\n"
     ]
    }
   ],
   "source": [
    "table_adams.info()"
   ]
  },
  {
   "cell_type": "code",
   "execution_count": 19,
   "metadata": {},
   "outputs": [
    {
     "name": "stdout",
     "output_type": "stream",
     "text": [
      "<class 'pandas.core.frame.DataFrame'>\n",
      "Int64Index: 19579 entries, 0 to 19578\n",
      "Columns: 6155 entries, hhidpn to h5hhid\n",
      "dtypes: float32(5), float64(5269), int16(55), int32(8), int8(352), object(466)\n",
      "memory usage: 866.4+ MB\n"
     ]
    }
   ],
   "source": [
    "table_2000.info()"
   ]
  },
  {
   "cell_type": "code",
   "execution_count": 20,
   "metadata": {},
   "outputs": [
    {
     "name": "stdout",
     "output_type": "stream",
     "text": [
      "<class 'pandas.core.frame.DataFrame'>\n",
      "Int64Index: 18165 entries, 0 to 18164\n",
      "Columns: 6696 entries, hhidpn to _hqp287_2\n",
      "dtypes: float32(2), float64(6227), int16(6), int32(54), int8(124), object(283)\n",
      "memory usage: 908.6+ MB\n"
     ]
    }
   ],
   "source": [
    "table_2002.info()"
   ]
  },
  {
   "cell_type": "code",
   "execution_count": 21,
   "metadata": {},
   "outputs": [],
   "source": [
    "in_adams = table_adams['hhidpn'].tolist()\n",
    "in_2000 = table_2000['hhidpn'].tolist()\n",
    "in_2002 = table_2002['hhidpn'].tolist()"
   ]
  },
  {
   "cell_type": "code",
   "execution_count": 22,
   "metadata": {},
   "outputs": [
    {
     "name": "stdout",
     "output_type": "stream",
     "text": [
      "[12106011, 12118030, 14535011, 23942011, 51062041, 52258040, 52829011, 57246010, 73112010, 73527030, 74032010, 85314030, 200881010, 201115020, 201497010, 201503010, 201506010, 201807010, 201953010, 202489010, 202649020, 203361020, 203571010, 203872010, 204213010, 204532010, 205034010, 206322010, 206477010, 208291010, 210102010, 210913010, 211411010, 212963020, 213221010]\n",
      "35\n"
     ]
    }
   ],
   "source": [
    "# Participants not in 2000 HRS n=35\n",
    "x1 = [c for c in in_adams if c not in in_2000]\n",
    "print (x1)\n",
    "print (len(x1))"
   ]
  },
  {
   "cell_type": "code",
   "execution_count": 23,
   "metadata": {},
   "outputs": [
    {
     "name": "stdout",
     "output_type": "stream",
     "text": [
      "[]\n",
      "0\n"
     ]
    }
   ],
   "source": [
    "# Check to see if any participants in 2000 not in 2002\n",
    "x2 = [c for c in x1 if c not in in_2002]\n",
    "print (x2)\n",
    "print (len(x2))"
   ]
  },
  {
   "cell_type": "code",
   "execution_count": 24,
   "metadata": {},
   "outputs": [],
   "source": [
    "in_adams02 = x1"
   ]
  },
  {
   "cell_type": "code",
   "execution_count": 25,
   "metadata": {},
   "outputs": [],
   "source": [
    "# Merge adams with 2000 file n= 1735\n",
    "table_full_sample = pd.merge(table_adams, table_2000, how='left', on='hhidpn', suffixes=('', '_y'))\n",
    "table_full_sample = pd.merge(table_full_sample, table_2002, how='left', on='hhidpn', suffixes=('', '_y'))"
   ]
  },
  {
   "cell_type": "code",
   "execution_count": 26,
   "metadata": {},
   "outputs": [
    {
     "name": "stdout",
     "output_type": "stream",
     "text": [
      "<class 'pandas.core.frame.DataFrame'>\n",
      "Int64Index: 1770 entries, 0 to 1769\n",
      "Columns: 13478 entries, HHID to _hqp287_2\n",
      "dtypes: float32(7), float64(12643), int64(69), object(759)\n",
      "memory usage: 182.0+ MB\n"
     ]
    }
   ],
   "source": [
    "# Drop duplicate cols\n",
    "drop_y(table_full_sample)\n",
    "table_full_sample.info()"
   ]
  },
  {
   "cell_type": "code",
   "execution_count": 27,
   "metadata": {},
   "outputs": [
    {
     "data": {
      "text/html": [
       "<div>\n",
       "<style scoped>\n",
       "    .dataframe tbody tr th:only-of-type {\n",
       "        vertical-align: middle;\n",
       "    }\n",
       "\n",
       "    .dataframe tbody tr th {\n",
       "        vertical-align: top;\n",
       "    }\n",
       "\n",
       "    .dataframe thead th {\n",
       "        text-align: right;\n",
       "    }\n",
       "</style>\n",
       "<table border=\"1\" class=\"dataframe\">\n",
       "  <thead>\n",
       "    <tr style=\"text-align: right;\">\n",
       "      <th></th>\n",
       "      <th>HHID</th>\n",
       "      <th>PN</th>\n",
       "      <th>ADAMSSID</th>\n",
       "      <th>GSUBHH</th>\n",
       "      <th>HSUBHH</th>\n",
       "      <th>SUBHHFLG</th>\n",
       "      <th>AASSESS</th>\n",
       "      <th>AMONTH</th>\n",
       "      <th>AYEAR</th>\n",
       "      <th>AFRESULT</th>\n",
       "      <th>...</th>\n",
       "      <th>_hqp220_1</th>\n",
       "      <th>_hqp227_1</th>\n",
       "      <th>_hqp235_1</th>\n",
       "      <th>_hqp220_2</th>\n",
       "      <th>_hqp227_2</th>\n",
       "      <th>_hqp235_2</th>\n",
       "      <th>_hqp278_1</th>\n",
       "      <th>_hqp287_1</th>\n",
       "      <th>_hqp278_2</th>\n",
       "      <th>_hqp287_2</th>\n",
       "    </tr>\n",
       "  </thead>\n",
       "  <tbody>\n",
       "    <tr>\n",
       "      <th>0</th>\n",
       "      <td>10059</td>\n",
       "      <td>30</td>\n",
       "      <td>13211</td>\n",
       "      <td>0</td>\n",
       "      <td>0</td>\n",
       "      <td>5</td>\n",
       "      <td>1</td>\n",
       "      <td>4</td>\n",
       "      <td>2002</td>\n",
       "      <td>1</td>\n",
       "      <td>...</td>\n",
       "      <td>NaN</td>\n",
       "      <td>NaN</td>\n",
       "      <td>NaN</td>\n",
       "      <td>NaN</td>\n",
       "      <td>NaN</td>\n",
       "      <td>NaN</td>\n",
       "      <td>NaN</td>\n",
       "      <td>NaN</td>\n",
       "      <td>NaN</td>\n",
       "      <td>NaN</td>\n",
       "    </tr>\n",
       "    <tr>\n",
       "      <th>1</th>\n",
       "      <td>11379</td>\n",
       "      <td>10</td>\n",
       "      <td>15741</td>\n",
       "      <td>0</td>\n",
       "      <td>0</td>\n",
       "      <td>5</td>\n",
       "      <td>5</td>\n",
       "      <td>97</td>\n",
       "      <td>9997</td>\n",
       "      <td>5</td>\n",
       "      <td>...</td>\n",
       "      <td>NaN</td>\n",
       "      <td>NaN</td>\n",
       "      <td>NaN</td>\n",
       "      <td>NaN</td>\n",
       "      <td>NaN</td>\n",
       "      <td>NaN</td>\n",
       "      <td>NaN</td>\n",
       "      <td>NaN</td>\n",
       "      <td>NaN</td>\n",
       "      <td>NaN</td>\n",
       "    </tr>\n",
       "    <tr>\n",
       "      <th>2</th>\n",
       "      <td>12106</td>\n",
       "      <td>11</td>\n",
       "      <td>15441</td>\n",
       "      <td>9</td>\n",
       "      <td>0</td>\n",
       "      <td>1</td>\n",
       "      <td>5</td>\n",
       "      <td>97</td>\n",
       "      <td>9997</td>\n",
       "      <td>7</td>\n",
       "      <td>...</td>\n",
       "      <td>NaN</td>\n",
       "      <td>NaN</td>\n",
       "      <td>NaN</td>\n",
       "      <td>NaN</td>\n",
       "      <td>NaN</td>\n",
       "      <td>NaN</td>\n",
       "      <td>NaN</td>\n",
       "      <td>NaN</td>\n",
       "      <td>NaN</td>\n",
       "      <td>NaN</td>\n",
       "    </tr>\n",
       "    <tr>\n",
       "      <th>3</th>\n",
       "      <td>12118</td>\n",
       "      <td>30</td>\n",
       "      <td>20231</td>\n",
       "      <td>0</td>\n",
       "      <td>0</td>\n",
       "      <td>5</td>\n",
       "      <td>5</td>\n",
       "      <td>97</td>\n",
       "      <td>9997</td>\n",
       "      <td>5</td>\n",
       "      <td>...</td>\n",
       "      <td>NaN</td>\n",
       "      <td>NaN</td>\n",
       "      <td>NaN</td>\n",
       "      <td>NaN</td>\n",
       "      <td>NaN</td>\n",
       "      <td>NaN</td>\n",
       "      <td>NaN</td>\n",
       "      <td>NaN</td>\n",
       "      <td>NaN</td>\n",
       "      <td>NaN</td>\n",
       "    </tr>\n",
       "    <tr>\n",
       "      <th>4</th>\n",
       "      <td>12513</td>\n",
       "      <td>10</td>\n",
       "      <td>14391</td>\n",
       "      <td>0</td>\n",
       "      <td>0</td>\n",
       "      <td>5</td>\n",
       "      <td>1</td>\n",
       "      <td>10</td>\n",
       "      <td>2002</td>\n",
       "      <td>1</td>\n",
       "      <td>...</td>\n",
       "      <td>NaN</td>\n",
       "      <td>NaN</td>\n",
       "      <td>NaN</td>\n",
       "      <td>NaN</td>\n",
       "      <td>NaN</td>\n",
       "      <td>NaN</td>\n",
       "      <td>9999998.0</td>\n",
       "      <td>2.0</td>\n",
       "      <td>NaN</td>\n",
       "      <td>NaN</td>\n",
       "    </tr>\n",
       "    <tr>\n",
       "      <th>5</th>\n",
       "      <td>12588</td>\n",
       "      <td>20</td>\n",
       "      <td>16241</td>\n",
       "      <td>0</td>\n",
       "      <td>0</td>\n",
       "      <td>5</td>\n",
       "      <td>1</td>\n",
       "      <td>5</td>\n",
       "      <td>2003</td>\n",
       "      <td>1</td>\n",
       "      <td>...</td>\n",
       "      <td>9999998.0</td>\n",
       "      <td>NaN</td>\n",
       "      <td>NaN</td>\n",
       "      <td>NaN</td>\n",
       "      <td>NaN</td>\n",
       "      <td>NaN</td>\n",
       "      <td>NaN</td>\n",
       "      <td>NaN</td>\n",
       "      <td>NaN</td>\n",
       "      <td>NaN</td>\n",
       "    </tr>\n",
       "    <tr>\n",
       "      <th>6</th>\n",
       "      <td>13140</td>\n",
       "      <td>10</td>\n",
       "      <td>20121</td>\n",
       "      <td>0</td>\n",
       "      <td>0</td>\n",
       "      <td>5</td>\n",
       "      <td>1</td>\n",
       "      <td>6</td>\n",
       "      <td>2003</td>\n",
       "      <td>1</td>\n",
       "      <td>...</td>\n",
       "      <td>NaN</td>\n",
       "      <td>NaN</td>\n",
       "      <td>NaN</td>\n",
       "      <td>NaN</td>\n",
       "      <td>NaN</td>\n",
       "      <td>NaN</td>\n",
       "      <td>NaN</td>\n",
       "      <td>NaN</td>\n",
       "      <td>NaN</td>\n",
       "      <td>NaN</td>\n",
       "    </tr>\n",
       "    <tr>\n",
       "      <th>7</th>\n",
       "      <td>13857</td>\n",
       "      <td>10</td>\n",
       "      <td>19431</td>\n",
       "      <td>0</td>\n",
       "      <td>0</td>\n",
       "      <td>5</td>\n",
       "      <td>1</td>\n",
       "      <td>10</td>\n",
       "      <td>2003</td>\n",
       "      <td>1</td>\n",
       "      <td>...</td>\n",
       "      <td>NaN</td>\n",
       "      <td>NaN</td>\n",
       "      <td>NaN</td>\n",
       "      <td>NaN</td>\n",
       "      <td>NaN</td>\n",
       "      <td>NaN</td>\n",
       "      <td>NaN</td>\n",
       "      <td>NaN</td>\n",
       "      <td>NaN</td>\n",
       "      <td>NaN</td>\n",
       "    </tr>\n",
       "    <tr>\n",
       "      <th>8</th>\n",
       "      <td>14223</td>\n",
       "      <td>10</td>\n",
       "      <td>16441</td>\n",
       "      <td>0</td>\n",
       "      <td>0</td>\n",
       "      <td>5</td>\n",
       "      <td>5</td>\n",
       "      <td>97</td>\n",
       "      <td>9997</td>\n",
       "      <td>5</td>\n",
       "      <td>...</td>\n",
       "      <td>NaN</td>\n",
       "      <td>NaN</td>\n",
       "      <td>NaN</td>\n",
       "      <td>NaN</td>\n",
       "      <td>NaN</td>\n",
       "      <td>NaN</td>\n",
       "      <td>NaN</td>\n",
       "      <td>NaN</td>\n",
       "      <td>NaN</td>\n",
       "      <td>NaN</td>\n",
       "    </tr>\n",
       "    <tr>\n",
       "      <th>9</th>\n",
       "      <td>14259</td>\n",
       "      <td>20</td>\n",
       "      <td>20091</td>\n",
       "      <td>0</td>\n",
       "      <td>0</td>\n",
       "      <td>5</td>\n",
       "      <td>5</td>\n",
       "      <td>97</td>\n",
       "      <td>9997</td>\n",
       "      <td>5</td>\n",
       "      <td>...</td>\n",
       "      <td>900.0</td>\n",
       "      <td>NaN</td>\n",
       "      <td>NaN</td>\n",
       "      <td>NaN</td>\n",
       "      <td>NaN</td>\n",
       "      <td>NaN</td>\n",
       "      <td>NaN</td>\n",
       "      <td>NaN</td>\n",
       "      <td>NaN</td>\n",
       "      <td>NaN</td>\n",
       "    </tr>\n",
       "  </tbody>\n",
       "</table>\n",
       "<p>10 rows × 13478 columns</p>\n",
       "</div>"
      ],
      "text/plain": [
       "    HHID  PN  ADAMSSID  GSUBHH  HSUBHH  SUBHHFLG  AASSESS  AMONTH  AYEAR  \\\n",
       "0  10059  30     13211       0       0         5        1       4   2002   \n",
       "1  11379  10     15741       0       0         5        5      97   9997   \n",
       "2  12106  11     15441       9       0         1        5      97   9997   \n",
       "3  12118  30     20231       0       0         5        5      97   9997   \n",
       "4  12513  10     14391       0       0         5        1      10   2002   \n",
       "5  12588  20     16241       0       0         5        1       5   2003   \n",
       "6  13140  10     20121       0       0         5        1       6   2003   \n",
       "7  13857  10     19431       0       0         5        1      10   2003   \n",
       "8  14223  10     16441       0       0         5        5      97   9997   \n",
       "9  14259  20     20091       0       0         5        5      97   9997   \n",
       "\n",
       "   AFRESULT    ...      _hqp220_1  _hqp227_1  _hqp235_1  _hqp220_2  _hqp227_2  \\\n",
       "0         1    ...            NaN        NaN        NaN        NaN        NaN   \n",
       "1         5    ...            NaN        NaN        NaN        NaN        NaN   \n",
       "2         7    ...            NaN        NaN        NaN        NaN        NaN   \n",
       "3         5    ...            NaN        NaN        NaN        NaN        NaN   \n",
       "4         1    ...            NaN        NaN        NaN        NaN        NaN   \n",
       "5         1    ...      9999998.0        NaN        NaN        NaN        NaN   \n",
       "6         1    ...            NaN        NaN        NaN        NaN        NaN   \n",
       "7         1    ...            NaN        NaN        NaN        NaN        NaN   \n",
       "8         5    ...            NaN        NaN        NaN        NaN        NaN   \n",
       "9         5    ...          900.0        NaN        NaN        NaN        NaN   \n",
       "\n",
       "   _hqp235_2  _hqp278_1  _hqp287_1  _hqp278_2  _hqp287_2  \n",
       "0        NaN        NaN        NaN        NaN        NaN  \n",
       "1        NaN        NaN        NaN        NaN        NaN  \n",
       "2        NaN        NaN        NaN        NaN        NaN  \n",
       "3        NaN        NaN        NaN        NaN        NaN  \n",
       "4        NaN  9999998.0        2.0        NaN        NaN  \n",
       "5        NaN        NaN        NaN        NaN        NaN  \n",
       "6        NaN        NaN        NaN        NaN        NaN  \n",
       "7        NaN        NaN        NaN        NaN        NaN  \n",
       "8        NaN        NaN        NaN        NaN        NaN  \n",
       "9        NaN        NaN        NaN        NaN        NaN  \n",
       "\n",
       "[10 rows x 13478 columns]"
      ]
     },
     "execution_count": 27,
     "metadata": {},
     "output_type": "execute_result"
    }
   ],
   "source": [
    "table_full_sample.head(10)"
   ]
  },
  {
   "cell_type": "code",
   "execution_count": 28,
   "metadata": {},
   "outputs": [
    {
     "name": "stderr",
     "output_type": "stream",
     "text": [
      "/opt/conda/lib/python3.6/site-packages/pandas/core/indexing.py:1472: FutureWarning: \n",
      "Passing list-likes to .loc or [] with any missing label will raise\n",
      "KeyError in the future, you can use .reindex() as an alternative.\n",
      "\n",
      "See the documentation here:\n",
      "https://pandas.pydata.org/pandas-docs/stable/indexing.html#deprecate-loc-reindex-listlike\n",
      "  return self._getitem_tuple(key)\n"
     ]
    },
    {
     "data": {
      "text/html": [
       "<div>\n",
       "<style scoped>\n",
       "    .dataframe tbody tr th:only-of-type {\n",
       "        vertical-align: middle;\n",
       "    }\n",
       "\n",
       "    .dataframe tbody tr th {\n",
       "        vertical-align: top;\n",
       "    }\n",
       "\n",
       "    .dataframe thead th {\n",
       "        text-align: right;\n",
       "    }\n",
       "</style>\n",
       "<table border=\"1\" class=\"dataframe\">\n",
       "  <thead>\n",
       "    <tr style=\"text-align: right;\">\n",
       "      <th></th>\n",
       "      <th>HHID_y</th>\n",
       "      <th>ADAMSSID_y</th>\n",
       "      <th>hhidpn</th>\n",
       "      <th>h5hhid</th>\n",
       "    </tr>\n",
       "  </thead>\n",
       "  <tbody>\n",
       "    <tr>\n",
       "      <th>0</th>\n",
       "      <td>NaN</td>\n",
       "      <td>NaN</td>\n",
       "      <td>10059030</td>\n",
       "      <td>100590.0</td>\n",
       "    </tr>\n",
       "    <tr>\n",
       "      <th>1</th>\n",
       "      <td>NaN</td>\n",
       "      <td>NaN</td>\n",
       "      <td>11379010</td>\n",
       "      <td>113790.0</td>\n",
       "    </tr>\n",
       "    <tr>\n",
       "      <th>2</th>\n",
       "      <td>NaN</td>\n",
       "      <td>NaN</td>\n",
       "      <td>12106011</td>\n",
       "      <td>NaN</td>\n",
       "    </tr>\n",
       "    <tr>\n",
       "      <th>3</th>\n",
       "      <td>NaN</td>\n",
       "      <td>NaN</td>\n",
       "      <td>12118030</td>\n",
       "      <td>NaN</td>\n",
       "    </tr>\n",
       "    <tr>\n",
       "      <th>4</th>\n",
       "      <td>NaN</td>\n",
       "      <td>NaN</td>\n",
       "      <td>12513010</td>\n",
       "      <td>125130.0</td>\n",
       "    </tr>\n",
       "    <tr>\n",
       "      <th>5</th>\n",
       "      <td>NaN</td>\n",
       "      <td>NaN</td>\n",
       "      <td>12588020</td>\n",
       "      <td>125880.0</td>\n",
       "    </tr>\n",
       "    <tr>\n",
       "      <th>6</th>\n",
       "      <td>NaN</td>\n",
       "      <td>NaN</td>\n",
       "      <td>13140010</td>\n",
       "      <td>131400.0</td>\n",
       "    </tr>\n",
       "    <tr>\n",
       "      <th>7</th>\n",
       "      <td>NaN</td>\n",
       "      <td>NaN</td>\n",
       "      <td>13857010</td>\n",
       "      <td>138570.0</td>\n",
       "    </tr>\n",
       "    <tr>\n",
       "      <th>8</th>\n",
       "      <td>NaN</td>\n",
       "      <td>NaN</td>\n",
       "      <td>14223010</td>\n",
       "      <td>142230.0</td>\n",
       "    </tr>\n",
       "    <tr>\n",
       "      <th>9</th>\n",
       "      <td>NaN</td>\n",
       "      <td>NaN</td>\n",
       "      <td>14259020</td>\n",
       "      <td>142590.0</td>\n",
       "    </tr>\n",
       "  </tbody>\n",
       "</table>\n",
       "</div>"
      ],
      "text/plain": [
       "   HHID_y  ADAMSSID_y    hhidpn    h5hhid\n",
       "0     NaN         NaN  10059030  100590.0\n",
       "1     NaN         NaN  11379010  113790.0\n",
       "2     NaN         NaN  12106011       NaN\n",
       "3     NaN         NaN  12118030       NaN\n",
       "4     NaN         NaN  12513010  125130.0\n",
       "5     NaN         NaN  12588020  125880.0\n",
       "6     NaN         NaN  13140010  131400.0\n",
       "7     NaN         NaN  13857010  138570.0\n",
       "8     NaN         NaN  14223010  142230.0\n",
       "9     NaN         NaN  14259020  142590.0"
      ]
     },
     "execution_count": 28,
     "metadata": {},
     "output_type": "execute_result"
    }
   ],
   "source": [
    "# Check to make sure duplicates are removed\n",
    "table_full_sample.loc[:,['HHID_y', 'ADAMSSID_y','hhidpn','h5hhid']].head(10)"
   ]
  },
  {
   "cell_type": "code",
   "execution_count": 29,
   "metadata": {
    "collapsed": true
   },
   "outputs": [],
   "source": [
    "# Write to file\n",
    "table_full_sample.to_csv(LOCAL_DIR + 'brainFitDx/data/sample/final_adams_hrs_combined.csv', index=False)"
   ]
  },
  {
   "cell_type": "markdown",
   "metadata": {},
   "source": [
    "## C. Calculate scores"
   ]
  },
  {
   "cell_type": "markdown",
   "metadata": {},
   "source": [
    "Note: We first calculate for HRS 2000 but have to add in HRS 2002 pop"
   ]
  },
  {
   "cell_type": "code",
   "execution_count": 30,
   "metadata": {
    "collapsed": true
   },
   "outputs": [],
   "source": [
    "# load file\n",
    "# table_full_sample = pd.read_csv('/home/levi/data/brainFitDx/data/sample/final_adams_hrs_combined.csv')\n",
    "df = table_full_sample"
   ]
  },
  {
   "cell_type": "code",
   "execution_count": 31,
   "metadata": {
    "collapsed": true
   },
   "outputs": [],
   "source": [
    "# recode backwards count 20\n",
    "backwards_20=rf.initialize_series(df)\n",
    "indices=rf.get_indices([df['g1733']==1, # 1\n",
    "                        df['g1710']==1 # 2\n",
    "                       ])\n",
    "backwards_20=rf.update_series(backwards_20, indices, values=[1,2])"
   ]
  },
  {
   "cell_type": "code",
   "execution_count": 32,
   "metadata": {},
   "outputs": [
    {
     "data": {
      "text/plain": [
       "2    1055\n",
       "0     708\n",
       "1       7\n",
       "dtype: int64"
      ]
     },
     "execution_count": 32,
     "metadata": {},
     "output_type": "execute_result"
    }
   ],
   "source": [
    "# examine recode\n",
    "backwards_20.value_counts()"
   ]
  },
  {
   "cell_type": "code",
   "execution_count": 33,
   "metadata": {},
   "outputs": [
    {
     "data": {
      "text/plain": [
       "array([ nan,  31.,  51.,  19.,  30.,   1.,   4.,  38.,   8.,  40.,  23.,\n",
       "        18.,  96.,  15.,   3.,  25.,  16.,  22.,  11.,  29.,  20.,  39.,\n",
       "        32.,  21.,  33.,  10.,  35.,  27.,   2.,  28.,  37.,  12.,   5.,\n",
       "        34.,   9.,   7.,  14.,  24.,  99.,  13.,   6.,  17.,  98.,  26.,\n",
       "        36.])"
      ]
     },
     "execution_count": 33,
     "metadata": {},
     "output_type": "execute_result"
    }
   ],
   "source": [
    "# examine immediate recall questions (G1666M1-G1666M11)\n",
    "df['g1666m1'].unique()"
   ]
  },
  {
   "cell_type": "code",
   "execution_count": 34,
   "metadata": {
    "collapsed": true
   },
   "outputs": [],
   "source": [
    "# compute immediate recall score (G1666M1-G1666M11)\n",
    "immediate_recall=pd.Series(rf.compute_recall(df, cols=['g1666m1','g1666m11']))"
   ]
  },
  {
   "cell_type": "code",
   "execution_count": 35,
   "metadata": {},
   "outputs": [
    {
     "data": {
      "text/plain": [
       "0     594\n",
       "4     258\n",
       "3     239\n",
       "5     232\n",
       "6     145\n",
       "2     124\n",
       "7      70\n",
       "1      57\n",
       "8      34\n",
       "9      12\n",
       "10      5\n",
       "dtype: int64"
      ]
     },
     "execution_count": 35,
     "metadata": {},
     "output_type": "execute_result"
    }
   ],
   "source": [
    "# examine immediate recall score\n",
    "sum(immediate_recall.isnull()) # no missing values\n",
    "immediate_recall.unique()\n",
    "immediate_recall.value_counts()"
   ]
  },
  {
   "cell_type": "code",
   "execution_count": 36,
   "metadata": {
    "collapsed": true
   },
   "outputs": [],
   "source": [
    "# compute delayed recall score (G1815M1-G1815M11)\n",
    "delayed_recall=pd.Series(rf.compute_recall(df, cols=['g1815m1','g1815m11']))"
   ]
  },
  {
   "cell_type": "code",
   "execution_count": 37,
   "metadata": {},
   "outputs": [
    {
     "data": {
      "text/plain": [
       "array([ 0,  3,  4,  6,  5,  1,  7,  2, 10,  8,  9])"
      ]
     },
     "execution_count": 37,
     "metadata": {},
     "output_type": "execute_result"
    }
   ],
   "source": [
    "# examine delayed recall score\n",
    "delayed_recall.unique()"
   ]
  },
  {
   "cell_type": "code",
   "execution_count": 38,
   "metadata": {
    "collapsed": true
   },
   "outputs": [],
   "source": [
    "# compute total recall score (immediate recall + delayed recall)\n",
    "total_recall=immediate_recall.add(delayed_recall)"
   ]
  },
  {
   "cell_type": "code",
   "execution_count": 39,
   "metadata": {},
   "outputs": [
    {
     "data": {
      "text/html": [
       "<div>\n",
       "<style scoped>\n",
       "    .dataframe tbody tr th:only-of-type {\n",
       "        vertical-align: middle;\n",
       "    }\n",
       "\n",
       "    .dataframe tbody tr th {\n",
       "        vertical-align: top;\n",
       "    }\n",
       "\n",
       "    .dataframe thead th {\n",
       "        text-align: right;\n",
       "    }\n",
       "</style>\n",
       "<table border=\"1\" class=\"dataframe\">\n",
       "  <thead>\n",
       "    <tr style=\"text-align: right;\">\n",
       "      <th></th>\n",
       "      <th>total</th>\n",
       "      <th>immediate</th>\n",
       "      <th>delayed</th>\n",
       "    </tr>\n",
       "  </thead>\n",
       "  <tbody>\n",
       "    <tr>\n",
       "      <th>0</th>\n",
       "      <td>0</td>\n",
       "      <td>0</td>\n",
       "      <td>0</td>\n",
       "    </tr>\n",
       "    <tr>\n",
       "      <th>1</th>\n",
       "      <td>7</td>\n",
       "      <td>4</td>\n",
       "      <td>3</td>\n",
       "    </tr>\n",
       "    <tr>\n",
       "      <th>2</th>\n",
       "      <td>0</td>\n",
       "      <td>0</td>\n",
       "      <td>0</td>\n",
       "    </tr>\n",
       "    <tr>\n",
       "      <th>3</th>\n",
       "      <td>0</td>\n",
       "      <td>0</td>\n",
       "      <td>0</td>\n",
       "    </tr>\n",
       "    <tr>\n",
       "      <th>4</th>\n",
       "      <td>7</td>\n",
       "      <td>3</td>\n",
       "      <td>4</td>\n",
       "    </tr>\n",
       "  </tbody>\n",
       "</table>\n",
       "</div>"
      ],
      "text/plain": [
       "   total  immediate  delayed\n",
       "0      0          0        0\n",
       "1      7          4        3\n",
       "2      0          0        0\n",
       "3      0          0        0\n",
       "4      7          3        4"
      ]
     },
     "execution_count": 39,
     "metadata": {},
     "output_type": "execute_result"
    }
   ],
   "source": [
    "# examine total recall score\n",
    "pd.DataFrame({'total': total_recall, 'immediate': immediate_recall, 'delayed': delayed_recall}).head()"
   ]
  },
  {
   "cell_type": "code",
   "execution_count": 40,
   "metadata": {},
   "outputs": [
    {
     "data": {
      "text/html": [
       "<div>\n",
       "<style scoped>\n",
       "    .dataframe tbody tr th:only-of-type {\n",
       "        vertical-align: middle;\n",
       "    }\n",
       "\n",
       "    .dataframe tbody tr th {\n",
       "        vertical-align: top;\n",
       "    }\n",
       "\n",
       "    .dataframe thead th {\n",
       "        text-align: right;\n",
       "    }\n",
       "</style>\n",
       "<table border=\"1\" class=\"dataframe\">\n",
       "  <thead>\n",
       "    <tr style=\"text-align: right;\">\n",
       "      <th></th>\n",
       "      <th>g1806</th>\n",
       "      <th>g1807</th>\n",
       "      <th>g1808</th>\n",
       "      <th>g1809</th>\n",
       "      <th>g1810</th>\n",
       "    </tr>\n",
       "  </thead>\n",
       "  <tbody>\n",
       "    <tr>\n",
       "      <th>0</th>\n",
       "      <td>NaN</td>\n",
       "      <td>NaN</td>\n",
       "      <td>NaN</td>\n",
       "      <td>NaN</td>\n",
       "      <td>NaN</td>\n",
       "    </tr>\n",
       "    <tr>\n",
       "      <th>1</th>\n",
       "      <td>998.0</td>\n",
       "      <td>NaN</td>\n",
       "      <td>NaN</td>\n",
       "      <td>NaN</td>\n",
       "      <td>NaN</td>\n",
       "    </tr>\n",
       "    <tr>\n",
       "      <th>2</th>\n",
       "      <td>NaN</td>\n",
       "      <td>NaN</td>\n",
       "      <td>NaN</td>\n",
       "      <td>NaN</td>\n",
       "      <td>NaN</td>\n",
       "    </tr>\n",
       "    <tr>\n",
       "      <th>3</th>\n",
       "      <td>NaN</td>\n",
       "      <td>NaN</td>\n",
       "      <td>NaN</td>\n",
       "      <td>NaN</td>\n",
       "      <td>NaN</td>\n",
       "    </tr>\n",
       "    <tr>\n",
       "      <th>4</th>\n",
       "      <td>998.0</td>\n",
       "      <td>NaN</td>\n",
       "      <td>NaN</td>\n",
       "      <td>NaN</td>\n",
       "      <td>NaN</td>\n",
       "    </tr>\n",
       "  </tbody>\n",
       "</table>\n",
       "</div>"
      ],
      "text/plain": [
       "   g1806  g1807  g1808  g1809  g1810\n",
       "0    NaN    NaN    NaN    NaN    NaN\n",
       "1  998.0    NaN    NaN    NaN    NaN\n",
       "2    NaN    NaN    NaN    NaN    NaN\n",
       "3    NaN    NaN    NaN    NaN    NaN\n",
       "4  998.0    NaN    NaN    NaN    NaN"
      ]
     },
     "execution_count": 40,
     "metadata": {},
     "output_type": "execute_result"
    }
   ],
   "source": [
    "# examine serial 7 (G1806-G1810)\n",
    "df['g1806'].unique()\n",
    "df.loc[:,'g1806':'g1810'].head()"
   ]
  },
  {
   "cell_type": "code",
   "execution_count": 41,
   "metadata": {
    "collapsed": true
   },
   "outputs": [],
   "source": [
    "# compute serial 7 score (G1806-G1810)\n",
    "serial_7=rf.compute_serial(df, cols=['g1806','g1810'])"
   ]
  },
  {
   "cell_type": "code",
   "execution_count": 42,
   "metadata": {},
   "outputs": [
    {
     "data": {
      "text/plain": [
       "0    852\n",
       "5    300\n",
       "4    186\n",
       "1    169\n",
       "3    145\n",
       "2    118\n",
       "dtype: int64"
      ]
     },
     "execution_count": 42,
     "metadata": {},
     "output_type": "execute_result"
    }
   ],
   "source": [
    "# examine serial 7 score\n",
    "serial_7.unique()\n",
    "serial_7.value_counts()"
   ]
  },
  {
   "cell_type": "code",
   "execution_count": 43,
   "metadata": {},
   "outputs": [
    {
     "data": {
      "text/plain": [
       "10.0    588\n",
       "9.0     246\n",
       "8.0     144\n",
       "7.0      74\n",
       "6.0      67\n",
       "5.0      62\n",
       "4.0      40\n",
       "3.0      26\n",
       "2.0      14\n",
       "1.0       7\n",
       "0.0       3\n",
       "Name: g1852, dtype: int64"
      ]
     },
     "execution_count": 43,
     "metadata": {},
     "output_type": "execute_result"
    }
   ],
   "source": [
    "# examine tics (G1852)\n",
    "tics=df['g1852']\n",
    "tics.value_counts()"
   ]
  },
  {
   "cell_type": "code",
   "execution_count": 44,
   "metadata": {},
   "outputs": [
    {
     "data": {
      "text/plain": [
       "10.0    588\n",
       "0.0     502\n",
       "9.0     246\n",
       "8.0     144\n",
       "7.0      74\n",
       "6.0      67\n",
       "5.0      62\n",
       "4.0      40\n",
       "3.0      26\n",
       "2.0      14\n",
       "1.0       7\n",
       "Name: g1852, dtype: int64"
      ]
     },
     "execution_count": 44,
     "metadata": {},
     "output_type": "execute_result"
    }
   ],
   "source": [
    "# recode tics\n",
    "indices=rf.get_indices([tics.isnull()])\n",
    "tics=rf.update_series(tics, indices, values=[0])\n",
    "tics.value_counts()"
   ]
  },
  {
   "cell_type": "code",
   "execution_count": 45,
   "metadata": {
    "collapsed": true
   },
   "outputs": [],
   "source": [
    "# compute total cognition score (tics + total_recall + serial_7)\n",
    "total_cog=tics + total_recall + serial_7"
   ]
  },
  {
   "cell_type": "code",
   "execution_count": 46,
   "metadata": {},
   "outputs": [
    {
     "data": {
      "text/plain": [
       "0.0     501\n",
       "22.0     90\n",
       "20.0     82\n",
       "21.0     76\n",
       "23.0     75\n",
       "18.0     70\n",
       "19.0     64\n",
       "11.0     57\n",
       "24.0     55\n",
       "15.0     54\n",
       "10.0     53\n",
       "17.0     52\n",
       "25.0     52\n",
       "16.0     51\n",
       "13.0     42\n",
       "14.0     41\n",
       "8.0      40\n",
       "26.0     38\n",
       "27.0     37\n",
       "9.0      34\n",
       "12.0     33\n",
       "7.0      31\n",
       "5.0      26\n",
       "6.0      24\n",
       "28.0     20\n",
       "29.0     12\n",
       "4.0      12\n",
       "3.0      10\n",
       "30.0      9\n",
       "31.0      9\n",
       "32.0      5\n",
       "1.0       5\n",
       "2.0       5\n",
       "33.0      3\n",
       "35.0      2\n",
       "dtype: int64"
      ]
     },
     "execution_count": 46,
     "metadata": {},
     "output_type": "execute_result"
    }
   ],
   "source": [
    "# examine total cognition score\n",
    "total_cog.unique()\n",
    "total_cog.value_counts()"
   ]
  },
  {
   "cell_type": "code",
   "execution_count": 47,
   "metadata": {
    "collapsed": true
   },
   "outputs": [],
   "source": [
    "# Add score data to tables\n",
    "table_full_sample['00_backwards_20'] = backwards_20\n",
    "table_full_sample['00_serial_7'] = serial_7\n",
    "table_full_sample['00_immediate_recall'] = immediate_recall\n",
    "table_full_sample['00_delayed_recall'] = delayed_recall\n",
    "table_full_sample['00_total_recall'] = total_recall\n",
    "table_full_sample['00_tics'] = tics\n",
    "table_full_sample['00_total_cog'] = total_cog\n"
   ]
  },
  {
   "cell_type": "code",
   "execution_count": 48,
   "metadata": {},
   "outputs": [
    {
     "data": {
      "text/plain": [
       "<matplotlib.axes._subplots.AxesSubplot at 0x7f224fb47470>"
      ]
     },
     "execution_count": 48,
     "metadata": {},
     "output_type": "execute_result"
    },
    {
     "data": {
      "image/png": "[encoded data removed]",
      "text/plain": [
       "<Figure size 432x288 with 1 Axes>"
      ]
     },
     "metadata": {},
     "output_type": "display_data"
    }
   ],
   "source": [
    "table_full_sample['00_serial_7'].plot.hist()"
   ]
  },
  {
   "cell_type": "code",
   "execution_count": 49,
   "metadata": {},
   "outputs": [
    {
     "data": {
      "text/plain": [
       "<matplotlib.axes._subplots.AxesSubplot at 0x7f22507f5208>"
      ]
     },
     "execution_count": 49,
     "metadata": {},
     "output_type": "execute_result"
    },
    {
     "data": {
      "image/png": "[encoded data removed]",
      "text/plain": [
       "<Figure size 432x288 with 1 Axes>"
      ]
     },
     "metadata": {},
     "output_type": "display_data"
    }
   ],
   "source": [
    "table_full_sample['00_total_recall'].plot.hist()"
   ]
  },
  {
   "cell_type": "code",
   "execution_count": 50,
   "metadata": {},
   "outputs": [
    {
     "data": {
      "text/plain": [
       "<matplotlib.axes._subplots.AxesSubplot at 0x7f225077b780>"
      ]
     },
     "execution_count": 50,
     "metadata": {},
     "output_type": "execute_result"
    },
    {
     "data": {
      "image/png": "[encoded data removed]",
      "text/plain": [
       "<Figure size 432x288 with 1 Axes>"
      ]
     },
     "metadata": {},
     "output_type": "display_data"
    }
   ],
   "source": [
    "table_full_sample['00_tics'].plot.hist()"
   ]
  },
  {
   "cell_type": "code",
   "execution_count": 51,
   "metadata": {},
   "outputs": [
    {
     "data": {
      "text/plain": [
       "<matplotlib.axes._subplots.AxesSubplot at 0x7f224fb42a90>"
      ]
     },
     "execution_count": 51,
     "metadata": {},
     "output_type": "execute_result"
    },
    {
     "data": {
      "image/png": "[encoded data removed]",
      "text/plain": [
       "<Figure size 432x288 with 1 Axes>"
      ]
     },
     "metadata": {},
     "output_type": "display_data"
    }
   ],
   "source": [
    "table_full_sample['00_total_cog'].plot.hist()"
   ]
  },
  {
   "cell_type": "markdown",
   "metadata": {},
   "source": [
    "### Calculate scores for HRS 2002"
   ]
  },
  {
   "cell_type": "code",
   "execution_count": 52,
   "metadata": {
    "collapsed": true
   },
   "outputs": [],
   "source": [
    "# recode backwards count 20\n",
    "backwards_20=rf.initialize_series(df)\n",
    "indices=rf.get_indices([df['hd129']==1, # 1\n",
    "                        df['hd124']==1 # 2\n",
    "                       ])\n",
    "backwards_20=rf.update_series(backwards_20, indices, values=[1,2])"
   ]
  },
  {
   "cell_type": "code",
   "execution_count": 53,
   "metadata": {},
   "outputs": [],
   "source": [
    "# examine recode\n",
    "backwards_20.value_counts()\n",
    "table_full_sample['02_backwards_20'] = backwards_20"
   ]
  },
  {
   "cell_type": "code",
   "execution_count": 54,
   "metadata": {},
   "outputs": [
    {
     "data": {
      "text/plain": [
       "array([ 19.,  nan,  32.,  38.,   1.,   2.,  96.,  40.,  16.,  30.,   8.,\n",
       "        11.,  21.,  25.,  12.,   4.,  18.,  35.,  14.,  31.,  29.,  51.,\n",
       "        99.,  23.,  27.,  24.,  34.,  17.,  39.,  33.,   9.,  26.,  15.,\n",
       "        28.,   7.,  37.,   3.,  10.,  36.,  20.,  22.,   5.,  13.])"
      ]
     },
     "execution_count": 54,
     "metadata": {},
     "output_type": "execute_result"
    }
   ],
   "source": [
    "# Recode immediate recall\n",
    "df['hd182m1'].unique()"
   ]
  },
  {
   "cell_type": "code",
   "execution_count": 55,
   "metadata": {},
   "outputs": [
    {
     "data": {
      "text/plain": [
       "0     727\n",
       "4     233\n",
       "3     219\n",
       "5     199\n",
       "2     141\n",
       "6     115\n",
       "7      53\n",
       "1      52\n",
       "8      15\n",
       "9      12\n",
       "10      4\n",
       "dtype: int64"
      ]
     },
     "execution_count": 55,
     "metadata": {},
     "output_type": "execute_result"
    }
   ],
   "source": [
    "immediate_recall=pd.Series(rf.compute_recall(df, cols=['hd182m1','hd182m10']))\n",
    "\n",
    "# examine immediate recall score\n",
    "sum(immediate_recall.isnull()) # no missing values\n",
    "immediate_recall.unique()\n",
    "immediate_recall.value_counts()"
   ]
  },
  {
   "cell_type": "code",
   "execution_count": 56,
   "metadata": {},
   "outputs": [],
   "source": [
    "delayed_recall = rf.compute_recall(df, cols=['hd183m1', 'hd183m10'])\n",
    "total_recall = pd.Series([x + y for x, y in zip(immediate_recall, delayed_recall)])"
   ]
  },
  {
   "cell_type": "code",
   "execution_count": 57,
   "metadata": {},
   "outputs": [],
   "source": [
    "table_full_sample['02_immediate_recall'] = immediate_recall\n",
    "table_full_sample['02_delayed_recall'] = delayed_recall\n",
    "table_full_sample['02_total_recall'] = total_recall"
   ]
  },
  {
   "cell_type": "code",
   "execution_count": 58,
   "metadata": {},
   "outputs": [],
   "source": [
    "# compute serial 7 score (G1806-G1810)\n",
    "serial_7=rf.compute_serial(df, cols=['hd142','hd146'])\n",
    "table_full_sample['02_serial_7'] = serial_7"
   ]
  },
  {
   "cell_type": "code",
   "execution_count": 59,
   "metadata": {},
   "outputs": [],
   "source": [
    "# examine tics (G1852)\n",
    "tics=df['hd170']\n",
    "\n",
    "# recode tics\n",
    "indices=rf.get_indices([tics.isnull()])\n",
    "tics=rf.update_series(tics, indices, values=[0])\n",
    "table_full_sample['02_tics'] = tics"
   ]
  },
  {
   "cell_type": "code",
   "execution_count": 60,
   "metadata": {},
   "outputs": [],
   "source": [
    "total_cog = tics + total_recall + serial_7\n",
    "table_full_sample['02_total_cog'] = total_cog\n"
   ]
  },
  {
   "cell_type": "markdown",
   "metadata": {},
   "source": [
    "### Append raw scores "
   ]
  },
  {
   "cell_type": "code",
   "execution_count": 61,
   "metadata": {},
   "outputs": [],
   "source": [
    "# Define and calculate total_cog, total_recall, tics, immediate_recall, delayed_recall, backward_20 variables\n",
    "table_full_sample['immediate_recall'] = table_full_sample['00_immediate_recall']\n",
    "table_full_sample['delayed_recall'] = table_full_sample['00_delayed_recall'] \n",
    "table_full_sample['total_recall'] = table_full_sample['00_total_recall']\n",
    "table_full_sample['serial7'] = table_full_sample['00_serial_7']\n",
    "table_full_sample['tics'] = table_full_sample['00_tics']\n",
    "table_full_sample['total_cog'] = table_full_sample['00_total_cog']\n",
    "table_full_sample['backwards_20'] = table_full_sample['00_backwards_20']\n",
    "\n",
    "# Add in HRS 2002 sample\n",
    "table_full_sample.loc[table_full_sample['hhidpn'].isin(in_adams02), ['immediate_recall']] = table_full_sample['02_immediate_recall']\n",
    "table_full_sample.loc[table_full_sample['hhidpn'].isin(in_adams02), ['delayed_recall']] = table_full_sample['02_delayed_recall']\n",
    "table_full_sample.loc[table_full_sample['hhidpn'].isin(in_adams02), ['total_recall']] = table_full_sample['02_total_recall']\n",
    "table_full_sample.loc[table_full_sample['hhidpn'].isin(in_adams02), ['serial7']] = table_full_sample['02_serial_7']\n",
    "table_full_sample.loc[table_full_sample['hhidpn'].isin(in_adams02), ['tics']] = table_full_sample['02_tics']\n",
    "table_full_sample.loc[table_full_sample['hhidpn'].isin(in_adams02), ['total_cog']] = table_full_sample['02_total_cog']\n",
    "table_full_sample.loc[table_full_sample['hhidpn'].isin(in_adams02), ['backwards_20']] = table_full_sample['02_backwards_20']\n"
   ]
  },
  {
   "cell_type": "code",
   "execution_count": 62,
   "metadata": {},
   "outputs": [
    {
     "data": {
      "text/plain": [
       "<matplotlib.axes._subplots.AxesSubplot at 0x7f225060c550>"
      ]
     },
     "execution_count": 62,
     "metadata": {},
     "output_type": "execute_result"
    },
    {
     "data": {
      "image/png": "[encoded data removed]",
      "text/plain": [
       "<Figure size 432x288 with 1 Axes>"
      ]
     },
     "metadata": {},
     "output_type": "display_data"
    }
   ],
   "source": [
    "# Check data\n",
    "sns.countplot(table_full_sample['total_recall'])"
   ]
  },
  {
   "cell_type": "code",
   "execution_count": 63,
   "metadata": {},
   "outputs": [
    {
     "data": {
      "text/plain": [
       "<matplotlib.axes._subplots.AxesSubplot at 0x7f22505e3a90>"
      ]
     },
     "execution_count": 63,
     "metadata": {},
     "output_type": "execute_result"
    },
    {
     "data": {
      "image/png": "[encoded data removed]",
      "text/plain": [
       "<Figure size 432x288 with 1 Axes>"
      ]
     },
     "metadata": {},
     "output_type": "display_data"
    }
   ],
   "source": [
    "sns.countplot(table_full_sample['total_cog'])"
   ]
  },
  {
   "cell_type": "code",
   "execution_count": 64,
   "metadata": {},
   "outputs": [
    {
     "data": {
      "text/html": [
       "<div>\n",
       "<style scoped>\n",
       "    .dataframe tbody tr th:only-of-type {\n",
       "        vertical-align: middle;\n",
       "    }\n",
       "\n",
       "    .dataframe tbody tr th {\n",
       "        vertical-align: top;\n",
       "    }\n",
       "\n",
       "    .dataframe thead th {\n",
       "        text-align: right;\n",
       "    }\n",
       "</style>\n",
       "<table border=\"1\" class=\"dataframe\">\n",
       "  <thead>\n",
       "    <tr style=\"text-align: right;\">\n",
       "      <th></th>\n",
       "      <th>total_cog</th>\n",
       "      <th>total_recall</th>\n",
       "      <th>tics</th>\n",
       "      <th>serial7</th>\n",
       "      <th>backwards_20</th>\n",
       "      <th>delayed_recall</th>\n",
       "      <th>immediate_recall</th>\n",
       "    </tr>\n",
       "  </thead>\n",
       "  <tbody>\n",
       "    <tr>\n",
       "      <th>count</th>\n",
       "      <td>1770.000000</td>\n",
       "      <td>1770.000000</td>\n",
       "      <td>1770.000000</td>\n",
       "      <td>1770.000000</td>\n",
       "      <td>1770.000000</td>\n",
       "      <td>1770.000000</td>\n",
       "      <td>1770.000000</td>\n",
       "    </tr>\n",
       "    <tr>\n",
       "      <th>mean</th>\n",
       "      <td>12.775141</td>\n",
       "      <td>4.810169</td>\n",
       "      <td>6.197740</td>\n",
       "      <td>1.767232</td>\n",
       "      <td>1.222034</td>\n",
       "      <td>1.928249</td>\n",
       "      <td>2.881921</td>\n",
       "    </tr>\n",
       "    <tr>\n",
       "      <th>std</th>\n",
       "      <td>9.652074</td>\n",
       "      <td>4.492077</td>\n",
       "      <td>4.145106</td>\n",
       "      <td>1.998600</td>\n",
       "      <td>0.973284</td>\n",
       "      <td>2.223250</td>\n",
       "      <td>2.456901</td>\n",
       "    </tr>\n",
       "    <tr>\n",
       "      <th>min</th>\n",
       "      <td>0.000000</td>\n",
       "      <td>0.000000</td>\n",
       "      <td>0.000000</td>\n",
       "      <td>0.000000</td>\n",
       "      <td>0.000000</td>\n",
       "      <td>0.000000</td>\n",
       "      <td>0.000000</td>\n",
       "    </tr>\n",
       "    <tr>\n",
       "      <th>25%</th>\n",
       "      <td>0.000000</td>\n",
       "      <td>0.000000</td>\n",
       "      <td>0.000000</td>\n",
       "      <td>0.000000</td>\n",
       "      <td>0.000000</td>\n",
       "      <td>0.000000</td>\n",
       "      <td>0.000000</td>\n",
       "    </tr>\n",
       "    <tr>\n",
       "      <th>50%</th>\n",
       "      <td>14.000000</td>\n",
       "      <td>4.000000</td>\n",
       "      <td>8.000000</td>\n",
       "      <td>1.000000</td>\n",
       "      <td>2.000000</td>\n",
       "      <td>1.000000</td>\n",
       "      <td>3.000000</td>\n",
       "    </tr>\n",
       "    <tr>\n",
       "      <th>75%</th>\n",
       "      <td>21.000000</td>\n",
       "      <td>8.000000</td>\n",
       "      <td>10.000000</td>\n",
       "      <td>4.000000</td>\n",
       "      <td>2.000000</td>\n",
       "      <td>4.000000</td>\n",
       "      <td>5.000000</td>\n",
       "    </tr>\n",
       "    <tr>\n",
       "      <th>max</th>\n",
       "      <td>35.000000</td>\n",
       "      <td>20.000000</td>\n",
       "      <td>10.000000</td>\n",
       "      <td>5.000000</td>\n",
       "      <td>2.000000</td>\n",
       "      <td>10.000000</td>\n",
       "      <td>10.000000</td>\n",
       "    </tr>\n",
       "  </tbody>\n",
       "</table>\n",
       "</div>"
      ],
      "text/plain": [
       "         total_cog  total_recall         tics      serial7  backwards_20  \\\n",
       "count  1770.000000   1770.000000  1770.000000  1770.000000   1770.000000   \n",
       "mean     12.775141      4.810169     6.197740     1.767232      1.222034   \n",
       "std       9.652074      4.492077     4.145106     1.998600      0.973284   \n",
       "min       0.000000      0.000000     0.000000     0.000000      0.000000   \n",
       "25%       0.000000      0.000000     0.000000     0.000000      0.000000   \n",
       "50%      14.000000      4.000000     8.000000     1.000000      2.000000   \n",
       "75%      21.000000      8.000000    10.000000     4.000000      2.000000   \n",
       "max      35.000000     20.000000    10.000000     5.000000      2.000000   \n",
       "\n",
       "       delayed_recall  immediate_recall  \n",
       "count     1770.000000       1770.000000  \n",
       "mean         1.928249          2.881921  \n",
       "std          2.223250          2.456901  \n",
       "min          0.000000          0.000000  \n",
       "25%          0.000000          0.000000  \n",
       "50%          1.000000          3.000000  \n",
       "75%          4.000000          5.000000  \n",
       "max         10.000000         10.000000  "
      ]
     },
     "execution_count": 64,
     "metadata": {},
     "output_type": "execute_result"
    }
   ],
   "source": [
    "table_full_sample.loc[:, ['total_cog', 'total_recall','tics','serial7','backwards_20','delayed_recall', 'immediate_recall']].describe()"
   ]
  },
  {
   "cell_type": "markdown",
   "metadata": {},
   "source": [
    "## D. Create labels"
   ]
  },
  {
   "cell_type": "markdown",
   "metadata": {},
   "source": [
    "### Herzog & Wallace (1997)\n",
    "\n",
    "Herzog & Wallace proposed that a total cognition score (out of 35) that's >8 is indicative of normal cognitive functioning, while a score that's <=8 is indicative of cognitive impairment. Based on the literature, this method doesn't seem to be that great..."
   ]
  },
  {
   "cell_type": "code",
   "execution_count": 65,
   "metadata": {},
   "outputs": [],
   "source": [
    "df = table_full_sample\n",
    "total_cog = table_full_sample['total_cog']\n",
    "total_recall = table_full_sample['total_recall']\n",
    "serial_7 = table_full_sample['serial7']\n",
    "backwards_20 = table_full_sample['backwards_20']"
   ]
  },
  {
   "cell_type": "code",
   "execution_count": 66,
   "metadata": {
    "collapsed": true
   },
   "outputs": [],
   "source": [
    "# create labels from total cognition score via Herzog & Wallace method (binary)\n",
    "brain_health_labels1=rf.initialize_series(df)\n",
    "indices=rf.get_indices([total_cog<=8])\n",
    "brain_health_labels1=rf.update_series(brain_health_labels1, indices, values=[1]) # 0: normal, 1: cognitive impairment"
   ]
  },
  {
   "cell_type": "code",
   "execution_count": 67,
   "metadata": {},
   "outputs": [
    {
     "data": {
      "text/plain": [
       "0    1140\n",
       "1     630\n",
       "dtype: int64"
      ]
     },
     "execution_count": 67,
     "metadata": {},
     "output_type": "execute_result"
    }
   ],
   "source": [
    "# examine labels (Herzog & Wallace)\n",
    "brain_health_labels1.value_counts()"
   ]
  },
  {
   "cell_type": "markdown",
   "metadata": {},
   "source": [
    "### Langa & Weir (2009)\n",
    "\n",
    "Langa & Weir proposed that a total cognition score (out of 27 and not 35!) that's >12 is indicative of normal cognitive functioning, while a score from 7-11 is indicative of cognitive impairment and a score that's <7 is indicative of dementia. Based on the literature, this method is much better!"
   ]
  },
  {
   "cell_type": "code",
   "execution_count": 68,
   "metadata": {
    "collapsed": true
   },
   "outputs": [],
   "source": [
    "# create labels from total cognition score via Langa & Weir method (3 levels)\n",
    "revised_total_cog=backwards_20 + total_recall + serial_7\n",
    "#revised_total_cog.value_counts()\n",
    "#revised_total_cog.min(), revised_total_cog.max()\n",
    "\n",
    "brain_health_labels2=rf.initialize_series(df)\n",
    "indices=rf.get_indices([revised_total_cog.between(7,11), # 1: cognitive impairment\n",
    "                        revised_total_cog.between(0,6) # 2: dementia\n",
    "                       ])\n",
    "brain_health_labels2=rf.update_series(brain_health_labels2, indices, values=[1,2]) # 0: normal"
   ]
  },
  {
   "cell_type": "code",
   "execution_count": 69,
   "metadata": {},
   "outputs": [
    {
     "data": {
      "text/plain": [
       "2    824\n",
       "0    610\n",
       "1    336\n",
       "dtype: int64"
      ]
     },
     "execution_count": 69,
     "metadata": {},
     "output_type": "execute_result"
    }
   ],
   "source": [
    "# examine labels (Langa & Weir)\n",
    "brain_health_labels2.value_counts()"
   ]
  },
  {
   "cell_type": "code",
   "execution_count": 70,
   "metadata": {
    "collapsed": true
   },
   "outputs": [],
   "source": [
    "# create labels from total cognition score via Langa & Weir method (2 levels)\n",
    "brain_health_labels3=rf.initialize_series(df)\n",
    "indices=rf.get_indices([brain_health_labels2.between(1,2)])\n",
    "brain_health_labels3=rf.update_series(brain_health_labels3, indices, values=[1]) # 0: normal, 1: non-normal "
   ]
  },
  {
   "cell_type": "code",
   "execution_count": 71,
   "metadata": {},
   "outputs": [
    {
     "data": {
      "text/plain": [
       "1    1160\n",
       "0     610\n",
       "dtype: int64"
      ]
     },
     "execution_count": 71,
     "metadata": {},
     "output_type": "execute_result"
    }
   ],
   "source": [
    "# examine recode\n",
    "brain_health_labels3.value_counts()"
   ]
  },
  {
   "cell_type": "code",
   "execution_count": 72,
   "metadata": {},
   "outputs": [
    {
     "data": {
      "text/plain": [
       "<matplotlib.axes._subplots.AxesSubplot at 0x7f2250784e80>"
      ]
     },
     "execution_count": 72,
     "metadata": {},
     "output_type": "execute_result"
    },
    {
     "data": {
      "image/png": "[encoded data removed]",
      "text/plain": [
       "<Figure size 432x288 with 1 Axes>"
      ]
     },
     "metadata": {},
     "output_type": "display_data"
    }
   ],
   "source": [
    "sns.countplot(brain_health_labels1)"
   ]
  },
  {
   "cell_type": "code",
   "execution_count": 73,
   "metadata": {},
   "outputs": [
    {
     "data": {
      "text/plain": [
       "<matplotlib.axes._subplots.AxesSubplot at 0x7f225041f978>"
      ]
     },
     "execution_count": 73,
     "metadata": {},
     "output_type": "execute_result"
    },
    {
     "data": {
      "image/png": "[encoded data removed]",
      "text/plain": [
       "<Figure size 432x288 with 1 Axes>"
      ]
     },
     "metadata": {},
     "output_type": "display_data"
    }
   ],
   "source": [
    "sns.countplot(brain_health_labels2)"
   ]
  },
  {
   "cell_type": "code",
   "execution_count": 74,
   "metadata": {},
   "outputs": [
    {
     "data": {
      "text/plain": [
       "<matplotlib.axes._subplots.AxesSubplot at 0x7f22503d1a90>"
      ]
     },
     "execution_count": 74,
     "metadata": {},
     "output_type": "execute_result"
    },
    {
     "data": {
      "image/png": "[encoded data removed]",
      "text/plain": [
       "<Figure size 432x288 with 1 Axes>"
      ]
     },
     "metadata": {},
     "output_type": "display_data"
    }
   ],
   "source": [
    "sns.countplot(brain_health_labels3)"
   ]
  },
  {
   "cell_type": "markdown",
   "metadata": {},
   "source": [
    "### Append labels"
   ]
  },
  {
   "cell_type": "code",
   "execution_count": 75,
   "metadata": {},
   "outputs": [],
   "source": [
    "# Add brain health labels\n",
    "table_full_sample['brain_health_1'] = brain_health_labels1\n",
    "table_full_sample['brain_health_2'] = brain_health_labels2\n",
    "table_full_sample['brain_health_3'] = brain_health_labels3"
   ]
  },
  {
   "cell_type": "code",
   "execution_count": 76,
   "metadata": {},
   "outputs": [
    {
     "data": {
      "text/plain": [
       "0    1140\n",
       "1     630\n",
       "Name: brain_health_1, dtype: int64"
      ]
     },
     "execution_count": 76,
     "metadata": {},
     "output_type": "execute_result"
    }
   ],
   "source": [
    "table_full_sample['brain_health_1'].value_counts()"
   ]
  },
  {
   "cell_type": "code",
   "execution_count": 77,
   "metadata": {},
   "outputs": [],
   "source": [
    "# Just the ADAMS respondents\n",
    "table_small_sample = table_full_sample.loc[table_full_sample['AYEAR']!=9997, :]"
   ]
  },
  {
   "cell_type": "code",
   "execution_count": 78,
   "metadata": {},
   "outputs": [
    {
     "name": "stdout",
     "output_type": "stream",
     "text": [
      "<class 'pandas.core.frame.DataFrame'>\n",
      "Int64Index: 856 entries, 0 to 1769\n",
      "Columns: 13502 entries, HHID to brain_health_3\n",
      "dtypes: float32(7), float64(12649), int64(87), object(759)\n",
      "memory usage: 88.2+ MB\n"
     ]
    }
   ],
   "source": [
    "table_small_sample.info()"
   ]
  },
  {
   "cell_type": "markdown",
   "metadata": {},
   "source": [
    "## E. Save table"
   ]
  },
  {
   "cell_type": "code",
   "execution_count": 79,
   "metadata": {},
   "outputs": [
    {
     "name": "stdout",
     "output_type": "stream",
     "text": [
      "<class 'pandas.core.frame.DataFrame'>\n",
      "Int64Index: 1770 entries, 0 to 1769\n",
      "Columns: 13502 entries, HHID to brain_health_3\n",
      "dtypes: float32(7), float64(12649), int64(87), object(759)\n",
      "memory usage: 182.4+ MB\n"
     ]
    }
   ],
   "source": [
    "table_full_sample.info()"
   ]
  },
  {
   "cell_type": "code",
   "execution_count": 80,
   "metadata": {
    "collapsed": true
   },
   "outputs": [],
   "source": [
    "table_full_sample.to_csv(LOCAL_DIR + 'brainFitDx/data/sample/final_adams_hrs_combined.csv', index=False)\n",
    "#table_full_sample.to_pickle('/home/levi/data/brainFitDx/data/sample/final_adams_hrs_combined.pkl')"
   ]
  },
  {
   "cell_type": "code",
   "execution_count": 81,
   "metadata": {},
   "outputs": [
    {
     "name": "stdout",
     "output_type": "stream",
     "text": [
      "<class 'pandas.core.frame.DataFrame'>\n",
      "Int64Index: 856 entries, 0 to 1769\n",
      "Columns: 13502 entries, HHID to brain_health_3\n",
      "dtypes: float32(7), float64(12649), int64(87), object(759)\n",
      "memory usage: 88.2+ MB\n"
     ]
    }
   ],
   "source": [
    "table_small_sample.info()"
   ]
  },
  {
   "cell_type": "code",
   "execution_count": 82,
   "metadata": {},
   "outputs": [],
   "source": [
    "table_small_sample.to_csv(LOCAL_DIR + 'brainFitDx/data/sample/final_adams_hrs_combined_small.csv', index=False)\n",
    "#table_full_sample.to_pickle('/home/levi/data/brainFitDx/data/sample/final_adams_hrs_combined_small.pkl')"
   ]
  },
  {
   "cell_type": "code",
   "execution_count": 83,
   "metadata": {},
   "outputs": [],
   "source": [
    "in_adams = table_adams['hhidpn']\n",
    "in_2000 = table_2000['hhidpn']\n",
    "in_2002 = table_2002['hhidpn']"
   ]
  },
  {
   "cell_type": "code",
   "execution_count": 84,
   "metadata": {},
   "outputs": [],
   "source": [
    "in_adams.to_csv(LOCAL_DIR + 'brainFitDx/data/sample/ids_for_adams_fullsample.csv')\n",
    "in_2000.to_csv(LOCAL_DIR + 'brainFitDx/data/sample/ids_for_2000HRS_fullsample.csv')\n",
    "in_2002.to_csv(LOCAL_DIR + 'brainFitDx/data/sample/ids_for_2002HRS_fullsample.csv')"
   ]
  },
  {
   "cell_type": "markdown",
   "metadata": {},
   "source": [
    "## F. Process the complete HRS 2000 data"
   ]
  },
  {
   "cell_type": "code",
   "execution_count": 85,
   "metadata": {
    "collapsed": true
   },
   "outputs": [],
   "source": [
    "# load file\n",
    "# table_full_sample = pd.read_csv('/home/levi/data/brainFitDx/data/sample/final_adams_hrs_combined.csv')\n",
    "df = table_2000"
   ]
  },
  {
   "cell_type": "code",
   "execution_count": 86,
   "metadata": {
    "collapsed": true
   },
   "outputs": [],
   "source": [
    "# recode backwards count 20\n",
    "backwards_20=rf.initialize_series(df)\n",
    "indices=rf.get_indices([df['g1733']==1, # 1\n",
    "                        df['g1710']==1 # 2\n",
    "                       ])\n",
    "backwards_20=rf.update_series(backwards_20, indices, values=[1,2])"
   ]
  },
  {
   "cell_type": "code",
   "execution_count": 87,
   "metadata": {},
   "outputs": [
    {
     "data": {
      "text/plain": [
       "2    16550\n",
       "0     2984\n",
       "1       45\n",
       "dtype: int64"
      ]
     },
     "execution_count": 87,
     "metadata": {},
     "output_type": "execute_result"
    }
   ],
   "source": [
    "# examine recode\n",
    "backwards_20.value_counts()"
   ]
  },
  {
   "cell_type": "code",
   "execution_count": 88,
   "metadata": {},
   "outputs": [
    {
     "data": {
      "text/plain": [
       "array([ 38.,  30.,   4.,  17.,  40.,  19.,  15.,   1.,  11.,  nan,  10.,\n",
       "        31.,  13.,  12.,  29.,  39.,  34.,  23.,   3.,  35.,  21.,   5.,\n",
       "        24.,  20.,  18.,  36.,  32.,  22.,  25.,  33.,  14.,   8.,   9.,\n",
       "        98.,   2.,  26.,  51.,  16.,  28.,  27.,   7.,  96.,   6.,  37.,\n",
       "        99.])"
      ]
     },
     "execution_count": 88,
     "metadata": {},
     "output_type": "execute_result"
    }
   ],
   "source": [
    "# examine immediate recall questions (G1666M1-G1666M11)\n",
    "df['g1666m1'].unique()"
   ]
  },
  {
   "cell_type": "code",
   "execution_count": 89,
   "metadata": {
    "collapsed": true
   },
   "outputs": [],
   "source": [
    "# compute immediate recall score (G1666M1-G1666M11)\n",
    "immediate_recall=pd.Series(rf.compute_recall(df, cols=['g1666m1','g1666m11']))"
   ]
  },
  {
   "cell_type": "code",
   "execution_count": 90,
   "metadata": {},
   "outputs": [
    {
     "data": {
      "text/plain": [
       "6     3769\n",
       "5     3760\n",
       "4     2672\n",
       "7     2660\n",
       "0     2387\n",
       "8     1453\n",
       "3     1426\n",
       "9      562\n",
       "2      525\n",
       "10     199\n",
       "1      166\n",
       "dtype: int64"
      ]
     },
     "execution_count": 90,
     "metadata": {},
     "output_type": "execute_result"
    }
   ],
   "source": [
    "# examine immediate recall score\n",
    "sum(immediate_recall.isnull()) # no missing values\n",
    "immediate_recall.unique()\n",
    "immediate_recall.value_counts()"
   ]
  },
  {
   "cell_type": "code",
   "execution_count": 91,
   "metadata": {
    "collapsed": true
   },
   "outputs": [],
   "source": [
    "# compute delayed recall score (G1815M1-G1815M11)\n",
    "delayed_recall=pd.Series(rf.compute_recall(df, cols=['g1815m1','g1815m11']))"
   ]
  },
  {
   "cell_type": "code",
   "execution_count": 92,
   "metadata": {},
   "outputs": [
    {
     "data": {
      "text/plain": [
       "array([ 3, 10,  5,  7,  6,  4,  0,  8,  2,  1,  9])"
      ]
     },
     "execution_count": 92,
     "metadata": {},
     "output_type": "execute_result"
    }
   ],
   "source": [
    "# examine delayed recall score\n",
    "delayed_recall.unique()"
   ]
  },
  {
   "cell_type": "code",
   "execution_count": 93,
   "metadata": {
    "collapsed": true
   },
   "outputs": [],
   "source": [
    "# compute total recall score (immediate recall + delayed recall)\n",
    "total_recall=immediate_recall.add(delayed_recall)"
   ]
  },
  {
   "cell_type": "code",
   "execution_count": 94,
   "metadata": {},
   "outputs": [
    {
     "data": {
      "text/html": [
       "<div>\n",
       "<style scoped>\n",
       "    .dataframe tbody tr th:only-of-type {\n",
       "        vertical-align: middle;\n",
       "    }\n",
       "\n",
       "    .dataframe tbody tr th {\n",
       "        vertical-align: top;\n",
       "    }\n",
       "\n",
       "    .dataframe thead th {\n",
       "        text-align: right;\n",
       "    }\n",
       "</style>\n",
       "<table border=\"1\" class=\"dataframe\">\n",
       "  <thead>\n",
       "    <tr style=\"text-align: right;\">\n",
       "      <th></th>\n",
       "      <th>total</th>\n",
       "      <th>immediate</th>\n",
       "      <th>delayed</th>\n",
       "    </tr>\n",
       "  </thead>\n",
       "  <tbody>\n",
       "    <tr>\n",
       "      <th>0</th>\n",
       "      <td>8</td>\n",
       "      <td>5</td>\n",
       "      <td>3</td>\n",
       "    </tr>\n",
       "    <tr>\n",
       "      <th>1</th>\n",
       "      <td>20</td>\n",
       "      <td>10</td>\n",
       "      <td>10</td>\n",
       "    </tr>\n",
       "    <tr>\n",
       "      <th>2</th>\n",
       "      <td>11</td>\n",
       "      <td>6</td>\n",
       "      <td>5</td>\n",
       "    </tr>\n",
       "    <tr>\n",
       "      <th>3</th>\n",
       "      <td>14</td>\n",
       "      <td>7</td>\n",
       "      <td>7</td>\n",
       "    </tr>\n",
       "    <tr>\n",
       "      <th>4</th>\n",
       "      <td>20</td>\n",
       "      <td>10</td>\n",
       "      <td>10</td>\n",
       "    </tr>\n",
       "  </tbody>\n",
       "</table>\n",
       "</div>"
      ],
      "text/plain": [
       "   total  immediate  delayed\n",
       "0      8          5        3\n",
       "1     20         10       10\n",
       "2     11          6        5\n",
       "3     14          7        7\n",
       "4     20         10       10"
      ]
     },
     "execution_count": 94,
     "metadata": {},
     "output_type": "execute_result"
    }
   ],
   "source": [
    "# examine total recall score\n",
    "pd.DataFrame({'total': total_recall, 'immediate': immediate_recall, 'delayed': delayed_recall}).head()"
   ]
  },
  {
   "cell_type": "code",
   "execution_count": 95,
   "metadata": {},
   "outputs": [
    {
     "data": {
      "text/html": [
       "<div>\n",
       "<style scoped>\n",
       "    .dataframe tbody tr th:only-of-type {\n",
       "        vertical-align: middle;\n",
       "    }\n",
       "\n",
       "    .dataframe tbody tr th {\n",
       "        vertical-align: top;\n",
       "    }\n",
       "\n",
       "    .dataframe thead th {\n",
       "        text-align: right;\n",
       "    }\n",
       "</style>\n",
       "<table border=\"1\" class=\"dataframe\">\n",
       "  <thead>\n",
       "    <tr style=\"text-align: right;\">\n",
       "      <th></th>\n",
       "      <th>g1806</th>\n",
       "      <th>g1807</th>\n",
       "      <th>g1808</th>\n",
       "      <th>g1809</th>\n",
       "      <th>g1810</th>\n",
       "    </tr>\n",
       "  </thead>\n",
       "  <tbody>\n",
       "    <tr>\n",
       "      <th>0</th>\n",
       "      <td>97.0</td>\n",
       "      <td>94.0</td>\n",
       "      <td>998.0</td>\n",
       "      <td>NaN</td>\n",
       "      <td>NaN</td>\n",
       "    </tr>\n",
       "    <tr>\n",
       "      <th>1</th>\n",
       "      <td>93.0</td>\n",
       "      <td>86.0</td>\n",
       "      <td>78.0</td>\n",
       "      <td>71.0</td>\n",
       "      <td>64.0</td>\n",
       "    </tr>\n",
       "    <tr>\n",
       "      <th>2</th>\n",
       "      <td>93.0</td>\n",
       "      <td>86.0</td>\n",
       "      <td>79.0</td>\n",
       "      <td>72.0</td>\n",
       "      <td>65.0</td>\n",
       "    </tr>\n",
       "    <tr>\n",
       "      <th>3</th>\n",
       "      <td>93.0</td>\n",
       "      <td>86.0</td>\n",
       "      <td>79.0</td>\n",
       "      <td>72.0</td>\n",
       "      <td>65.0</td>\n",
       "    </tr>\n",
       "    <tr>\n",
       "      <th>4</th>\n",
       "      <td>93.0</td>\n",
       "      <td>86.0</td>\n",
       "      <td>79.0</td>\n",
       "      <td>72.0</td>\n",
       "      <td>65.0</td>\n",
       "    </tr>\n",
       "  </tbody>\n",
       "</table>\n",
       "</div>"
      ],
      "text/plain": [
       "   g1806  g1807  g1808  g1809  g1810\n",
       "0   97.0   94.0  998.0    NaN    NaN\n",
       "1   93.0   86.0   78.0   71.0   64.0\n",
       "2   93.0   86.0   79.0   72.0   65.0\n",
       "3   93.0   86.0   79.0   72.0   65.0\n",
       "4   93.0   86.0   79.0   72.0   65.0"
      ]
     },
     "execution_count": 95,
     "metadata": {},
     "output_type": "execute_result"
    }
   ],
   "source": [
    "# examine serial 7 (G1806-G1810)\n",
    "df['g1806'].unique()\n",
    "df.loc[:,'g1806':'g1810'].head()"
   ]
  },
  {
   "cell_type": "code",
   "execution_count": 96,
   "metadata": {
    "collapsed": true
   },
   "outputs": [],
   "source": [
    "# compute serial 7 score (G1806-G1810)\n",
    "serial_7=rf.compute_serial(df, cols=['g1806','g1810'])"
   ]
  },
  {
   "cell_type": "code",
   "execution_count": 97,
   "metadata": {},
   "outputs": [
    {
     "data": {
      "text/plain": [
       "5    7386\n",
       "0    4005\n",
       "4    3047\n",
       "3    1961\n",
       "1    1750\n",
       "2    1430\n",
       "dtype: int64"
      ]
     },
     "execution_count": 97,
     "metadata": {},
     "output_type": "execute_result"
    }
   ],
   "source": [
    "# examine serial 7 score\n",
    "serial_7.unique()\n",
    "serial_7.value_counts()"
   ]
  },
  {
   "cell_type": "code",
   "execution_count": 98,
   "metadata": {},
   "outputs": [
    {
     "data": {
      "text/plain": [
       "10.0    6182\n",
       "9.0     1764\n",
       "8.0      692\n",
       "7.0      302\n",
       "6.0      165\n",
       "5.0       99\n",
       "4.0       65\n",
       "3.0       46\n",
       "2.0       21\n",
       "1.0       10\n",
       "0.0        7\n",
       "Name: g1852, dtype: int64"
      ]
     },
     "execution_count": 98,
     "metadata": {},
     "output_type": "execute_result"
    }
   ],
   "source": [
    "# examine tics (G1852)\n",
    "tics=df['g1852']\n",
    "tics.value_counts()"
   ]
  },
  {
   "cell_type": "code",
   "execution_count": 99,
   "metadata": {},
   "outputs": [
    {
     "data": {
      "text/plain": [
       "0.0     10233\n",
       "10.0     6182\n",
       "9.0      1764\n",
       "8.0       692\n",
       "7.0       302\n",
       "6.0       165\n",
       "5.0        99\n",
       "4.0        65\n",
       "3.0        46\n",
       "2.0        21\n",
       "1.0        10\n",
       "Name: g1852, dtype: int64"
      ]
     },
     "execution_count": 99,
     "metadata": {},
     "output_type": "execute_result"
    }
   ],
   "source": [
    "# recode tics\n",
    "indices=rf.get_indices([tics.isnull()])\n",
    "tics=rf.update_series(tics, indices, values=[0])\n",
    "tics.value_counts()"
   ]
  },
  {
   "cell_type": "code",
   "execution_count": 100,
   "metadata": {
    "collapsed": true
   },
   "outputs": [],
   "source": [
    "# compute total cognition score (tics + total_recall + serial_7)\n",
    "total_cog=tics + total_recall + serial_7"
   ]
  },
  {
   "cell_type": "code",
   "execution_count": 101,
   "metadata": {},
   "outputs": [
    {
     "data": {
      "text/plain": [
       "0.0     2110\n",
       "17.0    1132\n",
       "16.0    1118\n",
       "18.0    1108\n",
       "15.0    1085\n",
       "19.0    1009\n",
       "14.0    1008\n",
       "20.0     981\n",
       "21.0     899\n",
       "23.0     878\n",
       "22.0     859\n",
       "13.0     821\n",
       "24.0     787\n",
       "25.0     743\n",
       "12.0     676\n",
       "26.0     599\n",
       "11.0     501\n",
       "27.0     488\n",
       "10.0     451\n",
       "28.0     357\n",
       "9.0      336\n",
       "8.0      287\n",
       "29.0     231\n",
       "7.0      229\n",
       "30.0     167\n",
       "6.0      155\n",
       "31.0     136\n",
       "5.0      122\n",
       "4.0       86\n",
       "32.0      59\n",
       "3.0       52\n",
       "33.0      39\n",
       "2.0       25\n",
       "35.0      18\n",
       "1.0       15\n",
       "34.0      12\n",
       "dtype: int64"
      ]
     },
     "execution_count": 101,
     "metadata": {},
     "output_type": "execute_result"
    }
   ],
   "source": [
    "# examine total cognition score\n",
    "total_cog.unique()\n",
    "total_cog.value_counts()"
   ]
  },
  {
   "cell_type": "code",
   "execution_count": 102,
   "metadata": {
    "collapsed": true
   },
   "outputs": [],
   "source": [
    "# Add score data to tables\n",
    "table_2000['backwards_20'] = backwards_20\n",
    "table_2000['serial7'] = serial_7\n",
    "table_2000['immediate_recall'] = immediate_recall\n",
    "table_2000['delayed_recall'] = delayed_recall\n",
    "table_2000['total_recall'] = total_recall\n",
    "table_2000['tics'] = tics\n",
    "table_2000['total_cog'] = total_cog\n"
   ]
  },
  {
   "cell_type": "code",
   "execution_count": 103,
   "metadata": {},
   "outputs": [
    {
     "data": {
      "text/plain": [
       "<matplotlib.axes._subplots.AxesSubplot at 0x7f22559149b0>"
      ]
     },
     "execution_count": 103,
     "metadata": {},
     "output_type": "execute_result"
    },
    {
     "data": {
      "image/png": "[encoded data removed]",
      "text/plain": [
       "<Figure size 432x288 with 1 Axes>"
      ]
     },
     "metadata": {},
     "output_type": "display_data"
    }
   ],
   "source": [
    "table_2000['serial7'].plot.hist()"
   ]
  },
  {
   "cell_type": "code",
   "execution_count": 104,
   "metadata": {},
   "outputs": [
    {
     "data": {
      "text/plain": [
       "<matplotlib.axes._subplots.AxesSubplot at 0x7f2236cd3438>"
      ]
     },
     "execution_count": 104,
     "metadata": {},
     "output_type": "execute_result"
    },
    {
     "data": {
      "image/png": "[encoded data removed]",
      "text/plain": [
       "<Figure size 432x288 with 1 Axes>"
      ]
     },
     "metadata": {},
     "output_type": "display_data"
    }
   ],
   "source": [
    "table_2000['total_recall'].plot.hist()"
   ]
  },
  {
   "cell_type": "code",
   "execution_count": 105,
   "metadata": {},
   "outputs": [
    {
     "data": {
      "text/plain": [
       "<matplotlib.axes._subplots.AxesSubplot at 0x7f2255918320>"
      ]
     },
     "execution_count": 105,
     "metadata": {},
     "output_type": "execute_result"
    },
    {
     "data": {
      "image/png": "[encoded data removed]",
      "text/plain": [
       "<Figure size 432x288 with 1 Axes>"
      ]
     },
     "metadata": {},
     "output_type": "display_data"
    }
   ],
   "source": [
    "table_2000['tics'].plot.hist()"
   ]
  },
  {
   "cell_type": "code",
   "execution_count": 106,
   "metadata": {},
   "outputs": [
    {
     "data": {
      "text/plain": [
       "<matplotlib.axes._subplots.AxesSubplot at 0x7f223393ec18>"
      ]
     },
     "execution_count": 106,
     "metadata": {},
     "output_type": "execute_result"
    },
    {
     "data": {
      "image/png": "[encoded data removed]",
      "text/plain": [
       "<Figure size 432x288 with 1 Axes>"
      ]
     },
     "metadata": {},
     "output_type": "display_data"
    }
   ],
   "source": [
    "table_2000['total_cog'].plot.hist()"
   ]
  },
  {
   "cell_type": "code",
   "execution_count": 107,
   "metadata": {},
   "outputs": [],
   "source": [
    "df = table_2000\n",
    "total_cog = table_2000['total_cog']\n",
    "total_recall = table_2000['total_recall']\n",
    "serial_7 = table_2000['serial7']\n",
    "backwards_20 = table_2000['backwards_20']"
   ]
  },
  {
   "cell_type": "code",
   "execution_count": 108,
   "metadata": {
    "collapsed": true
   },
   "outputs": [],
   "source": [
    "# create labels from total cognition score via Herzog & Wallace method (binary)\n",
    "brain_health_labels1=rf.initialize_series(df)\n",
    "indices=rf.get_indices([total_cog<=8])\n",
    "brain_health_labels1=rf.update_series(brain_health_labels1, indices, values=[1]) # 0: normal, 1: cognitive impairment"
   ]
  },
  {
   "cell_type": "code",
   "execution_count": 109,
   "metadata": {},
   "outputs": [
    {
     "data": {
      "text/plain": [
       "0    16498\n",
       "1     3081\n",
       "dtype: int64"
      ]
     },
     "execution_count": 109,
     "metadata": {},
     "output_type": "execute_result"
    }
   ],
   "source": [
    "# examine labels (Herzog & Wallace)\n",
    "brain_health_labels1.value_counts()"
   ]
  },
  {
   "cell_type": "markdown",
   "metadata": {},
   "source": [
    "### Langa & Weir (2009)\n",
    "\n",
    "Langa & Weir proposed that a total cognition score (out of 27 and not 35!) that's >12 is indicative of normal cognitive functioning, while a score from 7-11 is indicative of cognitive impairment and a score that's <7 is indicative of dementia. Based on the literature, this method is much better!"
   ]
  },
  {
   "cell_type": "code",
   "execution_count": 110,
   "metadata": {
    "collapsed": true
   },
   "outputs": [],
   "source": [
    "# create labels from total cognition score via Langa & Weir method (3 levels)\n",
    "revised_total_cog=backwards_20 + total_recall + serial_7\n",
    "#revised_total_cog.value_counts()\n",
    "#revised_total_cog.min(), revised_total_cog.max()\n",
    "\n",
    "brain_health_labels2=rf.initialize_series(df)\n",
    "indices=rf.get_indices([revised_total_cog.between(7,11), # 1: cognitive impairment\n",
    "                        revised_total_cog.between(0,6) # 2: dementia\n",
    "                       ])\n",
    "brain_health_labels2=rf.update_series(brain_health_labels2, indices, values=[1,2]) # 0: normal"
   ]
  },
  {
   "cell_type": "code",
   "execution_count": 111,
   "metadata": {},
   "outputs": [
    {
     "data": {
      "text/plain": [
       "0    13666\n",
       "2     3068\n",
       "1     2845\n",
       "dtype: int64"
      ]
     },
     "execution_count": 111,
     "metadata": {},
     "output_type": "execute_result"
    }
   ],
   "source": [
    "# examine labels (Langa & Weir)\n",
    "brain_health_labels2.value_counts()"
   ]
  },
  {
   "cell_type": "code",
   "execution_count": 112,
   "metadata": {
    "collapsed": true
   },
   "outputs": [],
   "source": [
    "# create labels from total cognition score via Langa & Weir method (2 levels)\n",
    "brain_health_labels3=rf.initialize_series(df)\n",
    "indices=rf.get_indices([brain_health_labels2.between(1,2)])\n",
    "brain_health_labels3=rf.update_series(brain_health_labels3, indices, values=[1]) # 0: normal, 1: non-normal "
   ]
  },
  {
   "cell_type": "code",
   "execution_count": 113,
   "metadata": {},
   "outputs": [
    {
     "data": {
      "text/plain": [
       "0    13666\n",
       "1     5913\n",
       "dtype: int64"
      ]
     },
     "execution_count": 113,
     "metadata": {},
     "output_type": "execute_result"
    }
   ],
   "source": [
    "# examine recode\n",
    "brain_health_labels3.value_counts()"
   ]
  },
  {
   "cell_type": "code",
   "execution_count": 114,
   "metadata": {},
   "outputs": [
    {
     "data": {
      "text/plain": [
       "<matplotlib.axes._subplots.AxesSubplot at 0x7f2255a3fa58>"
      ]
     },
     "execution_count": 114,
     "metadata": {},
     "output_type": "execute_result"
    },
    {
     "data": {
      "image/png": "[encoded data removed]",
      "text/plain": [
       "<Figure size 432x288 with 1 Axes>"
      ]
     },
     "metadata": {},
     "output_type": "display_data"
    }
   ],
   "source": [
    "sns.countplot(brain_health_labels1)"
   ]
  },
  {
   "cell_type": "code",
   "execution_count": 115,
   "metadata": {},
   "outputs": [
    {
     "data": {
      "text/plain": [
       "<matplotlib.axes._subplots.AxesSubplot at 0x7f2255a53048>"
      ]
     },
     "execution_count": 115,
     "metadata": {},
     "output_type": "execute_result"
    },
    {
     "data": {
      "image/png": "[encoded data removed]",
      "text/plain": [
       "<Figure size 432x288 with 1 Axes>"
      ]
     },
     "metadata": {},
     "output_type": "display_data"
    }
   ],
   "source": [
    "sns.countplot(brain_health_labels2)"
   ]
  },
  {
   "cell_type": "code",
   "execution_count": 116,
   "metadata": {},
   "outputs": [
    {
     "data": {
      "text/plain": [
       "<matplotlib.axes._subplots.AxesSubplot at 0x7f2255a68ba8>"
      ]
     },
     "execution_count": 116,
     "metadata": {},
     "output_type": "execute_result"
    },
    {
     "data": {
      "image/png": "[encoded data removed]",
      "text/plain": [
       "<Figure size 432x288 with 1 Axes>"
      ]
     },
     "metadata": {},
     "output_type": "display_data"
    }
   ],
   "source": [
    "sns.countplot(brain_health_labels3)"
   ]
  },
  {
   "cell_type": "code",
   "execution_count": 117,
   "metadata": {},
   "outputs": [],
   "source": [
    "# Add brain health labels\n",
    "table_2000['brain_health_1'] = brain_health_labels1\n",
    "table_2000['brain_health_2'] = brain_health_labels2\n",
    "table_2000['brain_health_3'] = brain_health_labels3"
   ]
  },
  {
   "cell_type": "markdown",
   "metadata": {},
   "source": [
    "### Save 2000 Data"
   ]
  },
  {
   "cell_type": "code",
   "execution_count": 118,
   "metadata": {},
   "outputs": [
    {
     "name": "stdout",
     "output_type": "stream",
     "text": [
      "<class 'pandas.core.frame.DataFrame'>\n",
      "Int64Index: 19579 entries, 0 to 19578\n",
      "Columns: 6165 entries, hhidpn to brain_health_3\n",
      "dtypes: float32(5), float64(5271), int16(55), int32(8), int64(8), int8(352), object(466)\n",
      "memory usage: 868.5+ MB\n"
     ]
    }
   ],
   "source": [
    "table_2000.info()"
   ]
  },
  {
   "cell_type": "code",
   "execution_count": 119,
   "metadata": {},
   "outputs": [],
   "source": [
    "# Filter our irrelevant tables\n",
    "\n",
    "map1 = table_2000.keys().str.contains('^hhidpn|^brain_health|^total|^delayed|^immediate|^tics|^serial|^backwards|^g[1-3]', regex=True).tolist()\n",
    "df = table_2000.loc[:,map1]"
   ]
  },
  {
   "cell_type": "code",
   "execution_count": 120,
   "metadata": {},
   "outputs": [
    {
     "name": "stdout",
     "output_type": "stream",
     "text": [
      "<class 'pandas.core.frame.DataFrame'>\n",
      "Int64Index: 19579 entries, 0 to 19578\n",
      "Columns: 2612 entries, hhidpn to brain_health_3\n",
      "dtypes: float32(4), float64(2173), int16(7), int32(1), int64(8), int8(138), object(281)\n",
      "memory usage: 371.7+ MB\n"
     ]
    }
   ],
   "source": [
    "df.info()"
   ]
  },
  {
   "cell_type": "code",
   "execution_count": 121,
   "metadata": {
    "collapsed": true
   },
   "outputs": [],
   "source": [
    "df.to_csv(LOCAL_DIR + 'braindata/process_hrs2000.csv', index=False)\n",
    "df.to_pickle(LOCAL_DIR + 'braindata/process_hrs2000.pkl')"
   ]
  },
  {
   "cell_type": "code",
   "execution_count": 122,
   "metadata": {},
   "outputs": [
    {
     "data": {
      "text/plain": [
       "0    16498\n",
       "1     3081\n",
       "Name: brain_health_1, dtype: int64"
      ]
     },
     "execution_count": 122,
     "metadata": {},
     "output_type": "execute_result"
    }
   ],
   "source": [
    "df['brain_health_1'].value_counts()"
   ]
  },
  {
   "cell_type": "code",
   "execution_count": 123,
   "metadata": {},
   "outputs": [
    {
     "data": {
      "text/plain": [
       "0    13666\n",
       "2     3068\n",
       "1     2845\n",
       "Name: brain_health_2, dtype: int64"
      ]
     },
     "execution_count": 123,
     "metadata": {},
     "output_type": "execute_result"
    }
   ],
   "source": [
    "df['brain_health_2'].value_counts()"
   ]
  },
  {
   "cell_type": "code",
   "execution_count": 124,
   "metadata": {},
   "outputs": [
    {
     "data": {
      "text/plain": [
       "0    13666\n",
       "1     5913\n",
       "Name: brain_health_3, dtype: int64"
      ]
     },
     "execution_count": 124,
     "metadata": {},
     "output_type": "execute_result"
    }
   ],
   "source": [
    "df['brain_health_3'].value_counts()"
   ]
  },
  {
   "cell_type": "markdown",
   "metadata": {},
   "source": [
    "## G. Final Output\n",
    "\n",
    "*  `final_adams_and_hrs.csv` [1770 obs]\n",
    "\n",
    "* `final_adams_and_hrs_small.csv` [856 obs]\n",
    "\n",
    "* `processed_hrs2000.csv, processed_hrs2000.pkl` [Too large to save to git]\n",
    "\n",
    "* `in_adams (hhidpns in Adams), in_2000 (HRS2000), in_2002 (HRS2000), in_adams2 (HRS2002 in Adams)`\n"
   ]
  },
  {
   "cell_type": "code",
   "execution_count": null,
   "metadata": {},
   "outputs": [],
   "source": []
  }
 ],
 "metadata": {
  "kernelspec": {
   "display_name": "Python 3",
   "language": "python",
   "name": "python3"
  },
  "language_info": {
   "codemirror_mode": {
    "name": "ipython",
    "version": 3
   },
   "file_extension": ".py",
   "mimetype": "text/x-python",
   "name": "python",
   "nbconvert_exporter": "python",
   "pygments_lexer": "ipython3",
   "version": "3.6.5"
  }
 },
 "nbformat": 4,
 "nbformat_minor": 2
}
