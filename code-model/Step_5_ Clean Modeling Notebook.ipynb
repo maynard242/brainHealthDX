{
 "cells": [
  {
   "cell_type": "markdown",
   "metadata": {},
   "source": [
    "# 5. Final Model - Clean Notebook with Output for API\n",
    "\n",
    "## Introduction\n",
    "\n",
    "Final model and the scripts to transfer to API."
   ]
  },
  {
   "cell_type": "markdown",
   "metadata": {},
   "source": [
    "## Load libraries"
   ]
  },
  {
   "cell_type": "code",
   "execution_count": 35,
   "metadata": {},
   "outputs": [
    {
     "name": "stdout",
     "output_type": "stream",
     "text": [
      "The autoreload extension is already loaded. To reload it, use:\n",
      "  %reload_ext autoreload\n"
     ]
    }
   ],
   "source": [
    "# Set up\n",
    "\n",
    "import pandas as pd\n",
    "import numpy as np\n",
    "import scipy as sp\n",
    "\n",
    "import matplotlib\n",
    "import matplotlib.pyplot as plt\n",
    "\n",
    "import pickle as pkl\n",
    "import seaborn as sns\n",
    "\n",
    "import itertools\n",
    "import json\n",
    "\n",
    "from sklearn.model_selection import train_test_split\n",
    "from sklearn.model_selection import cross_val_score\n",
    "from sklearn.model_selection import cross_validate\n",
    "from sklearn.model_selection import cross_val_predict\n",
    "from sklearn.model_selection import validation_curve\n",
    "from sklearn.model_selection import learning_curve\n",
    "from sklearn.model_selection import GridSearchCV\n",
    "from sklearn.model_selection import RandomizedSearchCV\n",
    "from sklearn.model_selection import StratifiedKFold\n",
    "\n",
    "from sklearn.feature_selection import SelectKBest\n",
    "from sklearn.feature_selection import chi2\n",
    "from sklearn.feature_selection import mutual_info_classif\n",
    "from sklearn.feature_selection import RFECV\n",
    "\n",
    "from sklearn.preprocessing import StandardScaler\n",
    "from sklearn.preprocessing import scale\n",
    "from sklearn.preprocessing import Normalizer\n",
    "from sklearn.preprocessing import MinMaxScaler\n",
    "\n",
    "from sklearn.decomposition import PCA\n",
    "\n",
    "from sklearn.dummy import DummyClassifier\n",
    "from sklearn.cluster import KMeans\n",
    "\n",
    "from sklearn.pipeline import Pipeline\n",
    "from sklearn.pipeline import make_pipeline\n",
    "\n",
    "from sklearn.metrics import explained_variance_score\n",
    "from sklearn.metrics import mean_squared_error\n",
    "from sklearn.metrics import r2_score\n",
    "from sklearn.metrics import accuracy_score\n",
    "from sklearn.metrics import f1_score\n",
    "from sklearn.metrics import roc_curve\n",
    "from sklearn.metrics import confusion_matrix\n",
    "from sklearn.metrics import classification_report\n",
    "from sklearn.metrics import precision_recall_curve\n",
    "from sklearn.metrics import roc_auc_score\n",
    "\n",
    "from sklearn.mixture import GaussianMixture\n",
    "\n",
    "from sklearn import tree\n",
    "from sklearn import svm\n",
    "from sklearn import ensemble\n",
    "from sklearn import naive_bayes\n",
    "from sklearn import linear_model\n",
    "\n",
    "import xgboost as xgb\n",
    "\n",
    "from feature_selector import FeatureSelector\n",
    "\n",
    "%load_ext autoreload\n",
    "%autoreload 2\n",
    "%matplotlib inline\n",
    "\n",
    "LOCAL_DIR = '/home/jovyan/notebook/'"
   ]
  },
  {
   "cell_type": "code",
   "execution_count": 66,
   "metadata": {},
   "outputs": [],
   "source": [
    "# Load data\n",
    "df = pd.read_csv(LOCAL_DIR + 'brainFitDx/data/sample/sample_2000_for_model.csv')"
   ]
  },
  {
   "cell_type": "code",
   "execution_count": 37,
   "metadata": {},
   "outputs": [
    {
     "data": {
      "text/html": [
       "<div>\n",
       "<style scoped>\n",
       "    .dataframe tbody tr th:only-of-type {\n",
       "        vertical-align: middle;\n",
       "    }\n",
       "\n",
       "    .dataframe tbody tr th {\n",
       "        vertical-align: top;\n",
       "    }\n",
       "\n",
       "    .dataframe thead th {\n",
       "        text-align: right;\n",
       "    }\n",
       "</style>\n",
       "<table border=\"1\" class=\"dataframe\">\n",
       "  <thead>\n",
       "    <tr style=\"text-align: right;\">\n",
       "      <th></th>\n",
       "      <th>hhidpn</th>\n",
       "      <th>brain_health_1</th>\n",
       "      <th>brain_health_2</th>\n",
       "      <th>brain_health_3</th>\n",
       "      <th>total_cog</th>\n",
       "      <th>total_recall</th>\n",
       "      <th>serial7</th>\n",
       "      <th>tics</th>\n",
       "      <th>backwards_20</th>\n",
       "      <th>immediate_recall</th>\n",
       "      <th>...</th>\n",
       "      <th>g2918</th>\n",
       "      <th>g2940</th>\n",
       "      <th>g2995</th>\n",
       "      <th>g2996</th>\n",
       "      <th>g2999</th>\n",
       "      <th>g3002</th>\n",
       "      <th>g3060</th>\n",
       "      <th>adams</th>\n",
       "      <th>brain_health_diag2</th>\n",
       "      <th>kmeans</th>\n",
       "    </tr>\n",
       "  </thead>\n",
       "  <tbody>\n",
       "    <tr>\n",
       "      <th>0</th>\n",
       "      <td>2010</td>\n",
       "      <td>0</td>\n",
       "      <td>1</td>\n",
       "      <td>1</td>\n",
       "      <td>14.0</td>\n",
       "      <td>8</td>\n",
       "      <td>0</td>\n",
       "      <td>6.0</td>\n",
       "      <td>2</td>\n",
       "      <td>5</td>\n",
       "      <td>...</td>\n",
       "      <td>0</td>\n",
       "      <td>0.0</td>\n",
       "      <td>5</td>\n",
       "      <td>0.0</td>\n",
       "      <td>4.0</td>\n",
       "      <td>1</td>\n",
       "      <td>1.0</td>\n",
       "      <td>NaN</td>\n",
       "      <td>NaN</td>\n",
       "      <td>0</td>\n",
       "    </tr>\n",
       "    <tr>\n",
       "      <th>1</th>\n",
       "      <td>3010</td>\n",
       "      <td>0</td>\n",
       "      <td>0</td>\n",
       "      <td>0</td>\n",
       "      <td>24.0</td>\n",
       "      <td>20</td>\n",
       "      <td>4</td>\n",
       "      <td>0.0</td>\n",
       "      <td>2</td>\n",
       "      <td>10</td>\n",
       "      <td>...</td>\n",
       "      <td>0</td>\n",
       "      <td>0.0</td>\n",
       "      <td>1</td>\n",
       "      <td>200.0</td>\n",
       "      <td>2.0</td>\n",
       "      <td>1</td>\n",
       "      <td>2.0</td>\n",
       "      <td>NaN</td>\n",
       "      <td>NaN</td>\n",
       "      <td>0</td>\n",
       "    </tr>\n",
       "    <tr>\n",
       "      <th>2</th>\n",
       "      <td>3020</td>\n",
       "      <td>0</td>\n",
       "      <td>0</td>\n",
       "      <td>0</td>\n",
       "      <td>16.0</td>\n",
       "      <td>11</td>\n",
       "      <td>5</td>\n",
       "      <td>0.0</td>\n",
       "      <td>2</td>\n",
       "      <td>6</td>\n",
       "      <td>...</td>\n",
       "      <td>0</td>\n",
       "      <td>0.0</td>\n",
       "      <td>1</td>\n",
       "      <td>10.0</td>\n",
       "      <td>0.0</td>\n",
       "      <td>5</td>\n",
       "      <td>2.0</td>\n",
       "      <td>NaN</td>\n",
       "      <td>NaN</td>\n",
       "      <td>0</td>\n",
       "    </tr>\n",
       "    <tr>\n",
       "      <th>3</th>\n",
       "      <td>10001010</td>\n",
       "      <td>0</td>\n",
       "      <td>0</td>\n",
       "      <td>0</td>\n",
       "      <td>19.0</td>\n",
       "      <td>14</td>\n",
       "      <td>5</td>\n",
       "      <td>0.0</td>\n",
       "      <td>2</td>\n",
       "      <td>7</td>\n",
       "      <td>...</td>\n",
       "      <td>0</td>\n",
       "      <td>0.0</td>\n",
       "      <td>5</td>\n",
       "      <td>0.0</td>\n",
       "      <td>130.0</td>\n",
       "      <td>1</td>\n",
       "      <td>4.0</td>\n",
       "      <td>NaN</td>\n",
       "      <td>NaN</td>\n",
       "      <td>0</td>\n",
       "    </tr>\n",
       "    <tr>\n",
       "      <th>4</th>\n",
       "      <td>10003030</td>\n",
       "      <td>0</td>\n",
       "      <td>0</td>\n",
       "      <td>0</td>\n",
       "      <td>25.0</td>\n",
       "      <td>20</td>\n",
       "      <td>5</td>\n",
       "      <td>0.0</td>\n",
       "      <td>2</td>\n",
       "      <td>10</td>\n",
       "      <td>...</td>\n",
       "      <td>0</td>\n",
       "      <td>0.0</td>\n",
       "      <td>5</td>\n",
       "      <td>0.0</td>\n",
       "      <td>0.0</td>\n",
       "      <td>5</td>\n",
       "      <td>4.0</td>\n",
       "      <td>NaN</td>\n",
       "      <td>NaN</td>\n",
       "      <td>0</td>\n",
       "    </tr>\n",
       "  </tbody>\n",
       "</table>\n",
       "<p>5 rows × 234 columns</p>\n",
       "</div>"
      ],
      "text/plain": [
       "     hhidpn  brain_health_1  brain_health_2  brain_health_3  total_cog  \\\n",
       "0      2010               0               1               1       14.0   \n",
       "1      3010               0               0               0       24.0   \n",
       "2      3020               0               0               0       16.0   \n",
       "3  10001010               0               0               0       19.0   \n",
       "4  10003030               0               0               0       25.0   \n",
       "\n",
       "   total_recall  serial7  tics  backwards_20  immediate_recall   ...    g2918  \\\n",
       "0             8        0   6.0             2                 5   ...        0   \n",
       "1            20        4   0.0             2                10   ...        0   \n",
       "2            11        5   0.0             2                 6   ...        0   \n",
       "3            14        5   0.0             2                 7   ...        0   \n",
       "4            20        5   0.0             2                10   ...        0   \n",
       "\n",
       "   g2940  g2995  g2996  g2999  g3002  g3060  adams  brain_health_diag2  kmeans  \n",
       "0    0.0      5    0.0    4.0      1    1.0    NaN                 NaN       0  \n",
       "1    0.0      1  200.0    2.0      1    2.0    NaN                 NaN       0  \n",
       "2    0.0      1   10.0    0.0      5    2.0    NaN                 NaN       0  \n",
       "3    0.0      5    0.0  130.0      1    4.0    NaN                 NaN       0  \n",
       "4    0.0      5    0.0    0.0      5    4.0    NaN                 NaN       0  \n",
       "\n",
       "[5 rows x 234 columns]"
      ]
     },
     "execution_count": 37,
     "metadata": {},
     "output_type": "execute_result"
    }
   ],
   "source": [
    "df.head(5)"
   ]
  },
  {
   "cell_type": "code",
   "execution_count": 41,
   "metadata": {},
   "outputs": [],
   "source": [
    "# THESE ARE THE 'FINAL' FEATURES\n",
    "\n",
    "features2_1 = [\n",
    " 'total_recall',\n",
    " 'serial7',\n",
    " #'tics', removed\n",
    " 'backwards_20',\n",
    " 'immediate_recall',\n",
    " 'delayed_recall',\n",
    " 'g1101',\n",
    " 'g1074a',\n",
    " 'g1158',\n",
    " 'g1226',\n",
    " 'g1240',\n",
    " 'g1242',\n",
    " 'g1289',\n",
    " 'g1290',\n",
    " 'g1323',\n",
    " 'g1329',\n",
    " 'g1340',\n",
    " 'g1345',\n",
    " 'g1361',\n",
    " 'g1363',\n",
    " 'g1369',\n",
    " 'g1374',\n",
    " 'g1395',\n",
    " 'g1416',\n",
    " 'g1425',\n",
    " 'g1442',\n",
    " #'g1805',\n",
    " #'g1814_05',\n",
    " #'g1814', removed \n",
    " 'g2707',\n",
    " 'g2710',\n",
    " 'g2723',\n",
    " 'g2725',\n",
    " 'g2726',\n",
    " 'g2745',\n",
    " 'g2755',\n",
    " 'g2847',\n",
    " 'g2851',\n",
    " 'g2860',\n",
    " 'g2865',\n",
    " 'g2870',\n",
    " 'g2915',\n",
    " 'g2916',\n",
    " 'g2918',\n",
    " 'g2940',\n",
    " 'g3002',\n",
    " 'g1_trend_health'\n",
    "]"
   ]
  },
  {
   "cell_type": "code",
   "execution_count": 42,
   "metadata": {},
   "outputs": [],
   "source": [
    "# Corresponding feature names in web application\n",
    "\n",
    "new_names = ['23', '25', '1', '2', '3', '4',\n",
    "       '5', '6', '7', '8', '9', '10', '11', '12',\n",
    "       '13', '14', '15', '16', '17', '18', '19', '20',\n",
    "       '21', '26', '27', '28', '29', '30', '31',\n",
    "       '32', '33', '34', '35', '36', '37', '38', '39',\n",
    "       '40', '41', '42', '22', '24', 'total_recall'\n",
    "        ]"
   ]
  },
  {
   "cell_type": "markdown",
   "metadata": {},
   "source": [
    "## Calculate sample statistics for key inputs (health, cognitive, living)"
   ]
  },
  {
   "cell_type": "code",
   "execution_count": 46,
   "metadata": {},
   "outputs": [],
   "source": [
    "temp_df = df.loc[:,features2_1]"
   ]
  },
  {
   "cell_type": "code",
   "execution_count": 47,
   "metadata": {},
   "outputs": [],
   "source": [
    "# compute unweighted benchmarks for health domains\n",
    "\n",
    "# cognitive health\n",
    "def cognitive_health(d):\n",
    "    \"\"\"\n",
    "    Args:\n",
    "    d: df row\n",
    "    \n",
    "    Returns:\n",
    "    percentage \n",
    "    \n",
    "    \"\"\"\n",
    "    accuracy=(d['immediate_recall']+d['delayed_recall']+d['backwards_20']+d['serial7'])/27\n",
    "    return round(accuracy*100, 3)\n",
    "\n",
    "# physical health\n",
    "def physical_health(d):\n",
    "    \"\"\"\n",
    "    Args: \n",
    "    d: df row\n",
    "    \n",
    "    Returns:\n",
    "    percentage \n",
    "    \n",
    "    \"\"\"\n",
    "    # binary questions\n",
    "    binary_ques=['g1240', 'g1289', 'g1290', 'g1329', 'g1345', 'g1442']\n",
    "    binary_score=[d[b] for b in binary_ques].count(1)\n",
    "    if d['g1395']==5:\n",
    "        binary_score+=1\n",
    "        \n",
    "    # numeric questions\n",
    "    numeric_ques=['g1226', 'g1242', 'g1323', 'g1340', 'g1361', 'g1363', 'g1369', 'g1374', 'g1416', 'g1_trend_health']\n",
    "    numeric_score=sum([d[n] for n in numeric_ques])\n",
    "    \n",
    "    # final score\n",
    "    final_score=(binary_score+numeric_score)/72\n",
    "    return (round((1-final_score)*100, 3))\n",
    "\n",
    "# living health\n",
    "def living_health(d):\n",
    "    \"\"\"\n",
    "    Args: \n",
    "    d: df row \n",
    "    \n",
    "    Returns:\n",
    "    percentage\n",
    "    \n",
    "    \"\"\"\n",
    "    score=0\n",
    "    \n",
    "    # binary questions\n",
    "    binary_ques=['g2707', 'g2710', 'g2723', 'g2725', 'g2726', 'g2745', 'g2755', 'g2847', 'g2851', 'g2860', \n",
    "                 'g2865', 'g2870', 'g2915', 'g2916', 'g2918']\n",
    "    score+=[d[b] for b in binary_ques].count(1)\n",
    "    \n",
    "    # numeric questions\n",
    "    if d['g2940']>=1:\n",
    "        score+=1\n",
    "    if d['g3002']!=1:\n",
    "        score+=1\n",
    "        \n",
    "    # final score\n",
    "    final_score=score/17\n",
    "    return round((1-final_score)*100, 3)\n"
   ]
  },
  {
   "cell_type": "code",
   "execution_count": 48,
   "metadata": {},
   "outputs": [],
   "source": [
    "# create columns\n",
    "temp_df['cognitive_health']=temp_df.apply(cognitive_health, axis=1)\n",
    "temp_df['physical_health']=temp_df.apply(physical_health, axis=1)\n",
    "temp_df['living_health']=temp_df.apply(living_health, axis=1)"
   ]
  },
  {
   "cell_type": "code",
   "execution_count": 49,
   "metadata": {},
   "outputs": [
    {
     "data": {
      "text/plain": [
       "<matplotlib.axes._subplots.AxesSubplot at 0x7f8728462320>"
      ]
     },
     "execution_count": 49,
     "metadata": {},
     "output_type": "execute_result"
    },
    {
     "data": {
      "image/png": "[encoded data removed]",
      "text/plain": [
       "<Figure size 432x288 with 1 Axes>"
      ]
     },
     "metadata": {},
     "output_type": "display_data"
    }
   ],
   "source": [
    "temp_df['cognitive_health'].plot.hist()"
   ]
  },
  {
   "cell_type": "code",
   "execution_count": 50,
   "metadata": {},
   "outputs": [
    {
     "data": {
      "text/plain": [
       "<matplotlib.axes._subplots.AxesSubplot at 0x7f872842e400>"
      ]
     },
     "execution_count": 50,
     "metadata": {},
     "output_type": "execute_result"
    },
    {
     "data": {
      "image/png": "[encoded data removed]",
      "text/plain": [
       "<Figure size 432x288 with 1 Axes>"
      ]
     },
     "metadata": {},
     "output_type": "display_data"
    }
   ],
   "source": [
    "temp_df['physical_health'].plot.hist()"
   ]
  },
  {
   "cell_type": "code",
   "execution_count": 51,
   "metadata": {},
   "outputs": [
    {
     "data": {
      "text/plain": [
       "<matplotlib.axes._subplots.AxesSubplot at 0x7f8728325860>"
      ]
     },
     "execution_count": 51,
     "metadata": {},
     "output_type": "execute_result"
    },
    {
     "data": {
      "image/png": "[encoded data removed]",
      "text/plain": [
       "<Figure size 432x288 with 1 Axes>"
      ]
     },
     "metadata": {},
     "output_type": "display_data"
    }
   ],
   "source": [
    "temp_df['living_health'].plot.hist()"
   ]
  },
  {
   "cell_type": "code",
   "execution_count": 52,
   "metadata": {},
   "outputs": [],
   "source": [
    "temp_df = temp_df.loc[:,['g1101', 'physical_health', 'cognitive_health', 'living_health']]"
   ]
  },
  {
   "cell_type": "code",
   "execution_count": 53,
   "metadata": {},
   "outputs": [],
   "source": [
    "temp_df2 = temp_df.sort_values('g1101')\n",
    "bins = [0, 50, 60, 70, 80, 90, 100, 120]\n",
    "temp_df2['group'] = np.digitize(temp_df2['g1101'],bins)\n",
    "grouped = temp_df2.groupby('group')"
   ]
  },
  {
   "cell_type": "code",
   "execution_count": 54,
   "metadata": {},
   "outputs": [
    {
     "name": "stdout",
     "output_type": "stream",
     "text": [
      "        count       mean        std  min     25%     50%     75%      max\n",
      "group                                                                    \n",
      "1       574.0  58.536594  23.840681  0.0  51.852  62.963  74.074  100.000\n",
      "2      4645.0  57.982686  22.155720  0.0  48.148  62.963  74.074  100.000\n",
      "3      6860.0  53.448322  23.340632  0.0  44.444  59.259  70.370  100.000\n",
      "4      4639.0  46.427636  22.859118  0.0  33.333  51.852  62.963  100.000\n",
      "5      2437.0  35.008135  23.443938  0.0  14.815  37.037  51.852  100.000\n",
      "6       408.0  20.715333  20.317948  0.0   0.000  18.519  37.037   74.074\n",
      "7        16.0   3.009313   8.025980  0.0   0.000   0.000   0.000   29.630\n",
      "        count       mean       std     min     25%      50%     75%     max\n",
      "group                                                                      \n",
      "1       574.0  77.211573  7.164817  51.389  73.611  77.7780  81.944  91.667\n",
      "2      4645.0  75.762165  6.970710  47.222  70.833  76.3890  80.556  98.611\n",
      "3      6860.0  73.862977  7.299982  29.167  69.444  75.0000  79.167  91.667\n",
      "4      4639.0  72.340784  7.589318  25.000  68.056  73.6110  77.778  93.056\n",
      "5      2437.0  70.303881  7.836101  30.556  65.278  70.8330  76.389  94.444\n",
      "6       408.0  68.593419  8.183795  33.333  63.889  69.4440  75.000  86.111\n",
      "7        16.0  67.187562  9.445661  47.222  61.111  65.9725  76.389  80.556\n",
      "        count       mean        std     min     25%     50%       75%      max\n",
      "group                                                                         \n",
      "1       574.0  91.627448  14.099803  17.647  88.235  94.118  100.0000  100.000\n",
      "2      4645.0  90.906195  12.762770  11.765  88.235  94.118  100.0000  100.000\n",
      "3      6860.0  86.832514  14.039562   5.882  82.353  88.235   94.1180  100.000\n",
      "4      4639.0  80.625931  16.047592   5.882  76.471  88.235   88.2350  100.000\n",
      "5      2437.0  70.515858  22.600650   5.882  58.824  76.471   88.2350  100.000\n",
      "6       408.0  58.261270  25.957454  11.765  35.294  58.824   82.3530  100.000\n",
      "7        16.0  30.146937  18.709746  11.765  17.647  23.529   36.7645   88.235\n"
     ]
    }
   ],
   "source": [
    "for test in ['cognitive_health', 'physical_health', 'living_health']:\n",
    "    print( grouped[test].describe())"
   ]
  },
  {
   "cell_type": "code",
   "execution_count": 55,
   "metadata": {},
   "outputs": [],
   "source": [
    "for test in ['cognitive_health', 'physical_health', 'living_health']:\n",
    "    grouped[test].describe().to_csv(str(test)+'.csv')"
   ]
  },
  {
   "cell_type": "markdown",
   "metadata": {},
   "source": [
    "## Final Model"
   ]
  },
  {
   "cell_type": "code",
   "execution_count": 67,
   "metadata": {},
   "outputs": [
    {
     "name": "stdout",
     "output_type": "stream",
     "text": [
      "['backwards_20', 'delayed_recall', 'g1074a', 'g1101', 'g1158', 'g1226', 'g1240', 'g1242', 'g1289', 'g1290', 'g1323', 'g1329', 'g1340', 'g1345', 'g1361', 'g1363', 'g1369', 'g1374', 'g1395', 'g1416', 'g1425', 'g1442', 'g1_trend_health', 'g2707', 'g2710', 'g2723', 'g2725', 'g2726', 'g2745', 'g2755', 'g2847', 'g2851', 'g2860', 'g2865', 'g2870', 'g2915', 'g2916', 'g2918', 'g2940', 'g3002', 'immediate_recall', 'serial7', 'total_recall']\n",
      "43\n"
     ]
    }
   ],
   "source": [
    "# Features\n",
    "features2_1.sort()\n",
    "print(features2_1)\n",
    "print(len(features2_1))"
   ]
  },
  {
   "cell_type": "code",
   "execution_count": 68,
   "metadata": {},
   "outputs": [],
   "source": [
    "X = df.loc[:,features2_1]\n",
    "y = df['kmeans']"
   ]
  },
  {
   "cell_type": "code",
   "execution_count": 69,
   "metadata": {},
   "outputs": [],
   "source": [
    "X.rename(columns=dict(zip(features2_1, new_names)), inplace=True)"
   ]
  },
  {
   "cell_type": "code",
   "execution_count": 70,
   "metadata": {},
   "outputs": [],
   "source": [
    "X_train, X_test, y_train, y_test = train_test_split(X, y, test_size=0.1, random_state=42)\n",
    "X_train = pd.DataFrame(data=X_train, columns=new_names)\n",
    "X_test = pd.DataFrame(data=X_test, columns=new_names)\n"
   ]
  },
  {
   "cell_type": "code",
   "execution_count": 71,
   "metadata": {},
   "outputs": [
    {
     "name": "stdout",
     "output_type": "stream",
     "text": [
      "Classification report: \n",
      "             precision    recall  f1-score   support\n",
      "\n",
      "          0       0.98      0.99      0.99      1463\n",
      "          1       0.97      0.94      0.96       495\n",
      "\n",
      "avg / total       0.98      0.98      0.98      1958\n",
      "\n"
     ]
    },
    {
     "data": {
      "image/png": "[encoded data removed]",
      "text/plain": [
       "<Figure size 432x288 with 1 Axes>"
      ]
     },
     "metadata": {},
     "output_type": "display_data"
    }
   ],
   "source": [
    "# Estimate and examine model\n",
    "clf = xgb.XGBClassifier(objective='binary:logistic', gamma=0.5, min_child_weight=1, max_depth=3, learning_rate=0.3, seed=42)\n",
    "model = clf.fit(X_train,y_train)\n",
    "y_pred = model.predict(X_test)\n",
    "\n",
    "confusion = confusion_matrix(y_test, y_pred)\n",
    "sns.heatmap(pd.DataFrame(confusion), annot=True, cbar=None, cmap='Blues')\n",
    "print ('Classification report: \\n{}'.format(classification_report(y_test, y_pred)))\n"
   ]
  },
  {
   "cell_type": "markdown",
   "metadata": {},
   "source": [
    "## Saving Model"
   ]
  },
  {
   "cell_type": "code",
   "execution_count": 101,
   "metadata": {},
   "outputs": [],
   "source": [
    "X = df.loc[:,features2_1]\n",
    "y = df['kmeans']"
   ]
  },
  {
   "cell_type": "code",
   "execution_count": 102,
   "metadata": {},
   "outputs": [
    {
     "data": {
      "text/html": [
       "<div>\n",
       "<style scoped>\n",
       "    .dataframe tbody tr th:only-of-type {\n",
       "        vertical-align: middle;\n",
       "    }\n",
       "\n",
       "    .dataframe tbody tr th {\n",
       "        vertical-align: top;\n",
       "    }\n",
       "\n",
       "    .dataframe thead th {\n",
       "        text-align: right;\n",
       "    }\n",
       "</style>\n",
       "<table border=\"1\" class=\"dataframe\">\n",
       "  <thead>\n",
       "    <tr style=\"text-align: right;\">\n",
       "      <th></th>\n",
       "      <th>23</th>\n",
       "      <th>25</th>\n",
       "      <th>1</th>\n",
       "      <th>2</th>\n",
       "      <th>3</th>\n",
       "      <th>4</th>\n",
       "      <th>5</th>\n",
       "      <th>6</th>\n",
       "      <th>7</th>\n",
       "      <th>8</th>\n",
       "      <th>...</th>\n",
       "      <th>36</th>\n",
       "      <th>37</th>\n",
       "      <th>38</th>\n",
       "      <th>39</th>\n",
       "      <th>40</th>\n",
       "      <th>41</th>\n",
       "      <th>42</th>\n",
       "      <th>22</th>\n",
       "      <th>24</th>\n",
       "      <th>total_recall</th>\n",
       "    </tr>\n",
       "  </thead>\n",
       "  <tbody>\n",
       "    <tr>\n",
       "      <th>0</th>\n",
       "      <td>2</td>\n",
       "      <td>3</td>\n",
       "      <td>8</td>\n",
       "      <td>65</td>\n",
       "      <td>2</td>\n",
       "      <td>3</td>\n",
       "      <td>0</td>\n",
       "      <td>0</td>\n",
       "      <td>5</td>\n",
       "      <td>0</td>\n",
       "      <td>...</td>\n",
       "      <td>5</td>\n",
       "      <td>5</td>\n",
       "      <td>1</td>\n",
       "      <td>5</td>\n",
       "      <td>0</td>\n",
       "      <td>0.0</td>\n",
       "      <td>1</td>\n",
       "      <td>5</td>\n",
       "      <td>0</td>\n",
       "      <td>8</td>\n",
       "    </tr>\n",
       "    <tr>\n",
       "      <th>1</th>\n",
       "      <td>2</td>\n",
       "      <td>10</td>\n",
       "      <td>12</td>\n",
       "      <td>64</td>\n",
       "      <td>1</td>\n",
       "      <td>4</td>\n",
       "      <td>0</td>\n",
       "      <td>0</td>\n",
       "      <td>1</td>\n",
       "      <td>1</td>\n",
       "      <td>...</td>\n",
       "      <td>5</td>\n",
       "      <td>5</td>\n",
       "      <td>5</td>\n",
       "      <td>5</td>\n",
       "      <td>0</td>\n",
       "      <td>0.0</td>\n",
       "      <td>1</td>\n",
       "      <td>10</td>\n",
       "      <td>4</td>\n",
       "      <td>20</td>\n",
       "    </tr>\n",
       "  </tbody>\n",
       "</table>\n",
       "<p>2 rows × 43 columns</p>\n",
       "</div>"
      ],
      "text/plain": [
       "   23  25   1   2  3  4  5  6  7  8      ...       36  37  38  39  40   41  \\\n",
       "0   2   3   8  65  2  3  0  0  5  0      ...        5   5   1   5   0  0.0   \n",
       "1   2  10  12  64  1  4  0  0  1  1      ...        5   5   5   5   0  0.0   \n",
       "\n",
       "   42  22  24  total_recall  \n",
       "0   1   5   0             8  \n",
       "1   1  10   4            20  \n",
       "\n",
       "[2 rows x 43 columns]"
      ]
     },
     "execution_count": 102,
     "metadata": {},
     "output_type": "execute_result"
    }
   ],
   "source": [
    "X.rename(columns=dict(zip(features2_1, new_names)), inplace=True)\n",
    "X.head(2)"
   ]
  },
  {
   "cell_type": "code",
   "execution_count": 103,
   "metadata": {},
   "outputs": [],
   "source": [
    "X_train, X_test, y_train, y_test = train_test_split(X, y, test_size=0.1, random_state=42)\n",
    "X_train = pd.DataFrame(data=X_train, columns=new_names)\n",
    "X_test = pd.DataFrame(data=X_test, columns=new_names)"
   ]
  },
  {
   "cell_type": "code",
   "execution_count": 104,
   "metadata": {},
   "outputs": [],
   "source": [
    "# Save the model\n",
    "train_data = xgb.DMatrix(X_train, y_train)\n",
    "param = {'max_depth':3, 'eta':0.3, 'silent':1, 'gamma':0.5, 'min_child_weight':1, 'seed':42, 'objective':'binary:logistic'}\n",
    "num_round = 100\n",
    "model = xgb.train(param, train_data, num_round)\n",
    "\n",
    "pkl.dump(model, open('xgb_model.pkl','wb'), protocol=2)"
   ]
  },
  {
   "cell_type": "code",
   "execution_count": 105,
   "metadata": {},
   "outputs": [],
   "source": [
    "# Load model\n",
    "xgb_model = pkl.load(open('xgb_model.pkl','rb'))"
   ]
  },
  {
   "cell_type": "code",
   "execution_count": 106,
   "metadata": {},
   "outputs": [
    {
     "data": {
      "text/plain": [
       "<matplotlib.axes._subplots.AxesSubplot at 0x7f8774cc8240>"
      ]
     },
     "execution_count": 106,
     "metadata": {},
     "output_type": "execute_result"
    },
    {
     "data": {
      "image/png": "[encoded data removed]",
      "text/plain": [
       "<Figure size 432x288 with 1 Axes>"
      ]
     },
     "metadata": {},
     "output_type": "display_data"
    }
   ],
   "source": [
    "xgb.plot_importance(xgb_model)"
   ]
  },
  {
   "cell_type": "code",
   "execution_count": 107,
   "metadata": {},
   "outputs": [],
   "source": [
    "# Save to file test data\n",
    "X_test2 = X_test.iloc[1:2,:]\n",
    "#X_test.to_csv('testinput.csv', index=False)\n",
    "X_test2.to_json('testinput.json',orient='records')"
   ]
  },
  {
   "cell_type": "code",
   "execution_count": 108,
   "metadata": {},
   "outputs": [
    {
     "data": {
      "text/html": [
       "<div>\n",
       "<style scoped>\n",
       "    .dataframe tbody tr th:only-of-type {\n",
       "        vertical-align: middle;\n",
       "    }\n",
       "\n",
       "    .dataframe tbody tr th {\n",
       "        vertical-align: top;\n",
       "    }\n",
       "\n",
       "    .dataframe thead th {\n",
       "        text-align: right;\n",
       "    }\n",
       "</style>\n",
       "<table border=\"1\" class=\"dataframe\">\n",
       "  <thead>\n",
       "    <tr style=\"text-align: right;\">\n",
       "      <th></th>\n",
       "      <th>23</th>\n",
       "      <th>25</th>\n",
       "      <th>1</th>\n",
       "      <th>2</th>\n",
       "      <th>3</th>\n",
       "      <th>4</th>\n",
       "      <th>5</th>\n",
       "      <th>6</th>\n",
       "      <th>7</th>\n",
       "      <th>8</th>\n",
       "      <th>...</th>\n",
       "      <th>36</th>\n",
       "      <th>37</th>\n",
       "      <th>38</th>\n",
       "      <th>39</th>\n",
       "      <th>40</th>\n",
       "      <th>41</th>\n",
       "      <th>42</th>\n",
       "      <th>22</th>\n",
       "      <th>24</th>\n",
       "      <th>total_recall</th>\n",
       "    </tr>\n",
       "  </thead>\n",
       "  <tbody>\n",
       "    <tr>\n",
       "      <th>4881</th>\n",
       "      <td>2</td>\n",
       "      <td>3</td>\n",
       "      <td>10</td>\n",
       "      <td>60</td>\n",
       "      <td>1</td>\n",
       "      <td>3</td>\n",
       "      <td>0</td>\n",
       "      <td>0</td>\n",
       "      <td>5</td>\n",
       "      <td>0</td>\n",
       "      <td>...</td>\n",
       "      <td>5</td>\n",
       "      <td>5</td>\n",
       "      <td>1</td>\n",
       "      <td>5</td>\n",
       "      <td>0</td>\n",
       "      <td>0.0</td>\n",
       "      <td>1</td>\n",
       "      <td>4</td>\n",
       "      <td>3</td>\n",
       "      <td>7</td>\n",
       "    </tr>\n",
       "  </tbody>\n",
       "</table>\n",
       "<p>1 rows × 43 columns</p>\n",
       "</div>"
      ],
      "text/plain": [
       "      23  25   1   2  3  4  5  6  7  8      ...       36  37  38  39  40   41  \\\n",
       "4881   2   3  10  60  1  3  0  0  5  0      ...        5   5   1   5   0  0.0   \n",
       "\n",
       "      42  22  24  total_recall  \n",
       "4881   1   4   3             7  \n",
       "\n",
       "[1 rows x 43 columns]"
      ]
     },
     "execution_count": 108,
     "metadata": {},
     "output_type": "execute_result"
    }
   ],
   "source": [
    "X_test2"
   ]
  },
  {
   "cell_type": "code",
   "execution_count": 80,
   "metadata": {},
   "outputs": [],
   "source": [
    "with open('testinput.json') as json_file:  \n",
    "    json_df = json.load(json_file)"
   ]
  },
  {
   "cell_type": "code",
   "execution_count": 81,
   "metadata": {},
   "outputs": [
    {
     "data": {
      "text/plain": [
       "'[{\"23\": 2, \"25\": 3, \"1\": 10, \"2\": 60, \"3\": 1, \"4\": 3, \"5\": 0, \"6\": 0, \"7\": 5, \"8\": 0, \"9\": 0, \"10\": 5, \"11\": 0.0, \"12\": 0, \"13\": 3, \"14\": 3, \"15\": 2, \"16\": 0, \"17\": 5, \"18\": 0.0, \"19\": 180, \"20\": 5, \"21\": 0, \"26\": 5, \"27\": 5, \"28\": 5, \"29\": 5, \"30\": 5, \"31\": 0, \"32\": 0, \"33\": 0, \"34\": 5, \"35\": 1, \"36\": 5, \"37\": 5, \"38\": 1, \"39\": 5, \"40\": 0, \"41\": 0.0, \"42\": 1, \"22\": 4, \"24\": 3, \"total_recall\": 7}]'"
      ]
     },
     "execution_count": 81,
     "metadata": {},
     "output_type": "execute_result"
    }
   ],
   "source": [
    "json.dumps(json_df)"
   ]
  },
  {
   "cell_type": "code",
   "execution_count": 82,
   "metadata": {},
   "outputs": [],
   "source": [
    "load_df2 = pd.DataFrame(json_df)"
   ]
  },
  {
   "cell_type": "code",
   "execution_count": 83,
   "metadata": {},
   "outputs": [
    {
     "data": {
      "text/html": [
       "<div>\n",
       "<style scoped>\n",
       "    .dataframe tbody tr th:only-of-type {\n",
       "        vertical-align: middle;\n",
       "    }\n",
       "\n",
       "    .dataframe tbody tr th {\n",
       "        vertical-align: top;\n",
       "    }\n",
       "\n",
       "    .dataframe thead th {\n",
       "        text-align: right;\n",
       "    }\n",
       "</style>\n",
       "<table border=\"1\" class=\"dataframe\">\n",
       "  <thead>\n",
       "    <tr style=\"text-align: right;\">\n",
       "      <th></th>\n",
       "      <th>1</th>\n",
       "      <th>10</th>\n",
       "      <th>11</th>\n",
       "      <th>12</th>\n",
       "      <th>13</th>\n",
       "      <th>14</th>\n",
       "      <th>15</th>\n",
       "      <th>16</th>\n",
       "      <th>17</th>\n",
       "      <th>18</th>\n",
       "      <th>...</th>\n",
       "      <th>4</th>\n",
       "      <th>40</th>\n",
       "      <th>41</th>\n",
       "      <th>42</th>\n",
       "      <th>5</th>\n",
       "      <th>6</th>\n",
       "      <th>7</th>\n",
       "      <th>8</th>\n",
       "      <th>9</th>\n",
       "      <th>total_recall</th>\n",
       "    </tr>\n",
       "  </thead>\n",
       "  <tbody>\n",
       "    <tr>\n",
       "      <th>0</th>\n",
       "      <td>10</td>\n",
       "      <td>5</td>\n",
       "      <td>0.0</td>\n",
       "      <td>0</td>\n",
       "      <td>3</td>\n",
       "      <td>3</td>\n",
       "      <td>2</td>\n",
       "      <td>0</td>\n",
       "      <td>5</td>\n",
       "      <td>0.0</td>\n",
       "      <td>...</td>\n",
       "      <td>3</td>\n",
       "      <td>0</td>\n",
       "      <td>0.0</td>\n",
       "      <td>1</td>\n",
       "      <td>0</td>\n",
       "      <td>0</td>\n",
       "      <td>5</td>\n",
       "      <td>0</td>\n",
       "      <td>0</td>\n",
       "      <td>7</td>\n",
       "    </tr>\n",
       "  </tbody>\n",
       "</table>\n",
       "<p>1 rows × 43 columns</p>\n",
       "</div>"
      ],
      "text/plain": [
       "    1  10   11  12  13  14  15  16  17   18      ...       4  40   41  42  5  \\\n",
       "0  10   5  0.0   0   3   3   2   0   5  0.0      ...       3   0  0.0   1  0   \n",
       "\n",
       "   6  7  8  9  total_recall  \n",
       "0  0  5  0  0             7  \n",
       "\n",
       "[1 rows x 43 columns]"
      ]
     },
     "execution_count": 83,
     "metadata": {},
     "output_type": "execute_result"
    }
   ],
   "source": [
    "load_df2"
   ]
  },
  {
   "cell_type": "code",
   "execution_count": 84,
   "metadata": {},
   "outputs": [],
   "source": [
    "load_df = pd.read_json('testinput.json')\n",
    "load_dfc = pd.read_csv('cognitive_health.csv')\n",
    "load_dfp = pd.read_csv('physical_health.csv')\n",
    "load_dfl = pd.read_csv('living_health.csv')"
   ]
  },
  {
   "cell_type": "code",
   "execution_count": 85,
   "metadata": {},
   "outputs": [
    {
     "data": {
      "text/html": [
       "<div>\n",
       "<style scoped>\n",
       "    .dataframe tbody tr th:only-of-type {\n",
       "        vertical-align: middle;\n",
       "    }\n",
       "\n",
       "    .dataframe tbody tr th {\n",
       "        vertical-align: top;\n",
       "    }\n",
       "\n",
       "    .dataframe thead th {\n",
       "        text-align: right;\n",
       "    }\n",
       "</style>\n",
       "<table border=\"1\" class=\"dataframe\">\n",
       "  <thead>\n",
       "    <tr style=\"text-align: right;\">\n",
       "      <th></th>\n",
       "      <th>group</th>\n",
       "      <th>count</th>\n",
       "      <th>mean</th>\n",
       "      <th>std</th>\n",
       "      <th>min</th>\n",
       "      <th>25%</th>\n",
       "      <th>50%</th>\n",
       "      <th>75%</th>\n",
       "      <th>max</th>\n",
       "    </tr>\n",
       "  </thead>\n",
       "  <tbody>\n",
       "    <tr>\n",
       "      <th>0</th>\n",
       "      <td>1</td>\n",
       "      <td>574.0</td>\n",
       "      <td>58.536594</td>\n",
       "      <td>23.840681</td>\n",
       "      <td>0.0</td>\n",
       "      <td>51.852</td>\n",
       "      <td>62.963</td>\n",
       "      <td>74.074</td>\n",
       "      <td>100.000</td>\n",
       "    </tr>\n",
       "    <tr>\n",
       "      <th>1</th>\n",
       "      <td>2</td>\n",
       "      <td>4645.0</td>\n",
       "      <td>57.982686</td>\n",
       "      <td>22.155720</td>\n",
       "      <td>0.0</td>\n",
       "      <td>48.148</td>\n",
       "      <td>62.963</td>\n",
       "      <td>74.074</td>\n",
       "      <td>100.000</td>\n",
       "    </tr>\n",
       "    <tr>\n",
       "      <th>2</th>\n",
       "      <td>3</td>\n",
       "      <td>6860.0</td>\n",
       "      <td>53.448322</td>\n",
       "      <td>23.340632</td>\n",
       "      <td>0.0</td>\n",
       "      <td>44.444</td>\n",
       "      <td>59.259</td>\n",
       "      <td>70.370</td>\n",
       "      <td>100.000</td>\n",
       "    </tr>\n",
       "    <tr>\n",
       "      <th>3</th>\n",
       "      <td>4</td>\n",
       "      <td>4639.0</td>\n",
       "      <td>46.427636</td>\n",
       "      <td>22.859118</td>\n",
       "      <td>0.0</td>\n",
       "      <td>33.333</td>\n",
       "      <td>51.852</td>\n",
       "      <td>62.963</td>\n",
       "      <td>100.000</td>\n",
       "    </tr>\n",
       "    <tr>\n",
       "      <th>4</th>\n",
       "      <td>5</td>\n",
       "      <td>2437.0</td>\n",
       "      <td>35.008135</td>\n",
       "      <td>23.443938</td>\n",
       "      <td>0.0</td>\n",
       "      <td>14.815</td>\n",
       "      <td>37.037</td>\n",
       "      <td>51.852</td>\n",
       "      <td>100.000</td>\n",
       "    </tr>\n",
       "    <tr>\n",
       "      <th>5</th>\n",
       "      <td>6</td>\n",
       "      <td>408.0</td>\n",
       "      <td>20.715333</td>\n",
       "      <td>20.317948</td>\n",
       "      <td>0.0</td>\n",
       "      <td>0.000</td>\n",
       "      <td>18.519</td>\n",
       "      <td>37.037</td>\n",
       "      <td>74.074</td>\n",
       "    </tr>\n",
       "    <tr>\n",
       "      <th>6</th>\n",
       "      <td>7</td>\n",
       "      <td>16.0</td>\n",
       "      <td>3.009313</td>\n",
       "      <td>8.025980</td>\n",
       "      <td>0.0</td>\n",
       "      <td>0.000</td>\n",
       "      <td>0.000</td>\n",
       "      <td>0.000</td>\n",
       "      <td>29.630</td>\n",
       "    </tr>\n",
       "  </tbody>\n",
       "</table>\n",
       "</div>"
      ],
      "text/plain": [
       "   group   count       mean        std  min     25%     50%     75%      max\n",
       "0      1   574.0  58.536594  23.840681  0.0  51.852  62.963  74.074  100.000\n",
       "1      2  4645.0  57.982686  22.155720  0.0  48.148  62.963  74.074  100.000\n",
       "2      3  6860.0  53.448322  23.340632  0.0  44.444  59.259  70.370  100.000\n",
       "3      4  4639.0  46.427636  22.859118  0.0  33.333  51.852  62.963  100.000\n",
       "4      5  2437.0  35.008135  23.443938  0.0  14.815  37.037  51.852  100.000\n",
       "5      6   408.0  20.715333  20.317948  0.0   0.000  18.519  37.037   74.074\n",
       "6      7    16.0   3.009313   8.025980  0.0   0.000   0.000   0.000   29.630"
      ]
     },
     "execution_count": 85,
     "metadata": {},
     "output_type": "execute_result"
    }
   ],
   "source": [
    "load_dfc"
   ]
  },
  {
   "cell_type": "code",
   "execution_count": 86,
   "metadata": {},
   "outputs": [],
   "source": [
    "load_df = load_df2.loc[:,new_names]"
   ]
  },
  {
   "cell_type": "code",
   "execution_count": 87,
   "metadata": {},
   "outputs": [],
   "source": [
    "temp = load_df.columns.tolist()\n",
    "temp_df = pd.DataFrame(temp)\n",
    "temp_df.to_csv('finalfeatures.csv', header=False, index=False)"
   ]
  },
  {
   "cell_type": "code",
   "execution_count": 88,
   "metadata": {},
   "outputs": [
    {
     "data": {
      "text/html": [
       "<div>\n",
       "<style scoped>\n",
       "    .dataframe tbody tr th:only-of-type {\n",
       "        vertical-align: middle;\n",
       "    }\n",
       "\n",
       "    .dataframe tbody tr th {\n",
       "        vertical-align: top;\n",
       "    }\n",
       "\n",
       "    .dataframe thead th {\n",
       "        text-align: right;\n",
       "    }\n",
       "</style>\n",
       "<table border=\"1\" class=\"dataframe\">\n",
       "  <thead>\n",
       "    <tr style=\"text-align: right;\">\n",
       "      <th></th>\n",
       "      <th>23</th>\n",
       "      <th>25</th>\n",
       "      <th>1</th>\n",
       "      <th>2</th>\n",
       "      <th>3</th>\n",
       "      <th>4</th>\n",
       "      <th>5</th>\n",
       "      <th>6</th>\n",
       "      <th>7</th>\n",
       "      <th>8</th>\n",
       "      <th>...</th>\n",
       "      <th>36</th>\n",
       "      <th>37</th>\n",
       "      <th>38</th>\n",
       "      <th>39</th>\n",
       "      <th>40</th>\n",
       "      <th>41</th>\n",
       "      <th>42</th>\n",
       "      <th>22</th>\n",
       "      <th>24</th>\n",
       "      <th>total_recall</th>\n",
       "    </tr>\n",
       "  </thead>\n",
       "  <tbody>\n",
       "    <tr>\n",
       "      <th>0</th>\n",
       "      <td>2</td>\n",
       "      <td>3</td>\n",
       "      <td>10</td>\n",
       "      <td>60</td>\n",
       "      <td>1</td>\n",
       "      <td>3</td>\n",
       "      <td>0</td>\n",
       "      <td>0</td>\n",
       "      <td>5</td>\n",
       "      <td>0</td>\n",
       "      <td>...</td>\n",
       "      <td>5</td>\n",
       "      <td>5</td>\n",
       "      <td>1</td>\n",
       "      <td>5</td>\n",
       "      <td>0</td>\n",
       "      <td>0.0</td>\n",
       "      <td>1</td>\n",
       "      <td>4</td>\n",
       "      <td>3</td>\n",
       "      <td>7</td>\n",
       "    </tr>\n",
       "  </tbody>\n",
       "</table>\n",
       "<p>1 rows × 43 columns</p>\n",
       "</div>"
      ],
      "text/plain": [
       "   23  25   1   2  3  4  5  6  7  8      ...       36  37  38  39  40   41  \\\n",
       "0   2   3  10  60  1  3  0  0  5  0      ...        5   5   1   5   0  0.0   \n",
       "\n",
       "   42  22  24  total_recall  \n",
       "0   1   4   3             7  \n",
       "\n",
       "[1 rows x 43 columns]"
      ]
     },
     "execution_count": 88,
     "metadata": {},
     "output_type": "execute_result"
    }
   ],
   "source": [
    "load_df.head(4)"
   ]
  },
  {
   "cell_type": "code",
   "execution_count": 92,
   "metadata": {},
   "outputs": [],
   "source": [
    "# Do prediction\n",
    "load_data_matrix = xgb.DMatrix(load_df)"
   ]
  },
  {
   "cell_type": "code",
   "execution_count": 97,
   "metadata": {},
   "outputs": [
    {
     "name": "stdout",
     "output_type": "stream",
     "text": [
      "[ 0.02390789]\n"
     ]
    }
   ],
   "source": [
    "# Predict\n",
    "preds = xgb_model.predict(load_data_matrix)\n",
    "print(preds)"
   ]
  },
  {
   "cell_type": "code",
   "execution_count": 109,
   "metadata": {},
   "outputs": [
    {
     "name": "stderr",
     "output_type": "stream",
     "text": [
      "/opt/conda/lib/python3.6/site-packages/matplotlib/axes/_axes.py:6462: UserWarning: The 'normed' kwarg is deprecated, and has been replaced by the 'density' kwarg.\n",
      "  warnings.warn(\"The 'normed' kwarg is deprecated, and has been \"\n"
     ]
    },
    {
     "data": {
      "text/plain": [
       "<matplotlib.axes._subplots.AxesSubplot at 0x7f8725f2a940>"
      ]
     },
     "execution_count": 109,
     "metadata": {},
     "output_type": "execute_result"
    },
    {
     "data": {
      "image/png": "[encoded data removed]",
      "text/plain": [
       "<Figure size 432x288 with 1 Axes>"
      ]
     },
     "metadata": {},
     "output_type": "display_data"
    }
   ],
   "source": [
    "preds = xgb_model.predict(xgb.DMatrix(X_test))\n",
    "sns.distplot(preds)"
   ]
  },
  {
   "cell_type": "code",
   "execution_count": 95,
   "metadata": {},
   "outputs": [
    {
     "name": "stdout",
     "output_type": "stream",
     "text": [
      "Overwriting xgb_model.py\n"
     ]
    }
   ],
   "source": [
    "%%writefile xgb_model.py\n",
    "# Program to load model and predict class\n",
    "# Input: xgb_model.py %1 where %1 is a csv file of features\n",
    "# Output: array of predictions\n",
    "\n",
    "import os\n",
    "import sys\n",
    "import xgboost as xgb\n",
    "import pandas as pd\n",
    "import json\n",
    "import pickle as pkl\n",
    "\n",
    "# Load model\n",
    "xgb_model = pkl.load(open('xgb_model.pkl','rb'))\n",
    "\n",
    "# Read csv file\n",
    "inputcvs = pd.read_json(str(sys.argv[1]))\n",
    "\n",
    "json_2_df = inputcvs.loc[:,['23', '25', '1', '2', '3', '4',\n",
    "       '5', '6', '7', '8', '9', '10', '11', '12',\n",
    "       '13', '14', '15', '16', '17', '18', '19', '20',\n",
    "       '21', '26', '27', '28', '29', '30', '31',\n",
    "       '32', '33', '34', '35', '36', '37', '38', '39',\n",
    "       '40', '41', '42', '22', '24', 'total_recall'\n",
    "        ]]\n",
    "                       \n",
    "# Process data\n",
    "load_data_matrix = xgb.DMatrix(json_2_df)\n",
    "print(xgb_model.predict(load_data_matrix))                       \n",
    "                       \n",
    "                                     "
   ]
  },
  {
   "cell_type": "code",
   "execution_count": 96,
   "metadata": {},
   "outputs": [
    {
     "name": "stdout",
     "output_type": "stream",
     "text": [
      "[ 0.02390789]\n"
     ]
    }
   ],
   "source": [
    "!python xgb_model.py testinput.json"
   ]
  },
  {
   "cell_type": "code",
   "execution_count": null,
   "metadata": {},
   "outputs": [],
   "source": [
    "pred"
   ]
  },
  {
   "cell_type": "markdown",
   "metadata": {},
   "source": [
    "## To write the model.py "
   ]
  },
  {
   "cell_type": "code",
   "execution_count": 110,
   "metadata": {},
   "outputs": [],
   "source": [
    "xgb_model = pkl.load(open('xgb_model.pkl','rb'))"
   ]
  },
  {
   "cell_type": "code",
   "execution_count": 113,
   "metadata": {},
   "outputs": [],
   "source": [
    "data_json = pd.read_json('testinput.json')"
   ]
  },
  {
   "cell_type": "code",
   "execution_count": 114,
   "metadata": {},
   "outputs": [],
   "source": [
    "data = {\"1\":17,\"2\":70,\"3\":1,\"4\":1,\"5\":5,\"6\":3,\"7\":5,\"8\":5,\"9\":3,\"10\":5,\"11\":0,\"12\":5,\"13\":2,\"14\":2,\"15\":2,\"16\":3,\"17\":1,\"18\":3,\"19\":180,\"20\":5,\"21\":1,\"22\":[10,6],\"23\":1,\"ts1\":1532850133053,\"24\":[46,39,32,25,18],\"ts2\":1532850156469,\"25\":[10,6],\"26\":1,\"27\":5,\"28\":7,\"29\":6,\"30\":1,\"31\":5,\"32\":1,\"33\":1,\"34\":5,\"35\":5,\"36\":5,\"37\":1,\"38\":5,\"39\":5,\"40\":5,\"41\":1,\"42\":1}"
   ]
  },
  {
   "cell_type": "code",
   "execution_count": 115,
   "metadata": {},
   "outputs": [],
   "source": [
    "data['22'] = data['22'][0]\n",
    "data['25'] = data['25'][0]"
   ]
  },
  {
   "cell_type": "code",
   "execution_count": 116,
   "metadata": {},
   "outputs": [],
   "source": [
    "temp = 0\n",
    "for i in range(5):\n",
    "    if data['24'][i] == (100-47-7-i*7):\n",
    "        temp += 1\n",
    "\n",
    "data['24'] = temp"
   ]
  },
  {
   "cell_type": "code",
   "execution_count": 117,
   "metadata": {},
   "outputs": [],
   "source": [
    "data['total_recall'] = data['22'] + data['25']"
   ]
  },
  {
   "cell_type": "code",
   "execution_count": 120,
   "metadata": {},
   "outputs": [
    {
     "data": {
      "text/plain": [
       "{'1': 17,\n",
       " '2': 70,\n",
       " '3': 1,\n",
       " '4': 1,\n",
       " '5': 5,\n",
       " '6': 3,\n",
       " '7': 5,\n",
       " '8': 5,\n",
       " '9': 3,\n",
       " '10': 5,\n",
       " '11': 0,\n",
       " '12': 5,\n",
       " '13': 2,\n",
       " '14': 2,\n",
       " '15': 2,\n",
       " '16': 3,\n",
       " '17': 1,\n",
       " '18': 3,\n",
       " '19': 180,\n",
       " '20': 5,\n",
       " '21': 1,\n",
       " '22': 10,\n",
       " '23': 1,\n",
       " 'ts1': 1532850133053,\n",
       " '24': 5,\n",
       " 'ts2': 1532850156469,\n",
       " '25': 10,\n",
       " '26': 1,\n",
       " '27': 5,\n",
       " '28': 7,\n",
       " '29': 6,\n",
       " '30': 1,\n",
       " '31': 5,\n",
       " '32': 1,\n",
       " '33': 1,\n",
       " '34': 5,\n",
       " '35': 5,\n",
       " '36': 5,\n",
       " '37': 1,\n",
       " '38': 5,\n",
       " '39': 5,\n",
       " '40': 5,\n",
       " '41': 1,\n",
       " '42': 1,\n",
       " 'total_recall': 20}"
      ]
     },
     "execution_count": 120,
     "metadata": {},
     "output_type": "execute_result"
    }
   ],
   "source": [
    "data"
   ]
  },
  {
   "cell_type": "code",
   "execution_count": 125,
   "metadata": {},
   "outputs": [
    {
     "data": {
      "text/plain": [
       "array([[ 10,   5,   0,   0,   3,   3,   2,   0,   5,   0, 180,  60,   5,\n",
       "          0,   4,   2,   3,   3,   5,   5,   5,   5,   1,   5,   0,   0,\n",
       "          0,   5,   1,   5,   5,   1,   5,   3,   0,   0,   1,   0,   0,\n",
       "          5,   0,   0,   7]])"
      ]
     },
     "execution_count": 125,
     "metadata": {},
     "output_type": "execute_result"
    }
   ],
   "source": [
    "data_json.values"
   ]
  },
  {
   "cell_type": "code",
   "execution_count": 126,
   "metadata": {},
   "outputs": [],
   "source": [
    "# compute user performance metrics\n",
    "\n",
    "# cognitive health \n",
    "def compute_cog(d):\n",
    "    \"\"\"\n",
    "    Args: \n",
    "    d: dict\n",
    "    \n",
    "    Returns:\n",
    "    percentage\n",
    "    \n",
    "    \"\"\"\n",
    "    accuracy=(d['22']+d['25']+d['23']+d['24'])/27\n",
    "    return round(accuracy*100, 3)\n",
    "\n",
    "# physical health\n",
    "def compute_physical(d):\n",
    "    \"\"\"\n",
    "    Args: \n",
    "    d: dic\n",
    "    \n",
    "    Returns:\n",
    "    percentage \n",
    "    \n",
    "    \"\"\"\n",
    "    # binary questions\n",
    "    binary_ques=[5, 7, 8, 10, 12, 20]\n",
    "    binary_score=[d[str(b)] for b in binary_ques].count(1)\n",
    "    if d['17']==5:\n",
    "        binary_score+=1\n",
    "        \n",
    "    # numeric questions\n",
    "    numeric_ques=[4, 6, 9, 11, 13, 14, 15, 16, 18, 21]\n",
    "    numeric_score=sum([d[str(n)] for n in numeric_ques])\n",
    "    \n",
    "    # final score\n",
    "    final_score=(binary_score+numeric_score)/72\n",
    "    return (round((1-final_score)*100, 3))\n",
    "\n",
    "# living health\n",
    "def compute_living(d):\n",
    "    \"\"\"\n",
    "    Args: \n",
    "    d: dict\n",
    "    \n",
    "    Returns:\n",
    "    percentage\n",
    "    \n",
    "    \"\"\"\n",
    "    score=0\n",
    "    score+=[d[str(k)] for k in range(26,41)].count(1)\n",
    "    if d['41']>=1:\n",
    "        score+=1\n",
    "    if d['42']!=1:\n",
    "        score+=1\n",
    "    final_score=score/17\n",
    "    return round((1-final_score)*100, 3)\n"
   ]
  },
  {
   "cell_type": "code",
   "execution_count": 127,
   "metadata": {},
   "outputs": [],
   "source": [
    "cog_score = compute_cog(data)\n",
    "phy_score = compute_physical(data)\n",
    "liv_score = compute_living(data)"
   ]
  },
  {
   "cell_type": "code",
   "execution_count": 140,
   "metadata": {},
   "outputs": [],
   "source": [
    "load_df = pd.DataFrame(data, index=[0])\n",
    "load_df = pd.read_json('testinput.json')"
   ]
  },
  {
   "cell_type": "code",
   "execution_count": 141,
   "metadata": {},
   "outputs": [],
   "source": [
    "json_2_df = load_df.loc[:,['23', '25', '1', '2', '3', '4',\n",
    "       '5', '6', '7', '8', '9', '10', '11', '12',\n",
    "       '13', '14', '15', '16', '17', '18', '19', '20',\n",
    "       '21', '26', '27', '28', '29', '30', '31',\n",
    "       '32', '33', '34', '35', '36', '37', '38', '39',\n",
    "       '40', '41', '42', '22', '24', 'total_recall'\n",
    "        ]]"
   ]
  },
  {
   "cell_type": "code",
   "execution_count": 142,
   "metadata": {},
   "outputs": [
    {
     "data": {
      "text/html": [
       "<div>\n",
       "<style scoped>\n",
       "    .dataframe tbody tr th:only-of-type {\n",
       "        vertical-align: middle;\n",
       "    }\n",
       "\n",
       "    .dataframe tbody tr th {\n",
       "        vertical-align: top;\n",
       "    }\n",
       "\n",
       "    .dataframe thead th {\n",
       "        text-align: right;\n",
       "    }\n",
       "</style>\n",
       "<table border=\"1\" class=\"dataframe\">\n",
       "  <thead>\n",
       "    <tr style=\"text-align: right;\">\n",
       "      <th></th>\n",
       "      <th>23</th>\n",
       "      <th>25</th>\n",
       "      <th>1</th>\n",
       "      <th>2</th>\n",
       "      <th>3</th>\n",
       "      <th>4</th>\n",
       "      <th>5</th>\n",
       "      <th>6</th>\n",
       "      <th>7</th>\n",
       "      <th>8</th>\n",
       "      <th>...</th>\n",
       "      <th>36</th>\n",
       "      <th>37</th>\n",
       "      <th>38</th>\n",
       "      <th>39</th>\n",
       "      <th>40</th>\n",
       "      <th>41</th>\n",
       "      <th>42</th>\n",
       "      <th>22</th>\n",
       "      <th>24</th>\n",
       "      <th>total_recall</th>\n",
       "    </tr>\n",
       "  </thead>\n",
       "  <tbody>\n",
       "    <tr>\n",
       "      <th>0</th>\n",
       "      <td>2</td>\n",
       "      <td>3</td>\n",
       "      <td>10</td>\n",
       "      <td>60</td>\n",
       "      <td>1</td>\n",
       "      <td>3</td>\n",
       "      <td>0</td>\n",
       "      <td>0</td>\n",
       "      <td>5</td>\n",
       "      <td>0</td>\n",
       "      <td>...</td>\n",
       "      <td>5</td>\n",
       "      <td>5</td>\n",
       "      <td>1</td>\n",
       "      <td>5</td>\n",
       "      <td>0</td>\n",
       "      <td>0</td>\n",
       "      <td>1</td>\n",
       "      <td>4</td>\n",
       "      <td>3</td>\n",
       "      <td>7</td>\n",
       "    </tr>\n",
       "  </tbody>\n",
       "</table>\n",
       "<p>1 rows × 43 columns</p>\n",
       "</div>"
      ],
      "text/plain": [
       "   23  25   1   2  3  4  5  6  7  8      ...       36  37  38  39  40  41  42  \\\n",
       "0   2   3  10  60  1  3  0  0  5  0      ...        5   5   1   5   0   0   1   \n",
       "\n",
       "   22  24  total_recall  \n",
       "0   4   3             7  \n",
       "\n",
       "[1 rows x 43 columns]"
      ]
     },
     "execution_count": 142,
     "metadata": {},
     "output_type": "execute_result"
    }
   ],
   "source": [
    "json_2_df"
   ]
  },
  {
   "cell_type": "code",
   "execution_count": 143,
   "metadata": {},
   "outputs": [
    {
     "data": {
      "text/html": [
       "<div>\n",
       "<style scoped>\n",
       "    .dataframe tbody tr th:only-of-type {\n",
       "        vertical-align: middle;\n",
       "    }\n",
       "\n",
       "    .dataframe tbody tr th {\n",
       "        vertical-align: top;\n",
       "    }\n",
       "\n",
       "    .dataframe thead th {\n",
       "        text-align: right;\n",
       "    }\n",
       "</style>\n",
       "<table border=\"1\" class=\"dataframe\">\n",
       "  <thead>\n",
       "    <tr style=\"text-align: right;\">\n",
       "      <th></th>\n",
       "      <th>23</th>\n",
       "      <th>25</th>\n",
       "      <th>1</th>\n",
       "      <th>2</th>\n",
       "      <th>3</th>\n",
       "      <th>4</th>\n",
       "      <th>5</th>\n",
       "      <th>6</th>\n",
       "      <th>7</th>\n",
       "      <th>8</th>\n",
       "      <th>...</th>\n",
       "      <th>36</th>\n",
       "      <th>37</th>\n",
       "      <th>38</th>\n",
       "      <th>39</th>\n",
       "      <th>40</th>\n",
       "      <th>41</th>\n",
       "      <th>42</th>\n",
       "      <th>22</th>\n",
       "      <th>24</th>\n",
       "      <th>total_recall</th>\n",
       "    </tr>\n",
       "  </thead>\n",
       "  <tbody>\n",
       "    <tr>\n",
       "      <th>0</th>\n",
       "      <td>2</td>\n",
       "      <td>3</td>\n",
       "      <td>10</td>\n",
       "      <td>60</td>\n",
       "      <td>1</td>\n",
       "      <td>3</td>\n",
       "      <td>0</td>\n",
       "      <td>0</td>\n",
       "      <td>5</td>\n",
       "      <td>0</td>\n",
       "      <td>...</td>\n",
       "      <td>5</td>\n",
       "      <td>5</td>\n",
       "      <td>1</td>\n",
       "      <td>5</td>\n",
       "      <td>0</td>\n",
       "      <td>0</td>\n",
       "      <td>1</td>\n",
       "      <td>4</td>\n",
       "      <td>3</td>\n",
       "      <td>7</td>\n",
       "    </tr>\n",
       "  </tbody>\n",
       "</table>\n",
       "<p>1 rows × 43 columns</p>\n",
       "</div>"
      ],
      "text/plain": [
       "   23  25   1   2  3  4  5  6  7  8      ...       36  37  38  39  40  41  42  \\\n",
       "0   2   3  10  60  1  3  0  0  5  0      ...        5   5   1   5   0   0   1   \n",
       "\n",
       "   22  24  total_recall  \n",
       "0   4   3             7  \n",
       "\n",
       "[1 rows x 43 columns]"
      ]
     },
     "execution_count": 143,
     "metadata": {},
     "output_type": "execute_result"
    }
   ],
   "source": [
    "json_2_df"
   ]
  },
  {
   "cell_type": "code",
   "execution_count": 144,
   "metadata": {},
   "outputs": [],
   "source": [
    "load_data_matrix = xgb.DMatrix(json_2_df)"
   ]
  },
  {
   "cell_type": "code",
   "execution_count": 145,
   "metadata": {},
   "outputs": [
    {
     "name": "stdout",
     "output_type": "stream",
     "text": [
      "[ 0.02390789]\n"
     ]
    }
   ],
   "source": [
    "res = xgb_model.predict(load_data_matrix)\n",
    "print(res)"
   ]
  },
  {
   "cell_type": "code",
   "execution_count": 146,
   "metadata": {},
   "outputs": [],
   "source": [
    "lw2009 = json_2_df['total_recall'][0] + json_2_df['23'][0] + json_2_df['24'][0]\n",
    "if lw2009 > 12:\n",
    "    lw = 0\n",
    "else:\n",
    "    lw = 1"
   ]
  },
  {
   "cell_type": "code",
   "execution_count": 147,
   "metadata": {},
   "outputs": [],
   "source": [
    "# Access info for scores\n",
    "\n",
    "i = 0\n",
    "if json_2_df['2'][0] < 50:\n",
    "    i = 1\n",
    "elif json_2_df['2'][0] >= 50 and json_2_df['2'][0] < 60:\n",
    "    i = 2\n",
    "elif json_2_df['2'][0] >= 60 and json_2_df['2'][0] < 70:\n",
    "    i = 3\n",
    "elif json_2_df['2'][0] >= 70 and json_2_df['2'][0] < 80:\n",
    "    i = 4\n",
    "elif json_2_df['2'][0] >= 80 and json_2_df['2'][0] < 90:\n",
    "    i = 5\n",
    "elif json_2_df['2'][0] >= 90 and json_2_df['2'][0] < 100:\n",
    "    i = 6\n",
    "else:\n",
    "    i = 7\n"
   ]
  },
  {
   "cell_type": "code",
   "execution_count": 148,
   "metadata": {},
   "outputs": [],
   "source": [
    "# Given an age group\n",
    "\n",
    "cogs = load_dfc.loc[load_dfc['group']==i, ['mean', '25%', '50%', '75%',  'max',]].values.tolist()[0]\n",
    "cogs.append(cog_score)\n",
    "\n",
    "phys = load_dfp.loc[load_dfp['group']==i, ['mean', '25%', '50%', '75%',  'max',]].values.tolist()[0]\n",
    "phys.append(phy_score)\n",
    "\n",
    "livs = load_dfl.loc[load_dfl['group']==i, ['mean', '25%', '50%', '75%',  'max',]].values.tolist()[0]\n",
    "livs.append(liv_score)"
   ]
  },
  {
   "cell_type": "code",
   "execution_count": 149,
   "metadata": {},
   "outputs": [
    {
     "name": "stdout",
     "output_type": "stream",
     "text": [
      "{'Predicted': 0.023907889, 'LW2009': 12, 'LWClass': 1, 'Cog': [53.44832186588921, 44.443999999999996, 59.25899999999999, 70.37, 100.0, 96.296], 'Phys': [73.86297682215744, 69.444, 75.0, 79.167, 91.667, 72.222], 'Livs': [86.83251428571428, 82.353, 88.235, 94.118, 100.0, 64.706]}\n"
     ]
    }
   ],
   "source": [
    "# Variables to pass\n",
    "results = {}\n",
    "results['Predicted'] = res[0]\n",
    "results['LW2009'] = lw2009\n",
    "results['LWClass'] = lw\n",
    "results['Cog'] = cogs\n",
    "results['Phys'] = phys\n",
    "results['Livs'] = livs\n",
    "print (results)"
   ]
  },
  {
   "cell_type": "code",
   "execution_count": 150,
   "metadata": {},
   "outputs": [
    {
     "name": "stdout",
     "output_type": "stream",
     "text": [
      "Overwriting model.py\n"
     ]
    }
   ],
   "source": [
    "%%writefile model.py\n",
    "\n",
    "import os\n",
    "import sys\n",
    "import xgboost as xgb\n",
    "import pandas as pd\n",
    "import numpy as np\n",
    "import json\n",
    "import pickle as pkl\n",
    "\n",
    "# Load model\n",
    "xgb_model = pkl.load(open('xgb_model.pkl','rb'))\n",
    "\n",
    "# Load distribution\n",
    "load_dfc = pd.read_csv('cognitive_health.csv')\n",
    "load_dfp = pd.read_csv('physical_health.csv')\n",
    "load_dfl = pd.read_csv('living_health.csv')\n",
    "\n",
    "# cognitive health \n",
    "def compute_cog(d):\n",
    "    \"\"\"\n",
    "    Args: \n",
    "    d: dict\n",
    "    \n",
    "    Returns:\n",
    "    percentage\n",
    "    \n",
    "    \"\"\"\n",
    "    accuracy=(d['22']+d['25']+d['23']+d['24'])/27\n",
    "    return round(accuracy*100, 3)\n",
    "\n",
    "# physical health\n",
    "def compute_physical(d):\n",
    "    \"\"\"\n",
    "    Args: \n",
    "    d: dic\n",
    "    \n",
    "    Returns:\n",
    "    percentage \n",
    "    \n",
    "    \"\"\"\n",
    "    # binary questions\n",
    "    binary_ques=[5, 7, 8, 10, 12, 20]\n",
    "    binary_score=[d[str(b)] for b in binary_ques].count(1)\n",
    "    if d['17']==5:\n",
    "        binary_score+=1\n",
    "        \n",
    "    # numeric questions\n",
    "    numeric_ques=[4, 6, 9, 11, 13, 14, 15, 16, 18, 21]\n",
    "    numeric_score=sum([d[str(n)] for n in numeric_ques])\n",
    "    \n",
    "    # final score\n",
    "    final_score=(binary_score+numeric_score)/72\n",
    "    return (round((1-final_score)*100, 3))\n",
    "\n",
    "# living health\n",
    "def compute_living(d):\n",
    "    \"\"\"\n",
    "    Args: \n",
    "    d: dict\n",
    "    \n",
    "    Returns:\n",
    "    percentage\n",
    "    \n",
    "    \"\"\"\n",
    "    score=0\n",
    "    score+=[d[str(k)] for k in range(26,41)].count(1)\n",
    "    if d['41']>=1:\n",
    "        score+=1\n",
    "    if d['42']!=1:\n",
    "        score+=1\n",
    "    final_score=score/17\n",
    "    return round((1-final_score)*100, 3)\n",
    "\n",
    "\n",
    "def api_predict(data):\n",
    "\n",
    "    # Transform data\n",
    "    data['22'] = data['22'][0] \n",
    "    data['25'] = data['25'][0] \n",
    "    temp = 0\n",
    "    for i in range(5):\n",
    "        if data['24'][i] == (100-47-7-i*7):\n",
    "            temp += 1\n",
    "    data['24'] = temp\n",
    "    data['total_recall'] = data['22'] + data['25']\n",
    "    \n",
    "    # Calculate scores\n",
    "    cog_score = compute_cog(data)\n",
    "    phy_score = compute_physical(data)\n",
    "    liv_score = compute_living(data)\n",
    "  \n",
    "    # Create panda\n",
    "    load_df = pd.DataFrame(data, index=[0])\n",
    "    #load_df = pd.read_json(inputfile)\n",
    "\n",
    "    \n",
    "    # Make sure order is consistent with training\n",
    "    json_2_df = load_df.loc[:,['23', '25', '1', '2', '3', '4',\n",
    "       '5', '6', '7', '8', '9', '10', '11', '12',\n",
    "       '13', '14', '15', '16', '17', '18', '19', '20',\n",
    "       '21', '26', '27', '28', '29', '30', '31',\n",
    "       '32', '33', '34', '35', '36', '37', '38', '39',\n",
    "       '40', '41', '42', '22', '24', 'total_recall'\n",
    "        ]]\n",
    "    \n",
    "    # Load data\n",
    "    load_data_matrix = xgb.DMatrix(json_2_df)\n",
    "    \n",
    "    # Run prediction\n",
    "    res = xgb_model.predict(load_data_matrix)\n",
    "    \n",
    "    # Calculate LW2009 score\n",
    "    lw2009 = json_2_df['total_recall'][0] + json_2_df['23'][0] + json_2_df['24'][0]\n",
    "    if lw2009 > 12:\n",
    "        lw = 0\n",
    "    else:\n",
    "        lw = 1\n",
    "      \n",
    "    #print ('Internal info:')\n",
    "    #print (data)\n",
    "    #print (res, lw2009, lw)\n",
    "    \n",
    "    # Add in scores\n",
    "    \n",
    "    # Access info for scores\n",
    "    i = 0\n",
    "    if json_2_df['2'][0] < 50:\n",
    "        i = 1\n",
    "    elif json_2_df['2'][0] >= 50 and json_2_df['2'][0] < 60:\n",
    "        i = 2\n",
    "    elif json_2_df['2'][0] >= 60 and json_2_df['2'][0] < 70:\n",
    "        i = 3\n",
    "    elif json_2_df['2'][0] >= 70 and json_2_df['2'][0] < 80:\n",
    "        i = 4\n",
    "    elif json_2_df['2'][0] >= 80 and json_2_df['2'][0] < 90:\n",
    "        i = 5\n",
    "    elif json_2_df['2'][0] >= 90 and json_2_df['2'][0] < 100:\n",
    "        i = 6\n",
    "    else:\n",
    "        i = 7\n",
    "        \n",
    "    # Given an age group\n",
    "\n",
    "    cogs = load_dfc.loc[load_dfc['group']==i, ['mean', '25%', '50%', '75%',  'max',]].values.tolist()[0]\n",
    "    cogs.append(cog_score)\n",
    "\n",
    "    phys = load_dfp.loc[load_dfp['group']==i, ['mean', '25%', '50%', '75%',  'max',]].values.tolist()[0]\n",
    "    phys.append(phy_score)\n",
    "\n",
    "    livs = load_dfl.loc[load_dfl['group']==i, ['mean', '25%', '50%', '75%',  'max',]].values.tolist()[0]\n",
    "    livs.append(liv_score)\n",
    "\n",
    "    # Calculate Predicted Class, using a 0.5 hurdle - may need to change\n",
    "\n",
    "    if res[0] > 0.5:\n",
    "        pred_class = 1\n",
    "    else:\n",
    "        pred_class = 0\n",
    "\n",
    "    # Calculate the Aggregate Dementia Risk Score:\n",
    "    # Score = 1 if mixed results\n",
    "    agg_score = 1\n",
    "    # Score = 2 if both dementia class\n",
    "    if pred_class == 1 & lw == 1:\n",
    "        agg_score = 2\n",
    "    # Score = 0 if both normal class\n",
    "    if pred_class ==0 & lw == 0:\n",
    "        agg_score = 0\n",
    "\n",
    "    #print(agg_score,cog_score, cogs[2], phy_score, phys[2], liv_score, livs[2])\n",
    "\n",
    "    pref_str = ','.join(map(str,[agg_score, cog_score, cogs[0], phy_score, phys[0], liv_score, livs[0]]))\n",
    "\n",
    "    original_str = '{ \"Predicted\": ' + str(res[0]) + ', \"LW2009\": ' + str(lw2009) + ', \"LWClass\": ' + str(lw) + ', \"Cog\": ' + str(cogs) + ', \"Phys\": ' + str(phys) + ', \"Livs\": ' + str(livs) + '}'\n",
    "\n",
    "    return pref_str"
   ]
  },
  {
   "cell_type": "code",
   "execution_count": 151,
   "metadata": {},
   "outputs": [],
   "source": [
    "import model"
   ]
  },
  {
   "cell_type": "code",
   "execution_count": 152,
   "metadata": {},
   "outputs": [
    {
     "data": {
      "text/plain": [
       "'1,96.296,46.42763634403966,66.667,72.34078400517353,58.824,80.62593123517999'"
      ]
     },
     "execution_count": 152,
     "metadata": {},
     "output_type": "execute_result"
    }
   ],
   "source": [
    "model.api_predict({\"1\":17,\"2\":70,\"3\":5,\"4\":1,\"5\":1,\"6\":1,\"7\":1,\"8\":1,\"9\":3,\"10\":1,\"11\":1,\"12\":1,\"13\":2,\"14\":2,\"15\":2,\"16\":3,\"17\":1,\"18\":3,\"19\":120,\"20\":5,\"21\":1,\"22\":[10,6],\"23\":1,\"ts1\":1532850133053,\"24\":[46,39,32,25,18],\"ts2\":1532850156469,\"25\":[10,6],\"26\":1,\"27\":5,\"28\":7,\"29\":6,\"30\":1,\"31\":5,\"32\":1,\"33\":5,\"34\":5,\"35\":1,\"36\":5,\"37\":1,\"38\":5,\"39\":5,\"40\":1,\"41\":1,\"42\":1})"
   ]
  },
  {
   "cell_type": "code",
   "execution_count": null,
   "metadata": {},
   "outputs": [],
   "source": []
  }
 ],
 "metadata": {
  "kernelspec": {
   "display_name": "Python 3",
   "language": "python",
   "name": "python3"
  },
  "language_info": {
   "codemirror_mode": {
    "name": "ipython",
    "version": 3
   },
   "file_extension": ".py",
   "mimetype": "text/x-python",
   "name": "python",
   "nbconvert_exporter": "python",
   "pygments_lexer": "ipython3",
   "version": "3.6.5"
  }
 },
 "nbformat": 4,
 "nbformat_minor": 2
}
